{
 "cells": [
  {
   "cell_type": "code",
   "execution_count": 1,
   "metadata": {
    "colab": {},
    "colab_type": "code",
    "id": "DGnTnrkPM5vx"
   },
   "outputs": [],
   "source": [
    "import pandas as pd\n",
    "import numpy as np\n",
    "import matplotlib.pyplot as plt\n",
    "%matplotlib inline"
   ]
  },
  {
   "cell_type": "code",
   "execution_count": 2,
   "metadata": {
    "colab": {},
    "colab_type": "code",
    "id": "qZC3EyAOM6f3"
   },
   "outputs": [],
   "source": [
    "train = pd.read_csv('Forest_Cover_participants_Data/train.csv')\n",
    "test = pd.read_csv('Forest_Cover_participants_Data/test.csv')\n",
    "sub = pd.read_csv('Forest_Cover_participants_Data/sample_submission.csv')"
   ]
  },
  {
   "cell_type": "code",
   "execution_count": 3,
   "metadata": {
    "colab": {
     "base_uri": "https://localhost:8080/",
     "height": 210
    },
    "colab_type": "code",
    "id": "-XzdyhBt19DN",
    "outputId": "7c108fd1-6a9c-41bb-c5ab-e56c41fde6f8"
   },
   "outputs": [
    {
     "data": {
      "text/html": [
       "<div>\n",
       "<style scoped>\n",
       "    .dataframe tbody tr th:only-of-type {\n",
       "        vertical-align: middle;\n",
       "    }\n",
       "\n",
       "    .dataframe tbody tr th {\n",
       "        vertical-align: top;\n",
       "    }\n",
       "\n",
       "    .dataframe thead th {\n",
       "        text-align: right;\n",
       "    }\n",
       "</style>\n",
       "<table border=\"1\" class=\"dataframe\">\n",
       "  <thead>\n",
       "    <tr style=\"text-align: right;\">\n",
       "      <th></th>\n",
       "      <th>Elevation(meters)</th>\n",
       "      <th>Aspect(degrees)</th>\n",
       "      <th>Slope(degrees)</th>\n",
       "      <th>Horizontal_Distance_To_Hydrology(meters)</th>\n",
       "      <th>Vertical_Distance_To_Hydrology(meters)</th>\n",
       "      <th>Horizontal_Distance_To_Roadways(meters)</th>\n",
       "      <th>Hillshade_9am</th>\n",
       "      <th>Hillshade_Noon</th>\n",
       "      <th>Hillshade_3pm</th>\n",
       "      <th>Horizontal_Distance_To_Fire_Points(meters)</th>\n",
       "      <th>...</th>\n",
       "      <th>Soil_Type_32</th>\n",
       "      <th>Soil_Type_33</th>\n",
       "      <th>Soil_Type_34</th>\n",
       "      <th>Soil_Type_35</th>\n",
       "      <th>Soil_Type_36</th>\n",
       "      <th>Soil_Type_37</th>\n",
       "      <th>Soil_Type_38</th>\n",
       "      <th>Soil_Type_39</th>\n",
       "      <th>Soil_Type_40</th>\n",
       "      <th>Cover_Type</th>\n",
       "    </tr>\n",
       "  </thead>\n",
       "  <tbody>\n",
       "    <tr>\n",
       "      <th>29045</th>\n",
       "      <td>2701</td>\n",
       "      <td>149</td>\n",
       "      <td>1</td>\n",
       "      <td>0</td>\n",
       "      <td>0</td>\n",
       "      <td>2207</td>\n",
       "      <td>221</td>\n",
       "      <td>238</td>\n",
       "      <td>154</td>\n",
       "      <td>607</td>\n",
       "      <td>...</td>\n",
       "      <td>0</td>\n",
       "      <td>0</td>\n",
       "      <td>0</td>\n",
       "      <td>0</td>\n",
       "      <td>0</td>\n",
       "      <td>0</td>\n",
       "      <td>0</td>\n",
       "      <td>0</td>\n",
       "      <td>0</td>\n",
       "      <td>5</td>\n",
       "    </tr>\n",
       "    <tr>\n",
       "      <th>29046</th>\n",
       "      <td>2929</td>\n",
       "      <td>129</td>\n",
       "      <td>10</td>\n",
       "      <td>150</td>\n",
       "      <td>36</td>\n",
       "      <td>351</td>\n",
       "      <td>237</td>\n",
       "      <td>234</td>\n",
       "      <td>127</td>\n",
       "      <td>297</td>\n",
       "      <td>...</td>\n",
       "      <td>1</td>\n",
       "      <td>0</td>\n",
       "      <td>0</td>\n",
       "      <td>0</td>\n",
       "      <td>0</td>\n",
       "      <td>0</td>\n",
       "      <td>0</td>\n",
       "      <td>0</td>\n",
       "      <td>0</td>\n",
       "      <td>5</td>\n",
       "    </tr>\n",
       "    <tr>\n",
       "      <th>29047</th>\n",
       "      <td>3034</td>\n",
       "      <td>294</td>\n",
       "      <td>17</td>\n",
       "      <td>212</td>\n",
       "      <td>46</td>\n",
       "      <td>2671</td>\n",
       "      <td>172</td>\n",
       "      <td>234</td>\n",
       "      <td>202</td>\n",
       "      <td>1717</td>\n",
       "      <td>...</td>\n",
       "      <td>1</td>\n",
       "      <td>0</td>\n",
       "      <td>0</td>\n",
       "      <td>0</td>\n",
       "      <td>0</td>\n",
       "      <td>0</td>\n",
       "      <td>0</td>\n",
       "      <td>0</td>\n",
       "      <td>0</td>\n",
       "      <td>7</td>\n",
       "    </tr>\n",
       "    <tr>\n",
       "      <th>29048</th>\n",
       "      <td>2730</td>\n",
       "      <td>122</td>\n",
       "      <td>9</td>\n",
       "      <td>360</td>\n",
       "      <td>106</td>\n",
       "      <td>1560</td>\n",
       "      <td>236</td>\n",
       "      <td>233</td>\n",
       "      <td>128</td>\n",
       "      <td>514</td>\n",
       "      <td>...</td>\n",
       "      <td>0</td>\n",
       "      <td>0</td>\n",
       "      <td>0</td>\n",
       "      <td>0</td>\n",
       "      <td>0</td>\n",
       "      <td>0</td>\n",
       "      <td>0</td>\n",
       "      <td>0</td>\n",
       "      <td>0</td>\n",
       "      <td>5</td>\n",
       "    </tr>\n",
       "    <tr>\n",
       "      <th>29049</th>\n",
       "      <td>3146</td>\n",
       "      <td>247</td>\n",
       "      <td>11</td>\n",
       "      <td>339</td>\n",
       "      <td>38</td>\n",
       "      <td>994</td>\n",
       "      <td>198</td>\n",
       "      <td>248</td>\n",
       "      <td>189</td>\n",
       "      <td>1237</td>\n",
       "      <td>...</td>\n",
       "      <td>0</td>\n",
       "      <td>0</td>\n",
       "      <td>0</td>\n",
       "      <td>0</td>\n",
       "      <td>0</td>\n",
       "      <td>0</td>\n",
       "      <td>0</td>\n",
       "      <td>0</td>\n",
       "      <td>0</td>\n",
       "      <td>5</td>\n",
       "    </tr>\n",
       "  </tbody>\n",
       "</table>\n",
       "<p>5 rows × 55 columns</p>\n",
       "</div>"
      ],
      "text/plain": [
       "       Elevation(meters)  Aspect(degrees)  Slope(degrees)  \\\n",
       "29045               2701              149               1   \n",
       "29046               2929              129              10   \n",
       "29047               3034              294              17   \n",
       "29048               2730              122               9   \n",
       "29049               3146              247              11   \n",
       "\n",
       "       Horizontal_Distance_To_Hydrology(meters)  \\\n",
       "29045                                         0   \n",
       "29046                                       150   \n",
       "29047                                       212   \n",
       "29048                                       360   \n",
       "29049                                       339   \n",
       "\n",
       "       Vertical_Distance_To_Hydrology(meters)  \\\n",
       "29045                                       0   \n",
       "29046                                      36   \n",
       "29047                                      46   \n",
       "29048                                     106   \n",
       "29049                                      38   \n",
       "\n",
       "       Horizontal_Distance_To_Roadways(meters)  Hillshade_9am  Hillshade_Noon  \\\n",
       "29045                                     2207            221             238   \n",
       "29046                                      351            237             234   \n",
       "29047                                     2671            172             234   \n",
       "29048                                     1560            236             233   \n",
       "29049                                      994            198             248   \n",
       "\n",
       "       Hillshade_3pm  Horizontal_Distance_To_Fire_Points(meters)  ...  \\\n",
       "29045            154                                         607  ...   \n",
       "29046            127                                         297  ...   \n",
       "29047            202                                        1717  ...   \n",
       "29048            128                                         514  ...   \n",
       "29049            189                                        1237  ...   \n",
       "\n",
       "       Soil_Type_32  Soil_Type_33  Soil_Type_34  Soil_Type_35  Soil_Type_36  \\\n",
       "29045             0             0             0             0             0   \n",
       "29046             1             0             0             0             0   \n",
       "29047             1             0             0             0             0   \n",
       "29048             0             0             0             0             0   \n",
       "29049             0             0             0             0             0   \n",
       "\n",
       "       Soil_Type_37  Soil_Type_38  Soil_Type_39  Soil_Type_40  Cover_Type  \n",
       "29045             0             0             0             0           5  \n",
       "29046             0             0             0             0           5  \n",
       "29047             0             0             0             0           7  \n",
       "29048             0             0             0             0           5  \n",
       "29049             0             0             0             0           5  \n",
       "\n",
       "[5 rows x 55 columns]"
      ]
     },
     "execution_count": 3,
     "metadata": {},
     "output_type": "execute_result"
    }
   ],
   "source": [
    "train.tail(5)"
   ]
  },
  {
   "cell_type": "code",
   "execution_count": 4,
   "metadata": {
    "colab": {
     "base_uri": "https://localhost:8080/",
     "height": 210
    },
    "colab_type": "code",
    "id": "ISMwqie81_dQ",
    "outputId": "b923dd8d-6740-42c1-a5f5-143251f6f504"
   },
   "outputs": [
    {
     "data": {
      "text/html": [
       "<div>\n",
       "<style scoped>\n",
       "    .dataframe tbody tr th:only-of-type {\n",
       "        vertical-align: middle;\n",
       "    }\n",
       "\n",
       "    .dataframe tbody tr th {\n",
       "        vertical-align: top;\n",
       "    }\n",
       "\n",
       "    .dataframe thead th {\n",
       "        text-align: right;\n",
       "    }\n",
       "</style>\n",
       "<table border=\"1\" class=\"dataframe\">\n",
       "  <thead>\n",
       "    <tr style=\"text-align: right;\">\n",
       "      <th></th>\n",
       "      <th>Elevation(meters)</th>\n",
       "      <th>Aspect(degrees)</th>\n",
       "      <th>Slope(degrees)</th>\n",
       "      <th>Horizontal_Distance_To_Hydrology(meters)</th>\n",
       "      <th>Vertical_Distance_To_Hydrology(meters)</th>\n",
       "      <th>Horizontal_Distance_To_Roadways(meters)</th>\n",
       "      <th>Hillshade_9am</th>\n",
       "      <th>Hillshade_Noon</th>\n",
       "      <th>Hillshade_3pm</th>\n",
       "      <th>Horizontal_Distance_To_Fire_Points(meters)</th>\n",
       "      <th>...</th>\n",
       "      <th>Soil_Type_31</th>\n",
       "      <th>Soil_Type_32</th>\n",
       "      <th>Soil_Type_33</th>\n",
       "      <th>Soil_Type_34</th>\n",
       "      <th>Soil_Type_35</th>\n",
       "      <th>Soil_Type_36</th>\n",
       "      <th>Soil_Type_37</th>\n",
       "      <th>Soil_Type_38</th>\n",
       "      <th>Soil_Type_39</th>\n",
       "      <th>Soil_Type_40</th>\n",
       "    </tr>\n",
       "  </thead>\n",
       "  <tbody>\n",
       "    <tr>\n",
       "      <th>0</th>\n",
       "      <td>2798</td>\n",
       "      <td>151</td>\n",
       "      <td>12</td>\n",
       "      <td>60</td>\n",
       "      <td>-5</td>\n",
       "      <td>3373</td>\n",
       "      <td>236</td>\n",
       "      <td>240</td>\n",
       "      <td>132</td>\n",
       "      <td>6083</td>\n",
       "      <td>...</td>\n",
       "      <td>0</td>\n",
       "      <td>0</td>\n",
       "      <td>0</td>\n",
       "      <td>0</td>\n",
       "      <td>0</td>\n",
       "      <td>0</td>\n",
       "      <td>0</td>\n",
       "      <td>0</td>\n",
       "      <td>0</td>\n",
       "      <td>0</td>\n",
       "    </tr>\n",
       "    <tr>\n",
       "      <th>1</th>\n",
       "      <td>3582</td>\n",
       "      <td>96</td>\n",
       "      <td>34</td>\n",
       "      <td>420</td>\n",
       "      <td>80</td>\n",
       "      <td>2579</td>\n",
       "      <td>250</td>\n",
       "      <td>170</td>\n",
       "      <td>19</td>\n",
       "      <td>3771</td>\n",
       "      <td>...</td>\n",
       "      <td>0</td>\n",
       "      <td>0</td>\n",
       "      <td>0</td>\n",
       "      <td>0</td>\n",
       "      <td>0</td>\n",
       "      <td>0</td>\n",
       "      <td>0</td>\n",
       "      <td>0</td>\n",
       "      <td>0</td>\n",
       "      <td>1</td>\n",
       "    </tr>\n",
       "    <tr>\n",
       "      <th>2</th>\n",
       "      <td>2619</td>\n",
       "      <td>171</td>\n",
       "      <td>12</td>\n",
       "      <td>270</td>\n",
       "      <td>-52</td>\n",
       "      <td>2764</td>\n",
       "      <td>228</td>\n",
       "      <td>245</td>\n",
       "      <td>147</td>\n",
       "      <td>2008</td>\n",
       "      <td>...</td>\n",
       "      <td>0</td>\n",
       "      <td>0</td>\n",
       "      <td>0</td>\n",
       "      <td>0</td>\n",
       "      <td>0</td>\n",
       "      <td>0</td>\n",
       "      <td>0</td>\n",
       "      <td>0</td>\n",
       "      <td>0</td>\n",
       "      <td>0</td>\n",
       "    </tr>\n",
       "    <tr>\n",
       "      <th>3</th>\n",
       "      <td>2897</td>\n",
       "      <td>155</td>\n",
       "      <td>5</td>\n",
       "      <td>210</td>\n",
       "      <td>14</td>\n",
       "      <td>2437</td>\n",
       "      <td>226</td>\n",
       "      <td>240</td>\n",
       "      <td>149</td>\n",
       "      <td>2455</td>\n",
       "      <td>...</td>\n",
       "      <td>0</td>\n",
       "      <td>0</td>\n",
       "      <td>0</td>\n",
       "      <td>0</td>\n",
       "      <td>0</td>\n",
       "      <td>0</td>\n",
       "      <td>0</td>\n",
       "      <td>0</td>\n",
       "      <td>0</td>\n",
       "      <td>0</td>\n",
       "    </tr>\n",
       "    <tr>\n",
       "      <th>4</th>\n",
       "      <td>2845</td>\n",
       "      <td>32</td>\n",
       "      <td>12</td>\n",
       "      <td>309</td>\n",
       "      <td>47</td>\n",
       "      <td>2778</td>\n",
       "      <td>217</td>\n",
       "      <td>213</td>\n",
       "      <td>129</td>\n",
       "      <td>42</td>\n",
       "      <td>...</td>\n",
       "      <td>0</td>\n",
       "      <td>0</td>\n",
       "      <td>0</td>\n",
       "      <td>0</td>\n",
       "      <td>0</td>\n",
       "      <td>0</td>\n",
       "      <td>0</td>\n",
       "      <td>0</td>\n",
       "      <td>0</td>\n",
       "      <td>0</td>\n",
       "    </tr>\n",
       "  </tbody>\n",
       "</table>\n",
       "<p>5 rows × 54 columns</p>\n",
       "</div>"
      ],
      "text/plain": [
       "   Elevation(meters)  Aspect(degrees)  Slope(degrees)  \\\n",
       "0               2798              151              12   \n",
       "1               3582               96              34   \n",
       "2               2619              171              12   \n",
       "3               2897              155               5   \n",
       "4               2845               32              12   \n",
       "\n",
       "   Horizontal_Distance_To_Hydrology(meters)  \\\n",
       "0                                        60   \n",
       "1                                       420   \n",
       "2                                       270   \n",
       "3                                       210   \n",
       "4                                       309   \n",
       "\n",
       "   Vertical_Distance_To_Hydrology(meters)  \\\n",
       "0                                      -5   \n",
       "1                                      80   \n",
       "2                                     -52   \n",
       "3                                      14   \n",
       "4                                      47   \n",
       "\n",
       "   Horizontal_Distance_To_Roadways(meters)  Hillshade_9am  Hillshade_Noon  \\\n",
       "0                                     3373            236             240   \n",
       "1                                     2579            250             170   \n",
       "2                                     2764            228             245   \n",
       "3                                     2437            226             240   \n",
       "4                                     2778            217             213   \n",
       "\n",
       "   Hillshade_3pm  Horizontal_Distance_To_Fire_Points(meters)  ...  \\\n",
       "0            132                                        6083  ...   \n",
       "1             19                                        3771  ...   \n",
       "2            147                                        2008  ...   \n",
       "3            149                                        2455  ...   \n",
       "4            129                                          42  ...   \n",
       "\n",
       "   Soil_Type_31  Soil_Type_32  Soil_Type_33  Soil_Type_34  Soil_Type_35  \\\n",
       "0             0             0             0             0             0   \n",
       "1             0             0             0             0             0   \n",
       "2             0             0             0             0             0   \n",
       "3             0             0             0             0             0   \n",
       "4             0             0             0             0             0   \n",
       "\n",
       "   Soil_Type_36  Soil_Type_37  Soil_Type_38  Soil_Type_39  Soil_Type_40  \n",
       "0             0             0             0             0             0  \n",
       "1             0             0             0             0             1  \n",
       "2             0             0             0             0             0  \n",
       "3             0             0             0             0             0  \n",
       "4             0             0             0             0             0  \n",
       "\n",
       "[5 rows x 54 columns]"
      ]
     },
     "execution_count": 4,
     "metadata": {},
     "output_type": "execute_result"
    }
   ],
   "source": [
    "test.head(5)"
   ]
  },
  {
   "cell_type": "code",
   "execution_count": 5,
   "metadata": {
    "colab": {
     "base_uri": "https://localhost:8080/",
     "height": 1000
    },
    "colab_type": "code",
    "id": "K-DIS20_8WRc",
    "outputId": "a82d1430-0f66-49a5-a084-0f20efcb403d"
   },
   "outputs": [
    {
     "data": {
      "text/plain": [
       "(Elevation(meters)                             0\n",
       " Aspect(degrees)                               0\n",
       " Slope(degrees)                                0\n",
       " Horizontal_Distance_To_Hydrology(meters)      0\n",
       " Vertical_Distance_To_Hydrology(meters)        0\n",
       " Horizontal_Distance_To_Roadways(meters)       0\n",
       " Hillshade_9am                                 0\n",
       " Hillshade_Noon                                0\n",
       " Hillshade_3pm                                 0\n",
       " Horizontal_Distance_To_Fire_Points(meters)    0\n",
       " Wilderness_Area_1                             0\n",
       " Wilderness_Area_2                             0\n",
       " Wilderness_Area_3                             0\n",
       " Wilderness_Area_4                             0\n",
       " Soil_Type_1                                   0\n",
       " Soil_Type_2                                   0\n",
       " Soil_Type_3                                   0\n",
       " Soil_Type_4                                   0\n",
       " Soil_Type_5                                   0\n",
       " Soil_Type_6                                   0\n",
       " Soil_Type_7                                   0\n",
       " Soil_Type_8                                   0\n",
       " Soil_Type_9                                   0\n",
       " Soil_Type_10                                  0\n",
       " Soil_Type_11                                  0\n",
       " Soil_Type_12                                  0\n",
       " Soil_Type_13                                  0\n",
       " Soil_Type_14                                  0\n",
       " Soil_Type_15                                  0\n",
       " Soil_Type_16                                  0\n",
       " Soil_Type_17                                  0\n",
       " Soil_Type_18                                  0\n",
       " Soil_Type_19                                  0\n",
       " Soil_Type_20                                  0\n",
       " Soil_Type_21                                  0\n",
       " Soil_Type_22                                  0\n",
       " Soil_Type_23                                  0\n",
       " Soil_Type_24                                  0\n",
       " Soil_Type_25                                  0\n",
       " Soil_Type_26                                  0\n",
       " Soil_Type_27                                  0\n",
       " Soil_Type_28                                  0\n",
       " Soil_Type_29                                  0\n",
       " Soil_Type_30                                  0\n",
       " Soil_Type_31                                  0\n",
       " Soil_Type_32                                  0\n",
       " Soil_Type_33                                  0\n",
       " Soil_Type_34                                  0\n",
       " Soil_Type_35                                  0\n",
       " Soil_Type_36                                  0\n",
       " Soil_Type_37                                  0\n",
       " Soil_Type_38                                  0\n",
       " Soil_Type_39                                  0\n",
       " Soil_Type_40                                  0\n",
       " Cover_Type                                    0\n",
       " dtype: int64,\n",
       " Elevation(meters)                             0\n",
       " Aspect(degrees)                               0\n",
       " Slope(degrees)                                0\n",
       " Horizontal_Distance_To_Hydrology(meters)      0\n",
       " Vertical_Distance_To_Hydrology(meters)        0\n",
       " Horizontal_Distance_To_Roadways(meters)       0\n",
       " Hillshade_9am                                 0\n",
       " Hillshade_Noon                                0\n",
       " Hillshade_3pm                                 0\n",
       " Horizontal_Distance_To_Fire_Points(meters)    0\n",
       " Wilderness_Area_1                             0\n",
       " Wilderness_Area_2                             0\n",
       " Wilderness_Area_3                             0\n",
       " Wilderness_Area_4                             0\n",
       " Soil_Type_1                                   0\n",
       " Soil_Type_2                                   0\n",
       " Soil_Type_3                                   0\n",
       " Soil_Type_4                                   0\n",
       " Soil_Type_5                                   0\n",
       " Soil_Type_6                                   0\n",
       " Soil_Type_7                                   0\n",
       " Soil_Type_8                                   0\n",
       " Soil_Type_9                                   0\n",
       " Soil_Type_10                                  0\n",
       " Soil_Type_11                                  0\n",
       " Soil_Type_12                                  0\n",
       " Soil_Type_13                                  0\n",
       " Soil_Type_14                                  0\n",
       " Soil_Type_15                                  0\n",
       " Soil_Type_16                                  0\n",
       " Soil_Type_17                                  0\n",
       " Soil_Type_18                                  0\n",
       " Soil_Type_19                                  0\n",
       " Soil_Type_20                                  0\n",
       " Soil_Type_21                                  0\n",
       " Soil_Type_22                                  0\n",
       " Soil_Type_23                                  0\n",
       " Soil_Type_24                                  0\n",
       " Soil_Type_25                                  0\n",
       " Soil_Type_26                                  0\n",
       " Soil_Type_27                                  0\n",
       " Soil_Type_28                                  0\n",
       " Soil_Type_29                                  0\n",
       " Soil_Type_30                                  0\n",
       " Soil_Type_31                                  0\n",
       " Soil_Type_32                                  0\n",
       " Soil_Type_33                                  0\n",
       " Soil_Type_34                                  0\n",
       " Soil_Type_35                                  0\n",
       " Soil_Type_36                                  0\n",
       " Soil_Type_37                                  0\n",
       " Soil_Type_38                                  0\n",
       " Soil_Type_39                                  0\n",
       " Soil_Type_40                                  0\n",
       " dtype: int64,\n",
       " (29050, 55),\n",
       " (551962, 54),\n",
       " Elevation(meters)                             int64\n",
       " Aspect(degrees)                               int64\n",
       " Slope(degrees)                                int64\n",
       " Horizontal_Distance_To_Hydrology(meters)      int64\n",
       " Vertical_Distance_To_Hydrology(meters)        int64\n",
       " Horizontal_Distance_To_Roadways(meters)       int64\n",
       " Hillshade_9am                                 int64\n",
       " Hillshade_Noon                                int64\n",
       " Hillshade_3pm                                 int64\n",
       " Horizontal_Distance_To_Fire_Points(meters)    int64\n",
       " Wilderness_Area_1                             int64\n",
       " Wilderness_Area_2                             int64\n",
       " Wilderness_Area_3                             int64\n",
       " Wilderness_Area_4                             int64\n",
       " Soil_Type_1                                   int64\n",
       " Soil_Type_2                                   int64\n",
       " Soil_Type_3                                   int64\n",
       " Soil_Type_4                                   int64\n",
       " Soil_Type_5                                   int64\n",
       " Soil_Type_6                                   int64\n",
       " Soil_Type_7                                   int64\n",
       " Soil_Type_8                                   int64\n",
       " Soil_Type_9                                   int64\n",
       " Soil_Type_10                                  int64\n",
       " Soil_Type_11                                  int64\n",
       " Soil_Type_12                                  int64\n",
       " Soil_Type_13                                  int64\n",
       " Soil_Type_14                                  int64\n",
       " Soil_Type_15                                  int64\n",
       " Soil_Type_16                                  int64\n",
       " Soil_Type_17                                  int64\n",
       " Soil_Type_18                                  int64\n",
       " Soil_Type_19                                  int64\n",
       " Soil_Type_20                                  int64\n",
       " Soil_Type_21                                  int64\n",
       " Soil_Type_22                                  int64\n",
       " Soil_Type_23                                  int64\n",
       " Soil_Type_24                                  int64\n",
       " Soil_Type_25                                  int64\n",
       " Soil_Type_26                                  int64\n",
       " Soil_Type_27                                  int64\n",
       " Soil_Type_28                                  int64\n",
       " Soil_Type_29                                  int64\n",
       " Soil_Type_30                                  int64\n",
       " Soil_Type_31                                  int64\n",
       " Soil_Type_32                                  int64\n",
       " Soil_Type_33                                  int64\n",
       " Soil_Type_34                                  int64\n",
       " Soil_Type_35                                  int64\n",
       " Soil_Type_36                                  int64\n",
       " Soil_Type_37                                  int64\n",
       " Soil_Type_38                                  int64\n",
       " Soil_Type_39                                  int64\n",
       " Soil_Type_40                                  int64\n",
       " Cover_Type                                    int64\n",
       " dtype: object)"
      ]
     },
     "execution_count": 5,
     "metadata": {},
     "output_type": "execute_result"
    }
   ],
   "source": [
    "train.isnull().sum(),test.isnull().sum(),train.shape,test.shape,train.dtypes"
   ]
  },
  {
   "cell_type": "code",
   "execution_count": 6,
   "metadata": {
    "colab": {},
    "colab_type": "code",
    "id": "e0ynB_UV9lqU"
   },
   "outputs": [],
   "source": [
    "import warnings\n",
    "\n",
    "warnings.simplefilter(action='ignore', category=FutureWarning)"
   ]
  },
  {
   "cell_type": "code",
   "execution_count": 7,
   "metadata": {
    "colab": {
     "base_uri": "https://localhost:8080/",
     "height": 296
    },
    "colab_type": "code",
    "id": "TALITFXI-xld",
    "outputId": "ca4fb20a-5b7c-43ba-9644-7ff4709eeb61"
   },
   "outputs": [
    {
     "data": {
      "text/plain": [
       "<matplotlib.axes._subplots.AxesSubplot at 0x111981a4948>"
      ]
     },
     "execution_count": 7,
     "metadata": {},
     "output_type": "execute_result"
    },
    {
     "data": {
      "image/png": "[encoded data removed]",
      "text/plain": [
       "<Figure size 432x288 with 1 Axes>"
      ]
     },
     "metadata": {
      "needs_background": "light"
     },
     "output_type": "display_data"
    }
   ],
   "source": [
    "train['Cover_Type']=train['Cover_Type']-1\n",
    "import seaborn as sns\n",
    "sns.countplot(train['Cover_Type'])\n"
   ]
  },
  {
   "cell_type": "code",
   "execution_count": 8,
   "metadata": {
    "colab": {},
    "colab_type": "code",
    "id": "Iw1zxTgT9tNu"
   },
   "outputs": [],
   "source": [
    "train_df=train\n",
    "test_df=test"
   ]
  },
  {
   "cell_type": "code",
   "execution_count": 9,
   "metadata": {
    "colab": {},
    "colab_type": "code",
    "id": "Iw4PU3ya9vfq"
   },
   "outputs": [],
   "source": [
    "X = train_df.drop(labels=['Cover_Type'], axis=1)\n",
    "y = train_df['Cover_Type'].values"
   ]
  },
  {
   "cell_type": "code",
   "execution_count": 10,
   "metadata": {
    "colab": {},
    "colab_type": "code",
    "id": "Eobsol9q-OiG"
   },
   "outputs": [],
   "source": [
    "from sklearn.model_selection import train_test_split\n",
    "X_train, X_cv, y_train, y_cv = train_test_split(X, y, test_size=0.15, random_state=42, stratify=y)"
   ]
  },
  {
   "cell_type": "code",
   "execution_count": 11,
   "metadata": {
    "colab": {
     "base_uri": "https://localhost:8080/",
     "height": 33
    },
    "colab_type": "code",
    "id": "OgQNrL-R-RTn",
    "outputId": "6914640f-7b9b-4f9b-eb50-f906f6bd4671"
   },
   "outputs": [
    {
     "data": {
      "text/plain": [
       "((24692, 54), (24692,), (4358, 54), (4358,))"
      ]
     },
     "execution_count": 11,
     "metadata": {},
     "output_type": "execute_result"
    }
   ],
   "source": [
    "X_train.shape, y_train.shape, X_cv.shape, y_cv.shape"
   ]
  },
  {
   "cell_type": "code",
   "execution_count": 12,
   "metadata": {
    "colab": {},
    "colab_type": "code",
    "id": "aYPY-pxp-Tf8"
   },
   "outputs": [],
   "source": [
    "from sklearn.metrics import log_loss"
   ]
  },
  {
   "cell_type": "code",
   "execution_count": 13,
   "metadata": {
    "colab": {
     "base_uri": "https://localhost:8080/",
     "height": 438
    },
    "colab_type": "code",
    "id": "cqWlXGY9-V2M",
    "outputId": "b8c5e017-727d-4387-9013-ad7d6a76be97"
   },
   "outputs": [
    {
     "name": "stderr",
     "output_type": "stream",
     "text": [
      "C:\\Users\\kesha\\Anaconda3\\lib\\site-packages\\lightgbm\\engine.py:148: UserWarning: Found `num_iterations` in params. Will use it instead of argument\n",
      "  warnings.warn(\"Found `{}` in params. Will use it instead of argument\".format(alias))\n"
     ]
    },
    {
     "name": "stdout",
     "output_type": "stream",
     "text": [
      "Training until validation scores don't improve for 200 rounds\n",
      "[100]\tvalid_0's multi_logloss: 0.37384\n",
      "[200]\tvalid_0's multi_logloss: 0.346236\n",
      "[300]\tvalid_0's multi_logloss: 0.338411\n",
      "[400]\tvalid_0's multi_logloss: 0.336119\n",
      "[500]\tvalid_0's multi_logloss: 0.337209\n",
      "[600]\tvalid_0's multi_logloss: 0.341134\n",
      "Early stopping, best iteration is:\n",
      "[452]\tvalid_0's multi_logloss: 0.336052\n"
     ]
    }
   ],
   "source": [
    "import lightgbm as lgb\n",
    "train_data = lgb.Dataset(X_train, label=y_train)\n",
    "test_data = lgb.Dataset(X_cv, label=y_cv)\n",
    "\n",
    "param = {'objective': 'multiclass',\n",
    "         'num_class': 7,\n",
    "         'boosting': 'gbdt',  \n",
    "         'metric': 'multi_logloss',\n",
    "         'learning_rate': 0.1, \n",
    "         'num_iterations': 2000,\n",
    "         'num_leaves': 100,\n",
    "         'max_depth': -1,\n",
    "         'min_data_in_leaf': 15,\n",
    "         'bagging_fraction':0.9,\n",
    "         'bagging_freq': 1,\n",
    "         'feature_fraction': 0.7,\n",
    "         'lambda_l2': 0.8,\n",
    "         'min_data_per_group': 75,\n",
    "         'max_bin': 255,\n",
    "         'is_unbalance':True\n",
    "         }\n",
    "\n",
    "clf = lgb.train(params=param, \n",
    "                early_stopping_rounds=200,\n",
    "                verbose_eval=100,\n",
    "                train_set=train_data,\n",
    "                valid_sets=[test_data])\n",
    "\n",
    "y_pred = clf.predict(X_cv)"
   ]
  },
  {
   "cell_type": "code",
   "execution_count": 14,
   "metadata": {
    "colab": {
     "base_uri": "https://localhost:8080/",
     "height": 33
    },
    "colab_type": "code",
    "id": "ZVcuB-tU-cUm",
    "outputId": "8418f363-508c-454a-a008-2d4a307252bc"
   },
   "outputs": [
    {
     "data": {
      "text/plain": [
       "0.3360517917131361"
      ]
     },
     "execution_count": 14,
     "metadata": {},
     "output_type": "execute_result"
    }
   ],
   "source": [
    "log_loss(y_cv, y_pred)"
   ]
  },
  {
   "cell_type": "code",
   "execution_count": 15,
   "metadata": {
    "colab": {
     "base_uri": "https://localhost:8080/",
     "height": 1000
    },
    "colab_type": "code",
    "id": "eTRUr1L4_C1S",
    "outputId": "ed09d42d-6a11-4241-d1d0-85a9cf3f74e3"
   },
   "outputs": [
    {
     "data": {
      "image/png": "[encoded data removed]",
      "text/plain": [
       "<Figure size 1440x1440 with 1 Axes>"
      ]
     },
     "metadata": {
      "needs_background": "light"
     },
     "output_type": "display_data"
    }
   ],
   "source": [
    "feature_imp = pd.DataFrame(sorted(zip(clf.feature_importance(), X.columns), reverse=True)[:], columns=['Value','Feature'])\n",
    "plt.figure(figsize=(20,20))\n",
    "sns.barplot(x=\"Value\", y=\"Feature\", data=feature_imp.sort_values(by=\"Value\", ascending=False))\n",
    "plt.title('LightGBM Features')\n",
    "plt.tight_layout()\n",
    "plt.show()"
   ]
  },
  {
   "cell_type": "code",
   "execution_count": 16,
   "metadata": {
    "colab": {
     "base_uri": "https://localhost:8080/",
     "height": 1000
    },
    "colab_type": "code",
    "id": "YAjNG7HG_y1N",
    "outputId": "b49a127a-6509-4548-8a48-1d6541b7bf02"
   },
   "outputs": [
    {
     "data": {
      "text/html": [
       "<div>\n",
       "<style scoped>\n",
       "    .dataframe tbody tr th:only-of-type {\n",
       "        vertical-align: middle;\n",
       "    }\n",
       "\n",
       "    .dataframe tbody tr th {\n",
       "        vertical-align: top;\n",
       "    }\n",
       "\n",
       "    .dataframe thead th {\n",
       "        text-align: right;\n",
       "    }\n",
       "</style>\n",
       "<table border=\"1\" class=\"dataframe\">\n",
       "  <thead>\n",
       "    <tr style=\"text-align: right;\">\n",
       "      <th></th>\n",
       "      <th>Value</th>\n",
       "      <th>Feature</th>\n",
       "    </tr>\n",
       "  </thead>\n",
       "  <tbody>\n",
       "    <tr>\n",
       "      <th>0</th>\n",
       "      <td>39518</td>\n",
       "      <td>Horizontal_Distance_To_Fire_Points(meters)</td>\n",
       "    </tr>\n",
       "    <tr>\n",
       "      <th>1</th>\n",
       "      <td>37756</td>\n",
       "      <td>Horizontal_Distance_To_Roadways(meters)</td>\n",
       "    </tr>\n",
       "    <tr>\n",
       "      <th>2</th>\n",
       "      <td>31627</td>\n",
       "      <td>Elevation(meters)</td>\n",
       "    </tr>\n",
       "    <tr>\n",
       "      <th>3</th>\n",
       "      <td>27401</td>\n",
       "      <td>Vertical_Distance_To_Hydrology(meters)</td>\n",
       "    </tr>\n",
       "    <tr>\n",
       "      <th>4</th>\n",
       "      <td>24546</td>\n",
       "      <td>Aspect(degrees)</td>\n",
       "    </tr>\n",
       "    <tr>\n",
       "      <th>5</th>\n",
       "      <td>24374</td>\n",
       "      <td>Horizontal_Distance_To_Hydrology(meters)</td>\n",
       "    </tr>\n",
       "    <tr>\n",
       "      <th>6</th>\n",
       "      <td>21653</td>\n",
       "      <td>Hillshade_3pm</td>\n",
       "    </tr>\n",
       "    <tr>\n",
       "      <th>7</th>\n",
       "      <td>20974</td>\n",
       "      <td>Hillshade_Noon</td>\n",
       "    </tr>\n",
       "    <tr>\n",
       "      <th>8</th>\n",
       "      <td>20548</td>\n",
       "      <td>Hillshade_9am</td>\n",
       "    </tr>\n",
       "    <tr>\n",
       "      <th>9</th>\n",
       "      <td>16330</td>\n",
       "      <td>Slope(degrees)</td>\n",
       "    </tr>\n",
       "    <tr>\n",
       "      <th>10</th>\n",
       "      <td>1532</td>\n",
       "      <td>Wilderness_Area_3</td>\n",
       "    </tr>\n",
       "    <tr>\n",
       "      <th>11</th>\n",
       "      <td>1433</td>\n",
       "      <td>Wilderness_Area_1</td>\n",
       "    </tr>\n",
       "    <tr>\n",
       "      <th>12</th>\n",
       "      <td>1073</td>\n",
       "      <td>Soil_Type_33</td>\n",
       "    </tr>\n",
       "    <tr>\n",
       "      <th>13</th>\n",
       "      <td>983</td>\n",
       "      <td>Soil_Type_29</td>\n",
       "    </tr>\n",
       "    <tr>\n",
       "      <th>14</th>\n",
       "      <td>949</td>\n",
       "      <td>Soil_Type_32</td>\n",
       "    </tr>\n",
       "    <tr>\n",
       "      <th>15</th>\n",
       "      <td>899</td>\n",
       "      <td>Soil_Type_23</td>\n",
       "    </tr>\n",
       "    <tr>\n",
       "      <th>16</th>\n",
       "      <td>825</td>\n",
       "      <td>Soil_Type_10</td>\n",
       "    </tr>\n",
       "    <tr>\n",
       "      <th>17</th>\n",
       "      <td>787</td>\n",
       "      <td>Soil_Type_31</td>\n",
       "    </tr>\n",
       "    <tr>\n",
       "      <th>18</th>\n",
       "      <td>682</td>\n",
       "      <td>Wilderness_Area_2</td>\n",
       "    </tr>\n",
       "    <tr>\n",
       "      <th>19</th>\n",
       "      <td>596</td>\n",
       "      <td>Soil_Type_13</td>\n",
       "    </tr>\n",
       "    <tr>\n",
       "      <th>20</th>\n",
       "      <td>588</td>\n",
       "      <td>Soil_Type_4</td>\n",
       "    </tr>\n",
       "    <tr>\n",
       "      <th>21</th>\n",
       "      <td>554</td>\n",
       "      <td>Soil_Type_2</td>\n",
       "    </tr>\n",
       "    <tr>\n",
       "      <th>22</th>\n",
       "      <td>547</td>\n",
       "      <td>Soil_Type_30</td>\n",
       "    </tr>\n",
       "    <tr>\n",
       "      <th>23</th>\n",
       "      <td>538</td>\n",
       "      <td>Soil_Type_11</td>\n",
       "    </tr>\n",
       "    <tr>\n",
       "      <th>24</th>\n",
       "      <td>537</td>\n",
       "      <td>Soil_Type_24</td>\n",
       "    </tr>\n",
       "    <tr>\n",
       "      <th>25</th>\n",
       "      <td>521</td>\n",
       "      <td>Soil_Type_22</td>\n",
       "    </tr>\n",
       "    <tr>\n",
       "      <th>26</th>\n",
       "      <td>504</td>\n",
       "      <td>Wilderness_Area_4</td>\n",
       "    </tr>\n",
       "    <tr>\n",
       "      <th>27</th>\n",
       "      <td>375</td>\n",
       "      <td>Soil_Type_20</td>\n",
       "    </tr>\n",
       "    <tr>\n",
       "      <th>28</th>\n",
       "      <td>371</td>\n",
       "      <td>Soil_Type_17</td>\n",
       "    </tr>\n",
       "    <tr>\n",
       "      <th>29</th>\n",
       "      <td>360</td>\n",
       "      <td>Soil_Type_39</td>\n",
       "    </tr>\n",
       "    <tr>\n",
       "      <th>30</th>\n",
       "      <td>359</td>\n",
       "      <td>Soil_Type_12</td>\n",
       "    </tr>\n",
       "    <tr>\n",
       "      <th>31</th>\n",
       "      <td>351</td>\n",
       "      <td>Soil_Type_6</td>\n",
       "    </tr>\n",
       "    <tr>\n",
       "      <th>32</th>\n",
       "      <td>298</td>\n",
       "      <td>Soil_Type_38</td>\n",
       "    </tr>\n",
       "    <tr>\n",
       "      <th>33</th>\n",
       "      <td>284</td>\n",
       "      <td>Soil_Type_3</td>\n",
       "    </tr>\n",
       "    <tr>\n",
       "      <th>34</th>\n",
       "      <td>184</td>\n",
       "      <td>Soil_Type_1</td>\n",
       "    </tr>\n",
       "    <tr>\n",
       "      <th>35</th>\n",
       "      <td>162</td>\n",
       "      <td>Soil_Type_40</td>\n",
       "    </tr>\n",
       "    <tr>\n",
       "      <th>36</th>\n",
       "      <td>150</td>\n",
       "      <td>Soil_Type_16</td>\n",
       "    </tr>\n",
       "    <tr>\n",
       "      <th>37</th>\n",
       "      <td>143</td>\n",
       "      <td>Soil_Type_19</td>\n",
       "    </tr>\n",
       "    <tr>\n",
       "      <th>38</th>\n",
       "      <td>122</td>\n",
       "      <td>Soil_Type_26</td>\n",
       "    </tr>\n",
       "    <tr>\n",
       "      <th>39</th>\n",
       "      <td>118</td>\n",
       "      <td>Soil_Type_5</td>\n",
       "    </tr>\n",
       "    <tr>\n",
       "      <th>40</th>\n",
       "      <td>101</td>\n",
       "      <td>Soil_Type_27</td>\n",
       "    </tr>\n",
       "    <tr>\n",
       "      <th>41</th>\n",
       "      <td>88</td>\n",
       "      <td>Soil_Type_35</td>\n",
       "    </tr>\n",
       "    <tr>\n",
       "      <th>42</th>\n",
       "      <td>85</td>\n",
       "      <td>Soil_Type_21</td>\n",
       "    </tr>\n",
       "    <tr>\n",
       "      <th>43</th>\n",
       "      <td>74</td>\n",
       "      <td>Soil_Type_14</td>\n",
       "    </tr>\n",
       "    <tr>\n",
       "      <th>44</th>\n",
       "      <td>69</td>\n",
       "      <td>Soil_Type_9</td>\n",
       "    </tr>\n",
       "    <tr>\n",
       "      <th>45</th>\n",
       "      <td>58</td>\n",
       "      <td>Soil_Type_34</td>\n",
       "    </tr>\n",
       "    <tr>\n",
       "      <th>46</th>\n",
       "      <td>24</td>\n",
       "      <td>Soil_Type_28</td>\n",
       "    </tr>\n",
       "    <tr>\n",
       "      <th>47</th>\n",
       "      <td>20</td>\n",
       "      <td>Soil_Type_18</td>\n",
       "    </tr>\n",
       "    <tr>\n",
       "      <th>48</th>\n",
       "      <td>0</td>\n",
       "      <td>Soil_Type_8</td>\n",
       "    </tr>\n",
       "    <tr>\n",
       "      <th>49</th>\n",
       "      <td>0</td>\n",
       "      <td>Soil_Type_7</td>\n",
       "    </tr>\n",
       "    <tr>\n",
       "      <th>50</th>\n",
       "      <td>0</td>\n",
       "      <td>Soil_Type_37</td>\n",
       "    </tr>\n",
       "    <tr>\n",
       "      <th>51</th>\n",
       "      <td>0</td>\n",
       "      <td>Soil_Type_36</td>\n",
       "    </tr>\n",
       "    <tr>\n",
       "      <th>52</th>\n",
       "      <td>0</td>\n",
       "      <td>Soil_Type_25</td>\n",
       "    </tr>\n",
       "    <tr>\n",
       "      <th>53</th>\n",
       "      <td>0</td>\n",
       "      <td>Soil_Type_15</td>\n",
       "    </tr>\n",
       "  </tbody>\n",
       "</table>\n",
       "</div>"
      ],
      "text/plain": [
       "    Value                                     Feature\n",
       "0   39518  Horizontal_Distance_To_Fire_Points(meters)\n",
       "1   37756     Horizontal_Distance_To_Roadways(meters)\n",
       "2   31627                           Elevation(meters)\n",
       "3   27401      Vertical_Distance_To_Hydrology(meters)\n",
       "4   24546                             Aspect(degrees)\n",
       "5   24374    Horizontal_Distance_To_Hydrology(meters)\n",
       "6   21653                               Hillshade_3pm\n",
       "7   20974                              Hillshade_Noon\n",
       "8   20548                               Hillshade_9am\n",
       "9   16330                              Slope(degrees)\n",
       "10   1532                           Wilderness_Area_3\n",
       "11   1433                           Wilderness_Area_1\n",
       "12   1073                                Soil_Type_33\n",
       "13    983                                Soil_Type_29\n",
       "14    949                                Soil_Type_32\n",
       "15    899                                Soil_Type_23\n",
       "16    825                                Soil_Type_10\n",
       "17    787                                Soil_Type_31\n",
       "18    682                           Wilderness_Area_2\n",
       "19    596                                Soil_Type_13\n",
       "20    588                                 Soil_Type_4\n",
       "21    554                                 Soil_Type_2\n",
       "22    547                                Soil_Type_30\n",
       "23    538                                Soil_Type_11\n",
       "24    537                                Soil_Type_24\n",
       "25    521                                Soil_Type_22\n",
       "26    504                           Wilderness_Area_4\n",
       "27    375                                Soil_Type_20\n",
       "28    371                                Soil_Type_17\n",
       "29    360                                Soil_Type_39\n",
       "30    359                                Soil_Type_12\n",
       "31    351                                 Soil_Type_6\n",
       "32    298                                Soil_Type_38\n",
       "33    284                                 Soil_Type_3\n",
       "34    184                                 Soil_Type_1\n",
       "35    162                                Soil_Type_40\n",
       "36    150                                Soil_Type_16\n",
       "37    143                                Soil_Type_19\n",
       "38    122                                Soil_Type_26\n",
       "39    118                                 Soil_Type_5\n",
       "40    101                                Soil_Type_27\n",
       "41     88                                Soil_Type_35\n",
       "42     85                                Soil_Type_21\n",
       "43     74                                Soil_Type_14\n",
       "44     69                                 Soil_Type_9\n",
       "45     58                                Soil_Type_34\n",
       "46     24                                Soil_Type_28\n",
       "47     20                                Soil_Type_18\n",
       "48      0                                 Soil_Type_8\n",
       "49      0                                 Soil_Type_7\n",
       "50      0                                Soil_Type_37\n",
       "51      0                                Soil_Type_36\n",
       "52      0                                Soil_Type_25\n",
       "53      0                                Soil_Type_15"
      ]
     },
     "execution_count": 16,
     "metadata": {},
     "output_type": "execute_result"
    }
   ],
   "source": [
    "feature_imp.loc[feature_imp.Value >= 0].sort_values(by=['Value'], ascending = False)"
   ]
  },
  {
   "cell_type": "code",
   "execution_count": 17,
   "metadata": {
    "colab": {},
    "colab_type": "code",
    "id": "SMYdOgfv_4of"
   },
   "outputs": [],
   "source": [
    "Xtest = test_df"
   ]
  },
  {
   "cell_type": "code",
   "execution_count": 18,
   "metadata": {
    "colab": {
     "base_uri": "https://localhost:8080/",
     "height": 1000
    },
    "colab_type": "code",
    "id": "3a_H1ogv_9RP",
    "outputId": "5ba7eadb-0c1f-403c-d078-a463f6193aef"
   },
   "outputs": [
    {
     "name": "stderr",
     "output_type": "stream",
     "text": [
      "C:\\Users\\kesha\\Anaconda3\\lib\\site-packages\\lightgbm\\engine.py:148: UserWarning: Found `num_iterations` in params. Will use it instead of argument\n",
      "  warnings.warn(\"Found `{}` in params. Will use it instead of argument\".format(alias))\n"
     ]
    },
    {
     "name": "stdout",
     "output_type": "stream",
     "text": [
      "Training until validation scores don't improve for 200 rounds\n",
      "[100]\tvalid_0's multi_logloss: 0.393754\n",
      "[200]\tvalid_0's multi_logloss: 0.366569\n",
      "[300]\tvalid_0's multi_logloss: 0.361731\n",
      "[400]\tvalid_0's multi_logloss: 0.36365\n",
      "[500]\tvalid_0's multi_logloss: 0.367456\n",
      "Early stopping, best iteration is:\n",
      "[340]\tvalid_0's multi_logloss: 0.361544\n",
      "Log Loss:  0.36154446609531976\n"
     ]
    },
    {
     "name": "stderr",
     "output_type": "stream",
     "text": [
      "C:\\Users\\kesha\\Anaconda3\\lib\\site-packages\\lightgbm\\engine.py:148: UserWarning: Found `num_iterations` in params. Will use it instead of argument\n",
      "  warnings.warn(\"Found `{}` in params. Will use it instead of argument\".format(alias))\n"
     ]
    },
    {
     "name": "stdout",
     "output_type": "stream",
     "text": [
      "Training until validation scores don't improve for 200 rounds\n",
      "[100]\tvalid_0's multi_logloss: 0.387943\n",
      "[200]\tvalid_0's multi_logloss: 0.358211\n",
      "[300]\tvalid_0's multi_logloss: 0.349609\n",
      "[400]\tvalid_0's multi_logloss: 0.34755\n",
      "[500]\tvalid_0's multi_logloss: 0.350129\n",
      "Early stopping, best iteration is:\n",
      "[358]\tvalid_0's multi_logloss: 0.347362\n",
      "Log Loss:  0.3473624365159055\n"
     ]
    },
    {
     "name": "stderr",
     "output_type": "stream",
     "text": [
      "C:\\Users\\kesha\\Anaconda3\\lib\\site-packages\\lightgbm\\engine.py:148: UserWarning: Found `num_iterations` in params. Will use it instead of argument\n",
      "  warnings.warn(\"Found `{}` in params. Will use it instead of argument\".format(alias))\n"
     ]
    },
    {
     "name": "stdout",
     "output_type": "stream",
     "text": [
      "Training until validation scores don't improve for 200 rounds\n",
      "[100]\tvalid_0's multi_logloss: 0.373009\n",
      "[200]\tvalid_0's multi_logloss: 0.341566\n",
      "[300]\tvalid_0's multi_logloss: 0.331856\n",
      "[400]\tvalid_0's multi_logloss: 0.329404\n",
      "[500]\tvalid_0's multi_logloss: 0.330643\n",
      "Early stopping, best iteration is:\n",
      "[397]\tvalid_0's multi_logloss: 0.329081\n",
      "Log Loss:  0.32908082764661045\n"
     ]
    },
    {
     "name": "stderr",
     "output_type": "stream",
     "text": [
      "C:\\Users\\kesha\\Anaconda3\\lib\\site-packages\\lightgbm\\engine.py:148: UserWarning: Found `num_iterations` in params. Will use it instead of argument\n",
      "  warnings.warn(\"Found `{}` in params. Will use it instead of argument\".format(alias))\n"
     ]
    },
    {
     "name": "stdout",
     "output_type": "stream",
     "text": [
      "Training until validation scores don't improve for 200 rounds\n",
      "[100]\tvalid_0's multi_logloss: 0.386736\n",
      "[200]\tvalid_0's multi_logloss: 0.356043\n",
      "[300]\tvalid_0's multi_logloss: 0.347692\n",
      "[400]\tvalid_0's multi_logloss: 0.345172\n",
      "[500]\tvalid_0's multi_logloss: 0.346058\n",
      "Early stopping, best iteration is:\n",
      "[392]\tvalid_0's multi_logloss: 0.344777\n",
      "Log Loss:  0.3447770808742542\n"
     ]
    },
    {
     "name": "stderr",
     "output_type": "stream",
     "text": [
      "C:\\Users\\kesha\\Anaconda3\\lib\\site-packages\\lightgbm\\engine.py:148: UserWarning: Found `num_iterations` in params. Will use it instead of argument\n",
      "  warnings.warn(\"Found `{}` in params. Will use it instead of argument\".format(alias))\n"
     ]
    },
    {
     "name": "stdout",
     "output_type": "stream",
     "text": [
      "Training until validation scores don't improve for 200 rounds\n",
      "[100]\tvalid_0's multi_logloss: 0.373115\n",
      "[200]\tvalid_0's multi_logloss: 0.337242\n",
      "[300]\tvalid_0's multi_logloss: 0.328175\n",
      "[400]\tvalid_0's multi_logloss: 0.324778\n",
      "[500]\tvalid_0's multi_logloss: 0.324795\n",
      "Early stopping, best iteration is:\n",
      "[398]\tvalid_0's multi_logloss: 0.324452\n",
      "Log Loss:  0.32445187777140555\n"
     ]
    },
    {
     "name": "stderr",
     "output_type": "stream",
     "text": [
      "C:\\Users\\kesha\\Anaconda3\\lib\\site-packages\\lightgbm\\engine.py:148: UserWarning: Found `num_iterations` in params. Will use it instead of argument\n",
      "  warnings.warn(\"Found `{}` in params. Will use it instead of argument\".format(alias))\n"
     ]
    },
    {
     "name": "stdout",
     "output_type": "stream",
     "text": [
      "Training until validation scores don't improve for 200 rounds\n",
      "[100]\tvalid_0's multi_logloss: 0.384803\n",
      "[200]\tvalid_0's multi_logloss: 0.361194\n",
      "[300]\tvalid_0's multi_logloss: 0.357223\n",
      "[400]\tvalid_0's multi_logloss: 0.357232\n",
      "[500]\tvalid_0's multi_logloss: 0.362616\n",
      "Early stopping, best iteration is:\n",
      "[359]\tvalid_0's multi_logloss: 0.355311\n",
      "Log Loss:  0.3553106030787821\n"
     ]
    },
    {
     "name": "stderr",
     "output_type": "stream",
     "text": [
      "C:\\Users\\kesha\\Anaconda3\\lib\\site-packages\\lightgbm\\engine.py:148: UserWarning: Found `num_iterations` in params. Will use it instead of argument\n",
      "  warnings.warn(\"Found `{}` in params. Will use it instead of argument\".format(alias))\n"
     ]
    },
    {
     "name": "stdout",
     "output_type": "stream",
     "text": [
      "Training until validation scores don't improve for 200 rounds\n",
      "[100]\tvalid_0's multi_logloss: 0.39963\n",
      "[200]\tvalid_0's multi_logloss: 0.377225\n",
      "[300]\tvalid_0's multi_logloss: 0.373657\n",
      "[400]\tvalid_0's multi_logloss: 0.376857\n",
      "Early stopping, best iteration is:\n",
      "[291]\tvalid_0's multi_logloss: 0.373191\n",
      "Log Loss:  0.3731909637937037\n"
     ]
    },
    {
     "name": "stderr",
     "output_type": "stream",
     "text": [
      "C:\\Users\\kesha\\Anaconda3\\lib\\site-packages\\lightgbm\\engine.py:148: UserWarning: Found `num_iterations` in params. Will use it instead of argument\n",
      "  warnings.warn(\"Found `{}` in params. Will use it instead of argument\".format(alias))\n"
     ]
    },
    {
     "name": "stdout",
     "output_type": "stream",
     "text": [
      "Training until validation scores don't improve for 200 rounds\n",
      "[100]\tvalid_0's multi_logloss: 0.382069\n",
      "[200]\tvalid_0's multi_logloss: 0.355352\n",
      "[300]\tvalid_0's multi_logloss: 0.347445\n",
      "[400]\tvalid_0's multi_logloss: 0.348353\n",
      "[500]\tvalid_0's multi_logloss: 0.351296\n",
      "Early stopping, best iteration is:\n",
      "[331]\tvalid_0's multi_logloss: 0.347365\n",
      "Log Loss:  0.34736514805934593\n"
     ]
    },
    {
     "name": "stderr",
     "output_type": "stream",
     "text": [
      "C:\\Users\\kesha\\Anaconda3\\lib\\site-packages\\lightgbm\\engine.py:148: UserWarning: Found `num_iterations` in params. Will use it instead of argument\n",
      "  warnings.warn(\"Found `{}` in params. Will use it instead of argument\".format(alias))\n"
     ]
    },
    {
     "name": "stdout",
     "output_type": "stream",
     "text": [
      "Training until validation scores don't improve for 200 rounds\n",
      "[100]\tvalid_0's multi_logloss: 0.375326\n",
      "[200]\tvalid_0's multi_logloss: 0.34497\n",
      "[300]\tvalid_0's multi_logloss: 0.338837\n",
      "[400]\tvalid_0's multi_logloss: 0.339877\n",
      "[500]\tvalid_0's multi_logloss: 0.341602\n",
      "Early stopping, best iteration is:\n",
      "[381]\tvalid_0's multi_logloss: 0.33795\n",
      "Log Loss:  0.3379502917964781\n"
     ]
    },
    {
     "name": "stderr",
     "output_type": "stream",
     "text": [
      "C:\\Users\\kesha\\Anaconda3\\lib\\site-packages\\lightgbm\\engine.py:148: UserWarning: Found `num_iterations` in params. Will use it instead of argument\n",
      "  warnings.warn(\"Found `{}` in params. Will use it instead of argument\".format(alias))\n"
     ]
    },
    {
     "name": "stdout",
     "output_type": "stream",
     "text": [
      "Training until validation scores don't improve for 200 rounds\n",
      "[100]\tvalid_0's multi_logloss: 0.412121\n",
      "[200]\tvalid_0's multi_logloss: 0.389476\n",
      "[300]\tvalid_0's multi_logloss: 0.383587\n",
      "[400]\tvalid_0's multi_logloss: 0.388234\n",
      "Early stopping, best iteration is:\n",
      "[298]\tvalid_0's multi_logloss: 0.383434\n",
      "Log Loss:  0.3834339569145257\n"
     ]
    }
   ],
   "source": [
    "from sklearn.model_selection import KFold, StratifiedKFold\n",
    "\n",
    "errlgb = []\n",
    "y_pred_totlgb = []\n",
    "\n",
    "fold = StratifiedKFold(n_splits=10, shuffle=True, random_state=123456789)\n",
    "\n",
    "for train_index, test_index in fold.split(X, y):\n",
    "    \n",
    "    X_train, X_test = X.loc[train_index], X.loc[test_index]\n",
    "    y_train, y_test = y[train_index], y[test_index]\n",
    "    \n",
    "    train_data = lgb.Dataset(X_train, label=y_train)\n",
    "    test_data = lgb.Dataset(X_test, label=y_test)\n",
    "    \n",
    "    clf = lgb.train(params=param, \n",
    "                     early_stopping_rounds=200,\n",
    "                     verbose_eval=100,\n",
    "                     train_set=train_data,\n",
    "                     valid_sets=[test_data])\n",
    "\n",
    "    y_pred = clf.predict(X_test)\n",
    "    print(\"Log Loss: \", (log_loss(y_test, y_pred)))\n",
    "    \n",
    "    errlgb.append(log_loss(y_test, y_pred))\n",
    "    p = clf.predict(Xtest)\n",
    "    y_pred_totlgb.append(p)"
   ]
  },
  {
   "cell_type": "code",
   "execution_count": 19,
   "metadata": {
    "colab": {
     "base_uri": "https://localhost:8080/",
     "height": 33
    },
    "colab_type": "code",
    "id": "7g2YywPbAC6H",
    "outputId": "fa212f49-9d27-412c-9e5b-7c537e9a3b77"
   },
   "outputs": [
    {
     "data": {
      "text/plain": [
       "0.35044676525463314"
      ]
     },
     "execution_count": 19,
     "metadata": {},
     "output_type": "execute_result"
    }
   ],
   "source": [
    "np.mean(errlgb,0)"
   ]
  },
  {
   "cell_type": "code",
   "execution_count": 20,
   "metadata": {
    "colab": {
     "base_uri": "https://localhost:8080/",
     "height": 33
    },
    "colab_type": "code",
    "id": "wDGLkQwpBboH",
    "outputId": "81066515-ddac-4af8-8e85-6d2dbd767a7e"
   },
   "outputs": [
    {
     "data": {
      "text/plain": [
       "Index(['1.0', '2.0', '3.0', '4.0', '5.0', '6.0', '7.0'], dtype='object')"
      ]
     },
     "execution_count": 20,
     "metadata": {},
     "output_type": "execute_result"
    }
   ],
   "source": [
    "sub.columns"
   ]
  },
  {
   "cell_type": "code",
   "execution_count": 21,
   "metadata": {
    "colab": {},
    "colab_type": "code",
    "id": "ZXSbEEwOBe9Y"
   },
   "outputs": [],
   "source": [
    "y_pred = np.mean(y_pred_totlgb,0)"
   ]
  },
  {
   "cell_type": "code",
   "execution_count": 22,
   "metadata": {
    "colab": {
     "base_uri": "https://localhost:8080/",
     "height": 190
    },
    "colab_type": "code",
    "id": "W6Yltou2RVZL",
    "outputId": "765ae7f8-c6d2-4d87-8d5e-064d3f3212b9"
   },
   "outputs": [
    {
     "data": {
      "text/html": [
       "<div>\n",
       "<style scoped>\n",
       "    .dataframe tbody tr th:only-of-type {\n",
       "        vertical-align: middle;\n",
       "    }\n",
       "\n",
       "    .dataframe tbody tr th {\n",
       "        vertical-align: top;\n",
       "    }\n",
       "\n",
       "    .dataframe thead th {\n",
       "        text-align: right;\n",
       "    }\n",
       "</style>\n",
       "<table border=\"1\" class=\"dataframe\">\n",
       "  <thead>\n",
       "    <tr style=\"text-align: right;\">\n",
       "      <th></th>\n",
       "      <th>1.0</th>\n",
       "      <th>2.0</th>\n",
       "      <th>3.0</th>\n",
       "      <th>4.0</th>\n",
       "      <th>5.0</th>\n",
       "      <th>6.0</th>\n",
       "      <th>7.0</th>\n",
       "    </tr>\n",
       "  </thead>\n",
       "  <tbody>\n",
       "    <tr>\n",
       "      <th>0</th>\n",
       "      <td>0.000002</td>\n",
       "      <td>3.249471e-05</td>\n",
       "      <td>1.525105e-06</td>\n",
       "      <td>5.096372e-07</td>\n",
       "      <td>0.992953</td>\n",
       "      <td>7.625112e-06</td>\n",
       "      <td>0.007003</td>\n",
       "    </tr>\n",
       "    <tr>\n",
       "      <th>1</th>\n",
       "      <td>0.988705</td>\n",
       "      <td>3.368577e-07</td>\n",
       "      <td>8.655129e-08</td>\n",
       "      <td>9.593969e-08</td>\n",
       "      <td>0.000033</td>\n",
       "      <td>1.969713e-07</td>\n",
       "      <td>0.011262</td>\n",
       "    </tr>\n",
       "    <tr>\n",
       "      <th>2</th>\n",
       "      <td>0.000010</td>\n",
       "      <td>2.367116e-04</td>\n",
       "      <td>1.163483e-04</td>\n",
       "      <td>1.476167e-06</td>\n",
       "      <td>0.995782</td>\n",
       "      <td>1.090957e-03</td>\n",
       "      <td>0.002763</td>\n",
       "    </tr>\n",
       "    <tr>\n",
       "      <th>3</th>\n",
       "      <td>0.000017</td>\n",
       "      <td>7.364412e-04</td>\n",
       "      <td>2.980739e-06</td>\n",
       "      <td>1.647655e-06</td>\n",
       "      <td>0.980950</td>\n",
       "      <td>3.143650e-05</td>\n",
       "      <td>0.018261</td>\n",
       "    </tr>\n",
       "    <tr>\n",
       "      <th>4</th>\n",
       "      <td>0.000012</td>\n",
       "      <td>6.400635e-05</td>\n",
       "      <td>6.338566e-05</td>\n",
       "      <td>3.326952e-06</td>\n",
       "      <td>0.240090</td>\n",
       "      <td>6.730325e-05</td>\n",
       "      <td>0.759701</td>\n",
       "    </tr>\n",
       "  </tbody>\n",
       "</table>\n",
       "</div>"
      ],
      "text/plain": [
       "        1.0           2.0           3.0           4.0       5.0           6.0  \\\n",
       "0  0.000002  3.249471e-05  1.525105e-06  5.096372e-07  0.992953  7.625112e-06   \n",
       "1  0.988705  3.368577e-07  8.655129e-08  9.593969e-08  0.000033  1.969713e-07   \n",
       "2  0.000010  2.367116e-04  1.163483e-04  1.476167e-06  0.995782  1.090957e-03   \n",
       "3  0.000017  7.364412e-04  2.980739e-06  1.647655e-06  0.980950  3.143650e-05   \n",
       "4  0.000012  6.400635e-05  6.338566e-05  3.326952e-06  0.240090  6.730325e-05   \n",
       "\n",
       "        7.0  \n",
       "0  0.007003  \n",
       "1  0.011262  \n",
       "2  0.002763  \n",
       "3  0.018261  \n",
       "4  0.759701  "
      ]
     },
     "execution_count": 22,
     "metadata": {},
     "output_type": "execute_result"
    }
   ],
   "source": [
    "submission = pd.DataFrame(data=y_pred, columns=sub.columns)\n",
    "submission.head()"
   ]
  },
  {
   "cell_type": "code",
   "execution_count": 23,
   "metadata": {
    "colab": {},
    "colab_type": "code",
    "id": "DSDoPymfRVUK"
   },
   "outputs": [],
   "source": [
    "submission.to_csv('lgb1.csv',index=False)"
   ]
  },
  {
   "cell_type": "code",
   "execution_count": 24,
   "metadata": {
    "colab": {
     "base_uri": "https://localhost:8080/",
     "height": 33
    },
    "colab_type": "code",
    "id": "Tl6ks6BrB217",
    "outputId": "3800c0b7-7e76-4300-84a7-d82a5415da6d"
   },
   "outputs": [
    {
     "data": {
      "text/plain": [
       "0.5653358466842884"
      ]
     },
     "execution_count": 24,
     "metadata": {},
     "output_type": "execute_result"
    }
   ],
   "source": [
    "from xgboost import XGBClassifier\n",
    "from sklearn.metrics import log_loss\n",
    "from sklearn.model_selection import StratifiedKFold\n",
    "from sklearn.model_selection import train_test_split\n",
    "xgb = XGBClassifier(random_state=42)\n",
    "xgb.fit(X_train, y_train)\n",
    "y_pred = xgb.predict_proba(X_cv)\n",
    "\n",
    "log_loss(y_cv, y_pred)"
   ]
  },
  {
   "cell_type": "code",
   "execution_count": 25,
   "metadata": {
    "colab": {},
    "colab_type": "code",
    "id": "kjnZulxIB21G"
   },
   "outputs": [],
   "source": [
    "Xtest = test_df"
   ]
  },
  {
   "cell_type": "code",
   "execution_count": 26,
   "metadata": {
    "colab": {
     "base_uri": "https://localhost:8080/",
     "height": 117
    },
    "colab_type": "code",
    "id": "mlyetWgRCNKw",
    "outputId": "7b353bf3-8796-4a5c-e048-20bd076a2fce"
   },
   "outputs": [
    {
     "name": "stdout",
     "output_type": "stream",
     "text": [
      "Log Loss: 0.5895552602867784\n",
      "Log Loss: 0.6106554003465476\n",
      "Log Loss: 0.5936660728098433\n",
      "Log Loss: 0.6073081570395485\n",
      "Log Loss: 0.6028971433450222\n",
      "Log Loss: 0.6035230365924058\n"
     ]
    }
   ],
   "source": [
    "err = []\n",
    "y_pred_tot = []\n",
    "\n",
    "fold = StratifiedKFold(n_splits=6, shuffle=True, random_state=42)\n",
    "\n",
    "for train_index, test_index in fold.split(X, y):\n",
    "    \n",
    "    X_train, X_test = X.loc[train_index], X.loc[test_index]\n",
    "    y_train, y_test = y[train_index], y[test_index]\n",
    "\n",
    "    xgb = XGBClassifier(random_state=42)\n",
    "    xgb.fit(X_train, y_train)\n",
    "    y_pred = xgb.predict_proba(X_test)\n",
    "    \n",
    "    print(\"Log Loss:\", log_loss(y_test, y_pred))\n",
    "\n",
    "    err.append(log_loss(y_test, y_pred))\n",
    "    p = xgb.predict_proba(Xtest)\n",
    "    y_pred_tot.append(p)"
   ]
  },
  {
   "cell_type": "code",
   "execution_count": 27,
   "metadata": {
    "colab": {
     "base_uri": "https://localhost:8080/",
     "height": 33
    },
    "colab_type": "code",
    "id": "Y2Vv0QbDCQS5",
    "outputId": "4b2e3ea8-157c-4ccf-ceaa-26c3cd6deddf"
   },
   "outputs": [
    {
     "data": {
      "text/plain": [
       "0.6012675117366909"
      ]
     },
     "execution_count": 27,
     "metadata": {},
     "output_type": "execute_result"
    }
   ],
   "source": [
    "np.mean(err, 0)"
   ]
  },
  {
   "cell_type": "code",
   "execution_count": 28,
   "metadata": {
    "colab": {
     "base_uri": "https://localhost:8080/",
     "height": 235
    },
    "colab_type": "code",
    "id": "4-6JrbUyCUAL",
    "outputId": "d3819a00-2d31-45b9-fd56-77f6d376c142"
   },
   "outputs": [
    {
     "data": {
      "text/plain": [
       "array([[5.9621740e-04, 5.2068071e-03, 1.1139886e-03, ..., 8.7281102e-01,\n",
       "        1.7026818e-03, 1.1812190e-01],\n",
       "       [4.2670384e-01, 5.4600020e-04, 6.3463277e-04, ..., 1.9831076e-02,\n",
       "        4.9506564e-04, 5.5131912e-01],\n",
       "       [6.2699255e-04, 2.6836595e-02, 3.9252583e-02, ..., 6.2206703e-01,\n",
       "        2.5145423e-01, 5.9292983e-02],\n",
       "       ...,\n",
       "       [9.4200188e-04, 6.5769330e-02, 1.0193513e-03, ..., 6.9403595e-01,\n",
       "        1.2682244e-03, 2.3625897e-01],\n",
       "       [7.6182728e-04, 8.3385175e-04, 6.8411714e-04, ..., 5.5181664e-01,\n",
       "        1.0011859e-03, 4.4433117e-01],\n",
       "       [9.7465917e-04, 3.6605828e-02, 2.3265099e-03, ..., 7.9715890e-01,\n",
       "        4.6017002e-03, 1.5758435e-01]], dtype=float32)"
      ]
     },
     "execution_count": 28,
     "metadata": {},
     "output_type": "execute_result"
    }
   ],
   "source": [
    "np.mean(y_pred_tot, 0)"
   ]
  },
  {
   "cell_type": "code",
   "execution_count": 29,
   "metadata": {
    "colab": {},
    "colab_type": "code",
    "id": "R4SlbO7fCjgc"
   },
   "outputs": [],
   "source": [
    "y_pred = np.mean(y_pred_tot, 0)"
   ]
  },
  {
   "cell_type": "code",
   "execution_count": 30,
   "metadata": {
    "colab": {
     "base_uri": "https://localhost:8080/",
     "height": 190
    },
    "colab_type": "code",
    "id": "blM5Y_CbClsq",
    "outputId": "65f021aa-ca56-45f5-c52c-8b65dce228ae"
   },
   "outputs": [
    {
     "data": {
      "text/html": [
       "<div>\n",
       "<style scoped>\n",
       "    .dataframe tbody tr th:only-of-type {\n",
       "        vertical-align: middle;\n",
       "    }\n",
       "\n",
       "    .dataframe tbody tr th {\n",
       "        vertical-align: top;\n",
       "    }\n",
       "\n",
       "    .dataframe thead th {\n",
       "        text-align: right;\n",
       "    }\n",
       "</style>\n",
       "<table border=\"1\" class=\"dataframe\">\n",
       "  <thead>\n",
       "    <tr style=\"text-align: right;\">\n",
       "      <th></th>\n",
       "      <th>0</th>\n",
       "      <th>1</th>\n",
       "      <th>2</th>\n",
       "      <th>3</th>\n",
       "      <th>4</th>\n",
       "      <th>5</th>\n",
       "      <th>6</th>\n",
       "    </tr>\n",
       "  </thead>\n",
       "  <tbody>\n",
       "    <tr>\n",
       "      <th>0</th>\n",
       "      <td>0.000596</td>\n",
       "      <td>0.005207</td>\n",
       "      <td>0.001114</td>\n",
       "      <td>0.000447</td>\n",
       "      <td>0.872811</td>\n",
       "      <td>0.001703</td>\n",
       "      <td>0.118122</td>\n",
       "    </tr>\n",
       "    <tr>\n",
       "      <th>1</th>\n",
       "      <td>0.426704</td>\n",
       "      <td>0.000546</td>\n",
       "      <td>0.000635</td>\n",
       "      <td>0.000470</td>\n",
       "      <td>0.019831</td>\n",
       "      <td>0.000495</td>\n",
       "      <td>0.551319</td>\n",
       "    </tr>\n",
       "    <tr>\n",
       "      <th>2</th>\n",
       "      <td>0.000627</td>\n",
       "      <td>0.026837</td>\n",
       "      <td>0.039253</td>\n",
       "      <td>0.000470</td>\n",
       "      <td>0.622067</td>\n",
       "      <td>0.251454</td>\n",
       "      <td>0.059293</td>\n",
       "    </tr>\n",
       "    <tr>\n",
       "      <th>3</th>\n",
       "      <td>0.000962</td>\n",
       "      <td>0.036202</td>\n",
       "      <td>0.001182</td>\n",
       "      <td>0.000721</td>\n",
       "      <td>0.807239</td>\n",
       "      <td>0.001442</td>\n",
       "      <td>0.152252</td>\n",
       "    </tr>\n",
       "    <tr>\n",
       "      <th>4</th>\n",
       "      <td>0.001067</td>\n",
       "      <td>0.029276</td>\n",
       "      <td>0.001736</td>\n",
       "      <td>0.000799</td>\n",
       "      <td>0.764950</td>\n",
       "      <td>0.007822</td>\n",
       "      <td>0.194351</td>\n",
       "    </tr>\n",
       "  </tbody>\n",
       "</table>\n",
       "</div>"
      ],
      "text/plain": [
       "          0         1         2         3         4         5         6\n",
       "0  0.000596  0.005207  0.001114  0.000447  0.872811  0.001703  0.118122\n",
       "1  0.426704  0.000546  0.000635  0.000470  0.019831  0.000495  0.551319\n",
       "2  0.000627  0.026837  0.039253  0.000470  0.622067  0.251454  0.059293\n",
       "3  0.000962  0.036202  0.001182  0.000721  0.807239  0.001442  0.152252\n",
       "4  0.001067  0.029276  0.001736  0.000799  0.764950  0.007822  0.194351"
      ]
     },
     "execution_count": 30,
     "metadata": {},
     "output_type": "execute_result"
    }
   ],
   "source": [
    "sub = pd.DataFrame(y_pred)\n",
    "sub.head(5)"
   ]
  },
  {
   "cell_type": "code",
   "execution_count": 31,
   "metadata": {
    "colab": {},
    "colab_type": "code",
    "id": "9rgGoEQGDE-3"
   },
   "outputs": [],
   "source": [
    "sub.to_csv('xgboost1.csv', index=False)"
   ]
  },
  {
   "cell_type": "code",
   "execution_count": null,
   "metadata": {
    "colab": {},
    "colab_type": "code",
    "id": "FFZ28QIIDKCw"
   },
   "outputs": [],
   "source": []
  },
  {
   "cell_type": "code",
   "execution_count": 32,
   "metadata": {
    "colab": {},
    "colab_type": "code",
    "id": "Fk-e8zuX0456"
   },
   "outputs": [],
   "source": [
    "from sklearn.model_selection import train_test_split\n",
    "X_train, X_cv, y_train, y_cv = train_test_split(X, y, test_size=0.15, random_state=101, stratify=y)"
   ]
  },
  {
   "cell_type": "code",
   "execution_count": 33,
   "metadata": {
    "colab": {
     "base_uri": "https://localhost:8080/",
     "height": 184
    },
    "colab_type": "code",
    "id": "UxHh7_b_04_C",
    "outputId": "461f1035-6322-4b39-a578-5622025ccf31"
   },
   "outputs": [
    {
     "name": "stderr",
     "output_type": "stream",
     "text": [
      "C:\\Users\\kesha\\Anaconda3\\lib\\site-packages\\lightgbm\\engine.py:148: UserWarning: Found `num_iterations` in params. Will use it instead of argument\n",
      "  warnings.warn(\"Found `{}` in params. Will use it instead of argument\".format(alias))\n"
     ]
    },
    {
     "name": "stdout",
     "output_type": "stream",
     "text": [
      "Training until validation scores don't improve for 200 rounds\n",
      "[100]\tvalid_0's multi_logloss: 0.383612\n",
      "[200]\tvalid_0's multi_logloss: 0.352889\n",
      "[300]\tvalid_0's multi_logloss: 0.344877\n",
      "[400]\tvalid_0's multi_logloss: 0.343167\n",
      "[500]\tvalid_0's multi_logloss: 0.34436\n",
      "[600]\tvalid_0's multi_logloss: 0.347473\n",
      "Early stopping, best iteration is:\n",
      "[434]\tvalid_0's multi_logloss: 0.342898\n"
     ]
    }
   ],
   "source": [
    "import lightgbm as lgb\n",
    "train_data = lgb.Dataset(X_train, label=y_train)\n",
    "test_data = lgb.Dataset(X_cv, label=y_cv)\n",
    "\n",
    "param = {'objective': 'multiclass',\n",
    "         'num_class': 7,\n",
    "         'boosting': 'gbdt',  \n",
    "         'metric': 'multi_logloss',\n",
    "         'learning_rate': 0.1, \n",
    "         'num_iterations': 1000,\n",
    "         'num_leaves': 100,\n",
    "         'max_depth': -1,\n",
    "         'min_data_in_leaf': 15,\n",
    "         'bagging_fraction':0.9,\n",
    "         'bagging_freq': 1,\n",
    "         'feature_fraction': 0.7,\n",
    "         'lambda_l2': 0.8,\n",
    "         'min_data_per_group': 75,\n",
    "         'max_bin': 255,\n",
    "         'is_unbalance':False\n",
    "         }\n",
    "\n",
    "clf = lgb.train(params=param, \n",
    "                early_stopping_rounds=200,\n",
    "                verbose_eval=100,\n",
    "                train_set=train_data,\n",
    "                valid_sets=[test_data])\n",
    "\n",
    "y_pred = clf.predict(X_cv)"
   ]
  },
  {
   "cell_type": "code",
   "execution_count": 34,
   "metadata": {
    "colab": {},
    "colab_type": "code",
    "id": "fU4bSz12043x"
   },
   "outputs": [],
   "source": [
    "Xtest = test_df"
   ]
  },
  {
   "cell_type": "code",
   "execution_count": 35,
   "metadata": {
    "colab": {
     "base_uri": "https://localhost:8080/",
     "height": 1000
    },
    "colab_type": "code",
    "id": "Xexncw8G3rXO",
    "outputId": "a1b67b7d-39be-4759-9e53-4620612920fe"
   },
   "outputs": [
    {
     "name": "stderr",
     "output_type": "stream",
     "text": [
      "C:\\Users\\kesha\\Anaconda3\\lib\\site-packages\\lightgbm\\engine.py:148: UserWarning: Found `num_iterations` in params. Will use it instead of argument\n",
      "  warnings.warn(\"Found `{}` in params. Will use it instead of argument\".format(alias))\n"
     ]
    },
    {
     "name": "stdout",
     "output_type": "stream",
     "text": [
      "Training until validation scores don't improve for 200 rounds\n",
      "[100]\tvalid_0's multi_logloss: 0.365772\n",
      "[200]\tvalid_0's multi_logloss: 0.3585\n",
      "[300]\tvalid_0's multi_logloss: 0.363668\n",
      "Early stopping, best iteration is:\n",
      "[195]\tvalid_0's multi_logloss: 0.357428\n",
      "Log Loss:  0.3574282011407435\n"
     ]
    },
    {
     "name": "stderr",
     "output_type": "stream",
     "text": [
      "C:\\Users\\kesha\\Anaconda3\\lib\\site-packages\\lightgbm\\engine.py:148: UserWarning: Found `num_iterations` in params. Will use it instead of argument\n",
      "  warnings.warn(\"Found `{}` in params. Will use it instead of argument\".format(alias))\n"
     ]
    },
    {
     "name": "stdout",
     "output_type": "stream",
     "text": [
      "Training until validation scores don't improve for 200 rounds\n",
      "[100]\tvalid_0's multi_logloss: 0.360115\n",
      "[200]\tvalid_0's multi_logloss: 0.354914\n",
      "[300]\tvalid_0's multi_logloss: 0.362189\n",
      "Early stopping, best iteration is:\n",
      "[179]\tvalid_0's multi_logloss: 0.352889\n",
      "Log Loss:  0.3528892707199674\n"
     ]
    },
    {
     "name": "stderr",
     "output_type": "stream",
     "text": [
      "C:\\Users\\kesha\\Anaconda3\\lib\\site-packages\\lightgbm\\engine.py:148: UserWarning: Found `num_iterations` in params. Will use it instead of argument\n",
      "  warnings.warn(\"Found `{}` in params. Will use it instead of argument\".format(alias))\n"
     ]
    },
    {
     "name": "stdout",
     "output_type": "stream",
     "text": [
      "Training until validation scores don't improve for 200 rounds\n",
      "[100]\tvalid_0's multi_logloss: 0.373311\n",
      "[200]\tvalid_0's multi_logloss: 0.363238\n",
      "[300]\tvalid_0's multi_logloss: 0.367907\n",
      "Early stopping, best iteration is:\n",
      "[197]\tvalid_0's multi_logloss: 0.362766\n",
      "Log Loss:  0.3627657285257436\n"
     ]
    },
    {
     "name": "stderr",
     "output_type": "stream",
     "text": [
      "C:\\Users\\kesha\\Anaconda3\\lib\\site-packages\\lightgbm\\engine.py:148: UserWarning: Found `num_iterations` in params. Will use it instead of argument\n",
      "  warnings.warn(\"Found `{}` in params. Will use it instead of argument\".format(alias))\n"
     ]
    },
    {
     "name": "stdout",
     "output_type": "stream",
     "text": [
      "Training until validation scores don't improve for 200 rounds\n",
      "[100]\tvalid_0's multi_logloss: 0.370313\n",
      "[200]\tvalid_0's multi_logloss: 0.367705\n",
      "[300]\tvalid_0's multi_logloss: 0.377788\n",
      "Early stopping, best iteration is:\n",
      "[132]\tvalid_0's multi_logloss: 0.365147\n",
      "Log Loss:  0.3651473620260105\n"
     ]
    },
    {
     "name": "stderr",
     "output_type": "stream",
     "text": [
      "C:\\Users\\kesha\\Anaconda3\\lib\\site-packages\\lightgbm\\engine.py:148: UserWarning: Found `num_iterations` in params. Will use it instead of argument\n",
      "  warnings.warn(\"Found `{}` in params. Will use it instead of argument\".format(alias))\n"
     ]
    },
    {
     "name": "stdout",
     "output_type": "stream",
     "text": [
      "Training until validation scores don't improve for 200 rounds\n",
      "[100]\tvalid_0's multi_logloss: 0.350523\n",
      "[200]\tvalid_0's multi_logloss: 0.343231\n",
      "[300]\tvalid_0's multi_logloss: 0.345516\n",
      "Early stopping, best iteration is:\n",
      "[191]\tvalid_0's multi_logloss: 0.342277\n",
      "Log Loss:  0.34227685527239343\n"
     ]
    },
    {
     "name": "stderr",
     "output_type": "stream",
     "text": [
      "C:\\Users\\kesha\\Anaconda3\\lib\\site-packages\\lightgbm\\engine.py:148: UserWarning: Found `num_iterations` in params. Will use it instead of argument\n",
      "  warnings.warn(\"Found `{}` in params. Will use it instead of argument\".format(alias))\n"
     ]
    },
    {
     "name": "stdout",
     "output_type": "stream",
     "text": [
      "Training until validation scores don't improve for 200 rounds\n",
      "[100]\tvalid_0's multi_logloss: 0.383749\n",
      "[200]\tvalid_0's multi_logloss: 0.382761\n",
      "[300]\tvalid_0's multi_logloss: 0.395919\n",
      "Early stopping, best iteration is:\n",
      "[131]\tvalid_0's multi_logloss: 0.381361\n",
      "Log Loss:  0.38136148627999705\n"
     ]
    },
    {
     "name": "stderr",
     "output_type": "stream",
     "text": [
      "C:\\Users\\kesha\\Anaconda3\\lib\\site-packages\\lightgbm\\engine.py:148: UserWarning: Found `num_iterations` in params. Will use it instead of argument\n",
      "  warnings.warn(\"Found `{}` in params. Will use it instead of argument\".format(alias))\n"
     ]
    },
    {
     "name": "stdout",
     "output_type": "stream",
     "text": [
      "Training until validation scores don't improve for 200 rounds\n",
      "[100]\tvalid_0's multi_logloss: 0.366714\n",
      "[200]\tvalid_0's multi_logloss: 0.360087\n",
      "[300]\tvalid_0's multi_logloss: 0.368763\n",
      "Early stopping, best iteration is:\n",
      "[195]\tvalid_0's multi_logloss: 0.359043\n",
      "Log Loss:  0.35904257986633265\n"
     ]
    },
    {
     "name": "stderr",
     "output_type": "stream",
     "text": [
      "C:\\Users\\kesha\\Anaconda3\\lib\\site-packages\\lightgbm\\engine.py:148: UserWarning: Found `num_iterations` in params. Will use it instead of argument\n",
      "  warnings.warn(\"Found `{}` in params. Will use it instead of argument\".format(alias))\n"
     ]
    },
    {
     "name": "stdout",
     "output_type": "stream",
     "text": [
      "Training until validation scores don't improve for 200 rounds\n",
      "[100]\tvalid_0's multi_logloss: 0.364761\n",
      "[200]\tvalid_0's multi_logloss: 0.357068\n",
      "[300]\tvalid_0's multi_logloss: 0.365306\n",
      "Early stopping, best iteration is:\n",
      "[183]\tvalid_0's multi_logloss: 0.356413\n",
      "Log Loss:  0.35641319694191875\n"
     ]
    },
    {
     "name": "stderr",
     "output_type": "stream",
     "text": [
      "C:\\Users\\kesha\\Anaconda3\\lib\\site-packages\\lightgbm\\engine.py:148: UserWarning: Found `num_iterations` in params. Will use it instead of argument\n",
      "  warnings.warn(\"Found `{}` in params. Will use it instead of argument\".format(alias))\n"
     ]
    },
    {
     "name": "stdout",
     "output_type": "stream",
     "text": [
      "Training until validation scores don't improve for 200 rounds\n",
      "[100]\tvalid_0's multi_logloss: 0.361099\n",
      "[200]\tvalid_0's multi_logloss: 0.359354\n",
      "[300]\tvalid_0's multi_logloss: 0.366485\n",
      "Early stopping, best iteration is:\n",
      "[136]\tvalid_0's multi_logloss: 0.35648\n",
      "Log Loss:  0.35648031842712175\n"
     ]
    },
    {
     "name": "stderr",
     "output_type": "stream",
     "text": [
      "C:\\Users\\kesha\\Anaconda3\\lib\\site-packages\\lightgbm\\engine.py:148: UserWarning: Found `num_iterations` in params. Will use it instead of argument\n",
      "  warnings.warn(\"Found `{}` in params. Will use it instead of argument\".format(alias))\n"
     ]
    },
    {
     "name": "stdout",
     "output_type": "stream",
     "text": [
      "Training until validation scores don't improve for 200 rounds\n",
      "[100]\tvalid_0's multi_logloss: 0.346975\n",
      "[200]\tvalid_0's multi_logloss: 0.343094\n",
      "[300]\tvalid_0's multi_logloss: 0.349827\n",
      "Early stopping, best iteration is:\n",
      "[144]\tvalid_0's multi_logloss: 0.340249\n",
      "Log Loss:  0.34024920648930973\n"
     ]
    }
   ],
   "source": [
    "from sklearn.model_selection import KFold, StratifiedKFold\n",
    "\n",
    "errlgb = []\n",
    "y_pred_totlgb = []\n",
    "\n",
    "fold = StratifiedKFold(n_splits=10, shuffle=False, random_state=123456789)\n",
    "\n",
    "for train_index, test_index in fold.split(X, y):\n",
    "    \n",
    "    X_train, X_test = X.loc[train_index], X.loc[test_index]\n",
    "    y_train, y_test = y[train_index], y[test_index]\n",
    "    \n",
    "    train_data = lgb.Dataset(X_train, label=y_train)\n",
    "    test_data = lgb.Dataset(X_test, label=y_test)\n",
    "    param = {'objective': 'multiclass',\n",
    "         'num_class': 7,\n",
    "         'boosting': 'gbdt',  \n",
    "         'metric': 'multi_logloss',\n",
    "         'learning_rate': 0.2, \n",
    "         'num_iterations': 2000,\n",
    "         'num_leaves': 100,\n",
    "         'max_depth': -1,\n",
    "         'min_data_in_leaf': 15,\n",
    "         'bagging_fraction':0.9,\n",
    "         'bagging_freq': 1,\n",
    "         'feature_fraction': 0.7,\n",
    "         'lambda_l2': 0.8,\n",
    "         'min_data_per_group': 75,\n",
    "         'max_bin': 255,\n",
    "         'is_unbalance':False\n",
    "         }\n",
    "    clf = lgb.train(params=param,\n",
    "                     early_stopping_rounds=200,\n",
    "                     verbose_eval=100,\n",
    "                     train_set=train_data,\n",
    "                     valid_sets=[test_data])\n",
    "\n",
    "    y_pred = clf.predict(X_test)\n",
    "    print(\"Log Loss: \", (log_loss(y_test, y_pred)))\n",
    "    \n",
    "    errlgb.append(log_loss(y_test, y_pred))\n",
    "    p = clf.predict(Xtest)\n",
    "    y_pred_totlgb.append(p)"
   ]
  },
  {
   "cell_type": "code",
   "execution_count": 36,
   "metadata": {
    "colab": {
     "base_uri": "https://localhost:8080/",
     "height": 33
    },
    "colab_type": "code",
    "id": "ZVeNbrCM3vRv",
    "outputId": "2d27dd24-1841-4482-fce2-286ccc79ebd9"
   },
   "outputs": [
    {
     "data": {
      "text/plain": [
       "0.35740542056895386"
      ]
     },
     "execution_count": 36,
     "metadata": {},
     "output_type": "execute_result"
    }
   ],
   "source": [
    "np.mean(errlgb,0)"
   ]
  },
  {
   "cell_type": "code",
   "execution_count": 37,
   "metadata": {
    "colab": {
     "base_uri": "https://localhost:8080/",
     "height": 33
    },
    "colab_type": "code",
    "id": "g8-oJdnS_M0H",
    "outputId": "83fc7d5a-5377-4508-ca9f-b81e478ac146"
   },
   "outputs": [
    {
     "data": {
      "text/plain": [
       "RangeIndex(start=0, stop=7, step=1)"
      ]
     },
     "execution_count": 37,
     "metadata": {},
     "output_type": "execute_result"
    }
   ],
   "source": [
    "\n",
    "sub.columns"
   ]
  },
  {
   "cell_type": "code",
   "execution_count": 38,
   "metadata": {
    "colab": {},
    "colab_type": "code",
    "id": "Wl-DzupM_Pey"
   },
   "outputs": [],
   "source": [
    "y_pred = np.mean(y_pred_totlgb,0)"
   ]
  },
  {
   "cell_type": "code",
   "execution_count": 39,
   "metadata": {
    "colab": {
     "base_uri": "https://localhost:8080/",
     "height": 190
    },
    "colab_type": "code",
    "id": "b9hcKQrQ_SJS",
    "outputId": "db9ceaf4-d491-4e8f-bc26-039fc0451ec9"
   },
   "outputs": [
    {
     "data": {
      "text/html": [
       "<div>\n",
       "<style scoped>\n",
       "    .dataframe tbody tr th:only-of-type {\n",
       "        vertical-align: middle;\n",
       "    }\n",
       "\n",
       "    .dataframe tbody tr th {\n",
       "        vertical-align: top;\n",
       "    }\n",
       "\n",
       "    .dataframe thead th {\n",
       "        text-align: right;\n",
       "    }\n",
       "</style>\n",
       "<table border=\"1\" class=\"dataframe\">\n",
       "  <thead>\n",
       "    <tr style=\"text-align: right;\">\n",
       "      <th></th>\n",
       "      <th>0</th>\n",
       "      <th>1</th>\n",
       "      <th>2</th>\n",
       "      <th>3</th>\n",
       "      <th>4</th>\n",
       "      <th>5</th>\n",
       "      <th>6</th>\n",
       "    </tr>\n",
       "  </thead>\n",
       "  <tbody>\n",
       "    <tr>\n",
       "      <th>0</th>\n",
       "      <td>0.000002</td>\n",
       "      <td>2.723828e-05</td>\n",
       "      <td>1.830440e-06</td>\n",
       "      <td>4.596642e-07</td>\n",
       "      <td>0.994611</td>\n",
       "      <td>8.637008e-06</td>\n",
       "      <td>0.005349</td>\n",
       "    </tr>\n",
       "    <tr>\n",
       "      <th>1</th>\n",
       "      <td>0.986627</td>\n",
       "      <td>5.206973e-07</td>\n",
       "      <td>1.578939e-07</td>\n",
       "      <td>1.232250e-07</td>\n",
       "      <td>0.000050</td>\n",
       "      <td>2.788258e-07</td>\n",
       "      <td>0.013323</td>\n",
       "    </tr>\n",
       "    <tr>\n",
       "      <th>2</th>\n",
       "      <td>0.000010</td>\n",
       "      <td>3.521545e-04</td>\n",
       "      <td>1.220398e-04</td>\n",
       "      <td>1.776643e-06</td>\n",
       "      <td>0.994563</td>\n",
       "      <td>2.361017e-03</td>\n",
       "      <td>0.002590</td>\n",
       "    </tr>\n",
       "    <tr>\n",
       "      <th>3</th>\n",
       "      <td>0.000018</td>\n",
       "      <td>1.975362e-03</td>\n",
       "      <td>3.079204e-06</td>\n",
       "      <td>1.573488e-06</td>\n",
       "      <td>0.978267</td>\n",
       "      <td>4.396957e-05</td>\n",
       "      <td>0.019691</td>\n",
       "    </tr>\n",
       "    <tr>\n",
       "      <th>4</th>\n",
       "      <td>0.000021</td>\n",
       "      <td>1.074313e-04</td>\n",
       "      <td>7.266962e-05</td>\n",
       "      <td>3.657834e-06</td>\n",
       "      <td>0.270100</td>\n",
       "      <td>1.080632e-04</td>\n",
       "      <td>0.729588</td>\n",
       "    </tr>\n",
       "  </tbody>\n",
       "</table>\n",
       "</div>"
      ],
      "text/plain": [
       "          0             1             2             3         4             5  \\\n",
       "0  0.000002  2.723828e-05  1.830440e-06  4.596642e-07  0.994611  8.637008e-06   \n",
       "1  0.986627  5.206973e-07  1.578939e-07  1.232250e-07  0.000050  2.788258e-07   \n",
       "2  0.000010  3.521545e-04  1.220398e-04  1.776643e-06  0.994563  2.361017e-03   \n",
       "3  0.000018  1.975362e-03  3.079204e-06  1.573488e-06  0.978267  4.396957e-05   \n",
       "4  0.000021  1.074313e-04  7.266962e-05  3.657834e-06  0.270100  1.080632e-04   \n",
       "\n",
       "          6  \n",
       "0  0.005349  \n",
       "1  0.013323  \n",
       "2  0.002590  \n",
       "3  0.019691  \n",
       "4  0.729588  "
      ]
     },
     "execution_count": 39,
     "metadata": {},
     "output_type": "execute_result"
    }
   ],
   "source": [
    "\n",
    "submission = pd.DataFrame(data=y_pred, columns=sub.columns)\n",
    "submission.head()"
   ]
  },
  {
   "cell_type": "code",
   "execution_count": 40,
   "metadata": {
    "colab": {},
    "colab_type": "code",
    "id": "1CIHvNet_UCm"
   },
   "outputs": [],
   "source": [
    "\n",
    "submission.to_csv('lgb2.csv', index=False)"
   ]
  },
  {
   "cell_type": "code",
   "execution_count": null,
   "metadata": {},
   "outputs": [],
   "source": []
  }
 ],
 "metadata": {
  "colab": {
   "collapsed_sections": [],
   "name": "Forest Cover Classification: Weekend Hackathon #12.ipynb",
   "provenance": []
  },
  "kernelspec": {
   "display_name": "Python 3",
   "language": "python",
   "name": "python3"
  },
  "language_info": {
   "codemirror_mode": {
    "name": "ipython",
    "version": 3
   },
   "file_extension": ".py",
   "mimetype": "text/x-python",
   "name": "python",
   "nbconvert_exporter": "python",
   "pygments_lexer": "ipython3",
   "version": "3.7.4"
  }
 },
 "nbformat": 4,
 "nbformat_minor": 1
}
