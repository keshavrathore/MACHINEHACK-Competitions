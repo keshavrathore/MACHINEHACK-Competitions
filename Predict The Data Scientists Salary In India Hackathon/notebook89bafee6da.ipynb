{
 "cells": [
  {
   "cell_type": "code",
   "execution_count": 2,
   "metadata": {
    "_cell_guid": "b1076dfc-b9ad-4769-8c92-a6c4dae69d19",
    "_uuid": "8f2839f25d086af736a60e9eeb907d3b93b6e0e5"
   },
   "outputs": [],
   "source": [
    "# This Python 3 environment comes with many helpful analytics libraries installed\n",
    "# It is defined by the kaggle/python docker image: https://github.com/kaggle/docker-python\n",
    "# For example, here's several helpful packages to load in \n",
    "\n",
    "import numpy as np # linear algebra\n",
    "import pandas as pd # data processing, CSV file I/O (e.g. pd.read_csv)\n",
    "\n",
    "# Input data files are available in the \"../input/\" directory.\n",
    "# For example, running this (by clicking run or pressing Shift+Enter) will list the files in the input directory\n",
    "import numpy as np\n",
    "import pandas as pd\n",
    "import seaborn as sns\n",
    "import matplotlib.pyplot as plt\n",
    "%matplotlib inline\n",
    "from matplotlib.pylab import rcParams\n",
    "rcParams['figure.figsize'] = 12, 8\n",
    "import os\n",
    "# print(os.listdir(\"../input/predict-the-data-scientists-salary-in-india-hackathon\"))\n",
    "\n",
    "# Any results you write to the current directory are saved as output."
   ]
  },
  {
   "cell_type": "code",
   "execution_count": 3,
   "metadata": {
    "_cell_guid": "79c7e3d0-c299-4dcb-8224-4455121ee9b0",
    "_uuid": "d629ff2d2480ee46fbb7e2d37f6b5fab8052498a"
   },
   "outputs": [
    {
     "data": {
      "text/html": [
       "<div>\n",
       "<style scoped>\n",
       "    .dataframe tbody tr th:only-of-type {\n",
       "        vertical-align: middle;\n",
       "    }\n",
       "\n",
       "    .dataframe tbody tr th {\n",
       "        vertical-align: top;\n",
       "    }\n",
       "\n",
       "    .dataframe thead th {\n",
       "        text-align: right;\n",
       "    }\n",
       "</style>\n",
       "<table border=\"1\" class=\"dataframe\">\n",
       "  <thead>\n",
       "    <tr style=\"text-align: right;\">\n",
       "      <th></th>\n",
       "      <th>Unnamed: 0</th>\n",
       "      <th>experience</th>\n",
       "      <th>job_description</th>\n",
       "      <th>job_desig</th>\n",
       "      <th>job_type</th>\n",
       "      <th>key_skills</th>\n",
       "      <th>location</th>\n",
       "      <th>salary</th>\n",
       "      <th>company_name_encoded</th>\n",
       "    </tr>\n",
       "  </thead>\n",
       "  <tbody>\n",
       "    <tr>\n",
       "      <th>0</th>\n",
       "      <td>0</td>\n",
       "      <td>5-7 yrs</td>\n",
       "      <td>Exp: Minimum 5 years;Good understanding of IOC...</td>\n",
       "      <td>Senior Exploit and Vulnerability Researcher</td>\n",
       "      <td>NaN</td>\n",
       "      <td>team skills, communication skills, analytical ...</td>\n",
       "      <td>Delhi NCR(Vikas Puri)</td>\n",
       "      <td>6to10</td>\n",
       "      <td>3687</td>\n",
       "    </tr>\n",
       "    <tr>\n",
       "      <th>1</th>\n",
       "      <td>1</td>\n",
       "      <td>10-17 yrs</td>\n",
       "      <td>He should have handled a team of atleast 5-6 d...</td>\n",
       "      <td>Head SCM</td>\n",
       "      <td>NaN</td>\n",
       "      <td>ppc, logistics, inventory management, supply c...</td>\n",
       "      <td>Sonepat</td>\n",
       "      <td>10to15</td>\n",
       "      <td>458</td>\n",
       "    </tr>\n",
       "    <tr>\n",
       "      <th>2</th>\n",
       "      <td>2</td>\n",
       "      <td>5-9 yrs</td>\n",
       "      <td>Must be an effective communicator (written &amp; s...</td>\n",
       "      <td>Deputy Manager - Talent Management &amp; Leadershi...</td>\n",
       "      <td>Analytics</td>\n",
       "      <td>HR Analytics, Employee Engagement, Training, S...</td>\n",
       "      <td>Delhi NCR</td>\n",
       "      <td>15to25</td>\n",
       "      <td>4195</td>\n",
       "    </tr>\n",
       "    <tr>\n",
       "      <th>3</th>\n",
       "      <td>3</td>\n",
       "      <td>7-10 yrs</td>\n",
       "      <td>7  -  10 years of overall experience in data e...</td>\n",
       "      <td>Associate Manager Data Engineering</td>\n",
       "      <td>Analytics</td>\n",
       "      <td>SQL, Javascript, Automation, Python, Ruby, Ana...</td>\n",
       "      <td>Bengaluru</td>\n",
       "      <td>10to15</td>\n",
       "      <td>313</td>\n",
       "    </tr>\n",
       "    <tr>\n",
       "      <th>4</th>\n",
       "      <td>4</td>\n",
       "      <td>1-3 yrs</td>\n",
       "      <td>Chartered Accountancy degree or MBA in Finance...</td>\n",
       "      <td>TS- GSA- Senior Analyst</td>\n",
       "      <td>NaN</td>\n",
       "      <td>accounting, finance, cash flow, financial plan...</td>\n",
       "      <td>Gurgaon</td>\n",
       "      <td>3to6</td>\n",
       "      <td>1305</td>\n",
       "    </tr>\n",
       "  </tbody>\n",
       "</table>\n",
       "</div>"
      ],
      "text/plain": [
       "   Unnamed: 0 experience                                    job_description  \\\n",
       "0           0    5-7 yrs  Exp: Minimum 5 years;Good understanding of IOC...   \n",
       "1           1  10-17 yrs  He should have handled a team of atleast 5-6 d...   \n",
       "2           2    5-9 yrs  Must be an effective communicator (written & s...   \n",
       "3           3   7-10 yrs  7  -  10 years of overall experience in data e...   \n",
       "4           4    1-3 yrs  Chartered Accountancy degree or MBA in Finance...   \n",
       "\n",
       "                                           job_desig   job_type  \\\n",
       "0        Senior Exploit and Vulnerability Researcher        NaN   \n",
       "1                                           Head SCM        NaN   \n",
       "2  Deputy Manager - Talent Management & Leadershi...  Analytics   \n",
       "3                 Associate Manager Data Engineering  Analytics   \n",
       "4                            TS- GSA- Senior Analyst        NaN   \n",
       "\n",
       "                                          key_skills               location  \\\n",
       "0  team skills, communication skills, analytical ...  Delhi NCR(Vikas Puri)   \n",
       "1  ppc, logistics, inventory management, supply c...                Sonepat   \n",
       "2  HR Analytics, Employee Engagement, Training, S...              Delhi NCR   \n",
       "3  SQL, Javascript, Automation, Python, Ruby, Ana...              Bengaluru   \n",
       "4  accounting, finance, cash flow, financial plan...                Gurgaon   \n",
       "\n",
       "   salary  company_name_encoded  \n",
       "0   6to10                  3687  \n",
       "1  10to15                   458  \n",
       "2  15to25                  4195  \n",
       "3  10to15                   313  \n",
       "4    3to6                  1305  "
      ]
     },
     "execution_count": 3,
     "metadata": {},
     "output_type": "execute_result"
    }
   ],
   "source": [
    "train=pd.read_csv('Final_Train_Dataset.csv')\n",
    "test=pd.read_csv('Final_Test_Dataset.csv')\n",
    "train.head()"
   ]
  },
  {
   "cell_type": "code",
   "execution_count": 4,
   "metadata": {
    "_uuid": "b41b729bfcec9b6504a6e51200bc197da7ef243a"
   },
   "outputs": [
    {
     "data": {
      "text/plain": [
       "(19802, 9)"
      ]
     },
     "execution_count": 4,
     "metadata": {},
     "output_type": "execute_result"
    }
   ],
   "source": [
    "train.company_name_encoded.nunique()\n",
    "train.shape"
   ]
  },
  {
   "cell_type": "code",
   "execution_count": 5,
   "metadata": {
    "_uuid": "c81bd225913817a1cacbe3c0ddfa5aca94030b19"
   },
   "outputs": [
    {
     "name": "stdout",
     "output_type": "stream",
     "text": [
      "1\n",
      "2\n"
     ]
    }
   ],
   "source": [
    "train.salary.value_counts()\n",
    "print(1)\n",
    "print(2)"
   ]
  },
  {
   "cell_type": "code",
   "execution_count": null,
   "metadata": {
    "_uuid": "1b218f639d614a9aefeda929f659aee5f89a9bcd"
   },
   "outputs": [],
   "source": [
    "# target=pd.get_dummies(train.salary)"
   ]
  },
  {
   "cell_type": "code",
   "execution_count": 6,
   "metadata": {
    "_uuid": "2df2d12d1ddd878a0417d92603aad01947f722b9"
   },
   "outputs": [
    {
     "data": {
      "text/html": [
       "<div>\n",
       "<style scoped>\n",
       "    .dataframe tbody tr th:only-of-type {\n",
       "        vertical-align: middle;\n",
       "    }\n",
       "\n",
       "    .dataframe tbody tr th {\n",
       "        vertical-align: top;\n",
       "    }\n",
       "\n",
       "    .dataframe thead th {\n",
       "        text-align: right;\n",
       "    }\n",
       "</style>\n",
       "<table border=\"1\" class=\"dataframe\">\n",
       "  <thead>\n",
       "    <tr style=\"text-align: right;\">\n",
       "      <th></th>\n",
       "      <th>experience</th>\n",
       "      <th>job_description</th>\n",
       "      <th>job_desig</th>\n",
       "      <th>job_type</th>\n",
       "      <th>key_skills</th>\n",
       "      <th>location</th>\n",
       "      <th>company_name_encoded</th>\n",
       "    </tr>\n",
       "  </thead>\n",
       "  <tbody>\n",
       "    <tr>\n",
       "      <th>0</th>\n",
       "      <td>7-12 yrs</td>\n",
       "      <td>Professional experience in Java/J2EE based ser...</td>\n",
       "      <td>IT Technology Senior Consultant/java/ J2ee/ Se...</td>\n",
       "      <td>NaN</td>\n",
       "      <td>Java, J2Ee, Tomcat, JBoss, Weblogic, Oracle, E...</td>\n",
       "      <td>Bengaluru</td>\n",
       "      <td>2066</td>\n",
       "    </tr>\n",
       "    <tr>\n",
       "      <th>1</th>\n",
       "      <td>0-5 yrs</td>\n",
       "      <td>We are looking for 20+ Fresher/Experienced Can...</td>\n",
       "      <td>Medical Billing Process | International KPO | ...</td>\n",
       "      <td>NaN</td>\n",
       "      <td>Medical Billing, Insurance Processing</td>\n",
       "      <td>Ahmedabad(Sola)</td>\n",
       "      <td>2629</td>\n",
       "    </tr>\n",
       "    <tr>\n",
       "      <th>2</th>\n",
       "      <td>3-6 yrs</td>\n",
       "      <td>Should understand overall integration framewor...</td>\n",
       "      <td>Oracle Sales Cloud Functional Consultant</td>\n",
       "      <td>NaN</td>\n",
       "      <td>Oracle Sales, Functional Consultancy, Troubles...</td>\n",
       "      <td>Bengaluru</td>\n",
       "      <td>2448</td>\n",
       "    </tr>\n",
       "    <tr>\n",
       "      <th>3</th>\n",
       "      <td>0-3 yrs</td>\n",
       "      <td>NaN</td>\n",
       "      <td>Looking For Freshers WHO WANT To Work WITH US</td>\n",
       "      <td>NaN</td>\n",
       "      <td>offline, online, internet, part time, home bas...</td>\n",
       "      <td>Delhi NCR, Chennai, Hyderabad, Gurgaon, Luckno...</td>\n",
       "      <td>2711</td>\n",
       "    </tr>\n",
       "    <tr>\n",
       "      <th>4</th>\n",
       "      <td>0-5 yrs</td>\n",
       "      <td>NaN</td>\n",
       "      <td>Process Associate / Sr Process Associate / Tec...</td>\n",
       "      <td>NaN</td>\n",
       "      <td>voice support, analytical skills, Process asso...</td>\n",
       "      <td>Hyderabad</td>\n",
       "      <td>40</td>\n",
       "    </tr>\n",
       "  </tbody>\n",
       "</table>\n",
       "</div>"
      ],
      "text/plain": [
       "  experience                                    job_description  \\\n",
       "0   7-12 yrs  Professional experience in Java/J2EE based ser...   \n",
       "1    0-5 yrs  We are looking for 20+ Fresher/Experienced Can...   \n",
       "2    3-6 yrs  Should understand overall integration framewor...   \n",
       "3    0-3 yrs                                                NaN   \n",
       "4    0-5 yrs                                                NaN   \n",
       "\n",
       "                                           job_desig job_type  \\\n",
       "0  IT Technology Senior Consultant/java/ J2ee/ Se...      NaN   \n",
       "1  Medical Billing Process | International KPO | ...      NaN   \n",
       "2           Oracle Sales Cloud Functional Consultant      NaN   \n",
       "3      Looking For Freshers WHO WANT To Work WITH US      NaN   \n",
       "4  Process Associate / Sr Process Associate / Tec...      NaN   \n",
       "\n",
       "                                          key_skills  \\\n",
       "0  Java, J2Ee, Tomcat, JBoss, Weblogic, Oracle, E...   \n",
       "1              Medical Billing, Insurance Processing   \n",
       "2  Oracle Sales, Functional Consultancy, Troubles...   \n",
       "3  offline, online, internet, part time, home bas...   \n",
       "4  voice support, analytical skills, Process asso...   \n",
       "\n",
       "                                            location  company_name_encoded  \n",
       "0                                          Bengaluru                  2066  \n",
       "1                                    Ahmedabad(Sola)                  2629  \n",
       "2                                          Bengaluru                  2448  \n",
       "3  Delhi NCR, Chennai, Hyderabad, Gurgaon, Luckno...                  2711  \n",
       "4                                          Hyderabad                    40  "
      ]
     },
     "execution_count": 6,
     "metadata": {},
     "output_type": "execute_result"
    }
   ],
   "source": [
    "test.head()"
   ]
  },
  {
   "cell_type": "code",
   "execution_count": 7,
   "metadata": {
    "_uuid": "b877ae946dac54dc368c2f121f7d77f86a9572ec"
   },
   "outputs": [
    {
     "data": {
      "text/plain": [
       "Analytics    3747\n",
       "analytics     921\n",
       "ANALYTICS      77\n",
       "analytic       32\n",
       "Analytic       20\n",
       "Name: job_type, dtype: int64"
      ]
     },
     "execution_count": 7,
     "metadata": {},
     "output_type": "execute_result"
    }
   ],
   "source": [
    "# train.experience.apply(lambda x:x.split(\"-\"))\n",
    "train.job_type.value_counts()"
   ]
  },
  {
   "cell_type": "code",
   "execution_count": 8,
   "metadata": {
    "_uuid": "5d1791fb167a8a1b168570a848bda7f42dde9e6f"
   },
   "outputs": [],
   "source": [
    "df=train.copy()\n",
    "\n",
    "df.job_description.fillna('None',inplace=True)\n",
    "df.key_skills.fillna('None',inplace=True)\n",
    "def exp1(val):\n",
    "    v=val.split(\" \")[0].split(\"-\")\n",
    "    v1,v2=int(v[0]),int(v[1])\n",
    "    return (v1+v2)/2\n",
    "df['exp']=df.experience.apply(exp1)\n",
    "df['key_skill_len']=df.key_skills.apply(lambda x:len(x.split(\",\")))\n",
    "\n",
    "\n",
    "df['exp_low']=df.experience.apply(lambda x:int(x.split(\"-\")[0]))\n",
    "df['exp_high']=df.experience.apply(lambda x:int(x.split(\"-\")[1].split(\" \")[0]))\n",
    "\n",
    "\n",
    "df['jdescLen']=df.job_description.apply(len)\n",
    "df['jdsgnLen']=df.job_desig.apply(len)\n",
    "df['locationLen']=df.location.apply(lambda x:len(x.split(\",\")))\n",
    "\n",
    "df.drop(['job_type','Unnamed: 0','experience'],axis=1,inplace=True)\n",
    "target=df.salary\n",
    "# target=pd.get_dummies(train.salary)"
   ]
  },
  {
   "cell_type": "code",
   "execution_count": 9,
   "metadata": {
    "_uuid": "352b70a3c25c8e21ed19003cd6cbfe8c08484281"
   },
   "outputs": [
    {
     "data": {
      "text/html": [
       "<div>\n",
       "<style scoped>\n",
       "    .dataframe tbody tr th:only-of-type {\n",
       "        vertical-align: middle;\n",
       "    }\n",
       "\n",
       "    .dataframe tbody tr th {\n",
       "        vertical-align: top;\n",
       "    }\n",
       "\n",
       "    .dataframe thead th {\n",
       "        text-align: right;\n",
       "    }\n",
       "</style>\n",
       "<table border=\"1\" class=\"dataframe\">\n",
       "  <thead>\n",
       "    <tr style=\"text-align: right;\">\n",
       "      <th></th>\n",
       "      <th>job_description</th>\n",
       "      <th>job_desig</th>\n",
       "      <th>key_skills</th>\n",
       "      <th>location</th>\n",
       "      <th>salary</th>\n",
       "      <th>company_name_encoded</th>\n",
       "      <th>exp</th>\n",
       "      <th>key_skill_len</th>\n",
       "      <th>exp_low</th>\n",
       "      <th>exp_high</th>\n",
       "      <th>jdescLen</th>\n",
       "      <th>jdsgnLen</th>\n",
       "      <th>locationLen</th>\n",
       "    </tr>\n",
       "  </thead>\n",
       "  <tbody>\n",
       "    <tr>\n",
       "      <th>0</th>\n",
       "      <td>Exp: Minimum 5 years;Good understanding of IOC...</td>\n",
       "      <td>Senior Exploit and Vulnerability Researcher</td>\n",
       "      <td>team skills, communication skills, analytical ...</td>\n",
       "      <td>Delhi NCR(Vikas Puri)</td>\n",
       "      <td>6to10</td>\n",
       "      <td>3687</td>\n",
       "      <td>6.0</td>\n",
       "      <td>4</td>\n",
       "      <td>5</td>\n",
       "      <td>7</td>\n",
       "      <td>96</td>\n",
       "      <td>43</td>\n",
       "      <td>1</td>\n",
       "    </tr>\n",
       "    <tr>\n",
       "      <th>1</th>\n",
       "      <td>He should have handled a team of atleast 5-6 d...</td>\n",
       "      <td>Head SCM</td>\n",
       "      <td>ppc, logistics, inventory management, supply c...</td>\n",
       "      <td>Sonepat</td>\n",
       "      <td>10to15</td>\n",
       "      <td>458</td>\n",
       "      <td>13.5</td>\n",
       "      <td>6</td>\n",
       "      <td>10</td>\n",
       "      <td>17</td>\n",
       "      <td>108</td>\n",
       "      <td>8</td>\n",
       "      <td>1</td>\n",
       "    </tr>\n",
       "    <tr>\n",
       "      <th>2</th>\n",
       "      <td>Must be an effective communicator (written &amp; s...</td>\n",
       "      <td>Deputy Manager - Talent Management &amp; Leadershi...</td>\n",
       "      <td>HR Analytics, Employee Engagement, Training, S...</td>\n",
       "      <td>Delhi NCR</td>\n",
       "      <td>15to25</td>\n",
       "      <td>4195</td>\n",
       "      <td>7.0</td>\n",
       "      <td>4</td>\n",
       "      <td>5</td>\n",
       "      <td>9</td>\n",
       "      <td>100</td>\n",
       "      <td>66</td>\n",
       "      <td>1</td>\n",
       "    </tr>\n",
       "    <tr>\n",
       "      <th>3</th>\n",
       "      <td>7  -  10 years of overall experience in data e...</td>\n",
       "      <td>Associate Manager Data Engineering</td>\n",
       "      <td>SQL, Javascript, Automation, Python, Ruby, Ana...</td>\n",
       "      <td>Bengaluru</td>\n",
       "      <td>10to15</td>\n",
       "      <td>313</td>\n",
       "      <td>8.5</td>\n",
       "      <td>7</td>\n",
       "      <td>7</td>\n",
       "      <td>10</td>\n",
       "      <td>106</td>\n",
       "      <td>34</td>\n",
       "      <td>1</td>\n",
       "    </tr>\n",
       "    <tr>\n",
       "      <th>4</th>\n",
       "      <td>Chartered Accountancy degree or MBA in Finance...</td>\n",
       "      <td>TS- GSA- Senior Analyst</td>\n",
       "      <td>accounting, finance, cash flow, financial plan...</td>\n",
       "      <td>Gurgaon</td>\n",
       "      <td>3to6</td>\n",
       "      <td>1305</td>\n",
       "      <td>2.0</td>\n",
       "      <td>5</td>\n",
       "      <td>1</td>\n",
       "      <td>3</td>\n",
       "      <td>107</td>\n",
       "      <td>23</td>\n",
       "      <td>1</td>\n",
       "    </tr>\n",
       "  </tbody>\n",
       "</table>\n",
       "</div>"
      ],
      "text/plain": [
       "                                     job_description  \\\n",
       "0  Exp: Minimum 5 years;Good understanding of IOC...   \n",
       "1  He should have handled a team of atleast 5-6 d...   \n",
       "2  Must be an effective communicator (written & s...   \n",
       "3  7  -  10 years of overall experience in data e...   \n",
       "4  Chartered Accountancy degree or MBA in Finance...   \n",
       "\n",
       "                                           job_desig  \\\n",
       "0        Senior Exploit and Vulnerability Researcher   \n",
       "1                                           Head SCM   \n",
       "2  Deputy Manager - Talent Management & Leadershi...   \n",
       "3                 Associate Manager Data Engineering   \n",
       "4                            TS- GSA- Senior Analyst   \n",
       "\n",
       "                                          key_skills               location  \\\n",
       "0  team skills, communication skills, analytical ...  Delhi NCR(Vikas Puri)   \n",
       "1  ppc, logistics, inventory management, supply c...                Sonepat   \n",
       "2  HR Analytics, Employee Engagement, Training, S...              Delhi NCR   \n",
       "3  SQL, Javascript, Automation, Python, Ruby, Ana...              Bengaluru   \n",
       "4  accounting, finance, cash flow, financial plan...                Gurgaon   \n",
       "\n",
       "   salary  company_name_encoded   exp  key_skill_len  exp_low  exp_high  \\\n",
       "0   6to10                  3687   6.0              4        5         7   \n",
       "1  10to15                   458  13.5              6       10        17   \n",
       "2  15to25                  4195   7.0              4        5         9   \n",
       "3  10to15                   313   8.5              7        7        10   \n",
       "4    3to6                  1305   2.0              5        1         3   \n",
       "\n",
       "   jdescLen  jdsgnLen  locationLen  \n",
       "0        96        43            1  \n",
       "1       108         8            1  \n",
       "2       100        66            1  \n",
       "3       106        34            1  \n",
       "4       107        23            1  "
      ]
     },
     "execution_count": 9,
     "metadata": {},
     "output_type": "execute_result"
    }
   ],
   "source": [
    "df.head()"
   ]
  },
  {
   "cell_type": "code",
   "execution_count": 10,
   "metadata": {
    "_uuid": "726404c0f8c66b0f94323feffacb7e7c36688d5e"
   },
   "outputs": [
    {
     "data": {
      "text/plain": [
       "job_description         0\n",
       "job_desig               0\n",
       "key_skills              0\n",
       "location                0\n",
       "salary                  0\n",
       "company_name_encoded    0\n",
       "exp                     0\n",
       "key_skill_len           0\n",
       "exp_low                 0\n",
       "exp_high                0\n",
       "jdescLen                0\n",
       "jdsgnLen                0\n",
       "locationLen             0\n",
       "dtype: int64"
      ]
     },
     "execution_count": 10,
     "metadata": {},
     "output_type": "execute_result"
    }
   ],
   "source": [
    "df.isnull().sum()\n",
    "# df.columns"
   ]
  },
  {
   "cell_type": "code",
   "execution_count": 11,
   "metadata": {
    "_uuid": "6024af58df8a38188fff6c47b242496faae071d4"
   },
   "outputs": [],
   "source": [
    "from sklearn.feature_extraction.text import CountVectorizer,TfidfVectorizer\n",
    "cv_jb = TfidfVectorizer(ngram_range=(1,3),stop_words=\"english\", analyzer='word')\n",
    "jb =cv_jb.fit_transform(df['job_description'])\n",
    "\n",
    "cv_jd = TfidfVectorizer(ngram_range=(1,2),stop_words=\"english\", analyzer='word')\n",
    "jd =cv_jd.fit_transform(df['job_desig'])\n",
    "\n",
    "cv_key = TfidfVectorizer(ngram_range=(1,3),stop_words=\"english\", analyzer='word')\n",
    "ks =cv_key.fit_transform(df['key_skills'])\n",
    "\n",
    "cv_jbchar = TfidfVectorizer(ngram_range=(1,9),stop_words=\"english\", analyzer='char')\n",
    "jbchar =cv_jbchar.fit_transform(df['job_description'])\n",
    "\n",
    "cv_jdchar = TfidfVectorizer(ngram_range=(1,8),stop_words=\"english\", analyzer='char')\n",
    "jdchar =cv_jdchar.fit_transform(df['job_desig'])\n",
    "\n",
    "cv_keychar = TfidfVectorizer(ngram_range=(1,9),stop_words=\"english\", analyzer='char')\n",
    "kschar =cv_keychar.fit_transform(df['key_skills'])\n"
   ]
  },
  {
   "cell_type": "code",
   "execution_count": 12,
   "metadata": {
    "_uuid": "2c1699653fe193611fe2c3f00225be23de9bd64c"
   },
   "outputs": [
    {
     "data": {
      "text/plain": [
       "array(['Delhi NCR(Vikas Puri)', 'Sonepat', 'Delhi NCR', ..., 'Mumbai',\n",
       "       'Hyderabad', 'Bengaluru'], dtype=object)"
      ]
     },
     "execution_count": 12,
     "metadata": {},
     "output_type": "execute_result"
    }
   ],
   "source": [
    "\n",
    "# loc=np.array(df['location'].values)\n",
    "# loc.append(np.array(test['location'].values),axis=0)\n",
    "loc = np.append(df['location'].values, test['location'].values, axis=0)\n",
    "loc"
   ]
  },
  {
   "cell_type": "code",
   "execution_count": 13,
   "metadata": {
    "_uuid": "eff516f6c75e184e2adc6d64496657ff6b3436fa"
   },
   "outputs": [
    {
     "data": {
      "text/plain": [
       "(26403,)"
      ]
     },
     "execution_count": 13,
     "metadata": {},
     "output_type": "execute_result"
    }
   ],
   "source": [
    "loc.shape"
   ]
  },
  {
   "cell_type": "code",
   "execution_count": 14,
   "metadata": {
    "_uuid": "bc4d37481fecc8c00d663ed4400a2908b74f18d7"
   },
   "outputs": [],
   "source": [
    "from sklearn.preprocessing import LabelEncoder\n",
    "l=LabelEncoder()\n",
    "l.fit(list(set(loc)))\n",
    "df['location']=l.transform(df['location'])\n",
    "\n",
    "\n",
    "tot_comp = np.append(df['company_name_encoded'].values, test['company_name_encoded'].values, axis=0)\n",
    "l_comp=LabelEncoder()\n",
    "l_comp.fit(list(set(tot_comp)))\n",
    "df['company_name_encoded']=l_comp.transform(df['company_name_encoded'])\n",
    "\n"
   ]
  },
  {
   "cell_type": "code",
   "execution_count": 15,
   "metadata": {
    "_uuid": "913e6e21863402a5f7dc52e2589012f25ae2abb1"
   },
   "outputs": [
    {
     "data": {
      "text/plain": [
       "Index(['job_description', 'job_desig', 'key_skills', 'location', 'salary',\n",
       "       'company_name_encoded', 'exp', 'key_skill_len', 'exp_low', 'exp_high',\n",
       "       'jdescLen', 'jdsgnLen', 'locationLen'],\n",
       "      dtype='object')"
      ]
     },
     "execution_count": 15,
     "metadata": {},
     "output_type": "execute_result"
    }
   ],
   "source": [
    "df.columns\n"
   ]
  },
  {
   "cell_type": "code",
   "execution_count": 16,
   "metadata": {
    "_uuid": "58ea4f124c9dc761959741e664ec9f163fe718b6"
   },
   "outputs": [],
   "source": [
    "from scipy.sparse import csr_matrix\n",
    "from scipy import sparse\n",
    "final_features = sparse.hstack((df[['location','company_name_encoded','exp','key_skill_len','jdescLen', 'jdsgnLen', 'locationLen']], jb, jd, ks,jbchar, jdchar, kschar)).tocsr()\n",
    "# final_features = sparse.hstack((df[['location','company_name_encoded','exp','key_skill_len']], jb, jd, ks)).tocsr()"
   ]
  },
  {
   "cell_type": "code",
   "execution_count": 17,
   "metadata": {
    "_uuid": "48e0917da5dcf306a952ba79562a6d69b3bfa151"
   },
   "outputs": [
    {
     "data": {
      "text/plain": [
       "<19802x2102744 sparse matrix of type '<class 'numpy.float64'>'\n",
       "\twith 26948727 stored elements in Compressed Sparse Row format>"
      ]
     },
     "execution_count": 17,
     "metadata": {},
     "output_type": "execute_result"
    }
   ],
   "source": [
    "final_features"
   ]
  },
  {
   "cell_type": "code",
   "execution_count": 18,
   "metadata": {
    "_uuid": "d2680fec40b3ecc2556451126e9ace9ff8692a21"
   },
   "outputs": [],
   "source": [
    "dftest=test.copy()\n",
    "\n",
    "dftest.job_description.fillna('None',inplace=True)\n",
    "dftest.key_skills.fillna('None',inplace=True)\n",
    "def exp1(val):\n",
    "    v=val.split(\" \")[0].split(\"-\")\n",
    "    v1,v2=int(v[0]),int(v[1])\n",
    "    return (v1+v2)/2\n",
    "dftest['exp']=dftest.experience.apply(exp1)\n",
    "dftest['key_skill_len']=dftest.key_skills.apply(lambda x:len(x.split(\",\")))\n",
    "\n",
    "dftest['exp_low']=dftest.experience.apply(lambda x:int(x.split(\"-\")[0]))\n",
    "dftest['exp_high']=dftest.experience.apply(lambda x:int(x.split(\"-\")[1].split(\" \")[0]))\n",
    "\n",
    "jb_t =cv_jb.transform(dftest['job_description'])\n",
    "jd_t =cv_jd.transform(dftest['job_desig'])\n",
    "ks_t =cv_key.transform(dftest['key_skills'])\n",
    "\n",
    "jb_tchar =cv_jbchar.transform(dftest['job_description'])\n",
    "jd_tchar =cv_jdchar.transform(dftest['job_desig'])\n",
    "ks_tchar =cv_keychar.transform(dftest['key_skills'])\n",
    "\n",
    "\n",
    "dftest['location']=l.transform(dftest['location'])\n",
    "dftest['company_name_encoded']=l_comp.transform(dftest['company_name_encoded'])\n",
    "\n",
    "dftest['jdescLen']=dftest.job_description.apply(len)\n",
    "dftest['jdsgnLen']=dftest.job_desig.apply(len)\n",
    "dftest['locationLen']=dftest.location.astype(str).apply(lambda x:len(x.split(\",\")))\n",
    "dftest.drop(['job_type','experience'],axis=1,inplace=True)\n",
    "\n",
    "\n",
    "final_features_t = sparse.hstack((dftest[['location','company_name_encoded','exp','key_skill_len','jdescLen', 'jdsgnLen', 'locationLen']], jb_t, jd_t, ks_t,jb_tchar, jd_tchar, ks_tchar)).tocsr()\n",
    "# final_features_t = sparse.hstack((dftest[['location','company_name_encoded','exp','key_skill_len']], jb_t, jd_t, ks_t)).tocsr()"
   ]
  },
  {
   "cell_type": "code",
   "execution_count": 19,
   "metadata": {
    "_uuid": "f1cbdaa8a5e2dfc97cb703edc63562e3ce027f59"
   },
   "outputs": [
    {
     "data": {
      "text/plain": [
       "<6601x2102744 sparse matrix of type '<class 'numpy.float64'>'\n",
       "\twith 8669216 stored elements in Compressed Sparse Row format>"
      ]
     },
     "execution_count": 19,
     "metadata": {},
     "output_type": "execute_result"
    }
   ],
   "source": [
    "final_features_t"
   ]
  },
  {
   "cell_type": "code",
   "execution_count": 20,
   "metadata": {
    "_uuid": "72b6f4de5a4cc1aa5fc00bf668dff2027c06d764"
   },
   "outputs": [],
   "source": [
    "from sklearn.model_selection import train_test_split\n",
    "from sklearn.metrics import accuracy_score\n",
    "X_train,X_val,y_train,y_val = train_test_split(final_features,target,test_size=0.25,random_state = 1994)"
   ]
  },
  {
   "cell_type": "code",
   "execution_count": 21,
   "metadata": {
    "_uuid": "cea8e17c14f73c32481752edbee28b54761bdc01"
   },
   "outputs": [],
   "source": [
    "from sklearn import metrics\n",
    "from sklearn.naive_bayes import MultinomialNB\n",
    "from sklearn.linear_model import LogisticRegression\n",
    "from sklearn.ensemble import RandomForestClassifier\n",
    "from catboost import CatBoostClassifier\n",
    "from sklearn.multiclass import OneVsRestClassifier\n",
    "from sklearn.svm import SVC\n",
    "def train_model(classifier, train_X, train_y, test_X, test_y):\n",
    "    # fit the training dataset on the classifier\n",
    "    classifier.fit(train_X, train_y)\n",
    "    \n",
    "    # predict the labels on validation dataset\n",
    "    predictions = classifier.predict(test_X)\n",
    "    \n",
    "    return metrics.accuracy_score(predictions, test_y)"
   ]
  },
  {
   "cell_type": "code",
   "execution_count": 22,
   "metadata": {
    "_uuid": "095982bbc826ab3e55becc7db8410f2df03c28df"
   },
   "outputs": [],
   "source": [
    "import xgboost\n",
    "# accuracy = train_model(xgboost.XGBClassifier(verbose=True), X_train.tocsc(), y_train, X_val.tocsc(),y_val)\n",
    "# print( \"Xgb, Count Vectors: \", accuracy)"
   ]
  },
  {
   "cell_type": "code",
   "execution_count": null,
   "metadata": {
    "_uuid": "b9753ee5e4449bac33f1bd591c1686fd152bb673"
   },
   "outputs": [],
   "source": [
    "\n",
    "\n",
    "# lr=LogisticRegression(class_weight='balanced',C=2,random_state=1994,n_jobs=-1)\n",
    "# lr.fit(X_train,y_train)\n",
    "# lrpred=lr.predict(X_val)\n",
    "# print(accuracy_score(y_val,lrpred))"
   ]
  },
  {
   "cell_type": "code",
   "execution_count": null,
   "metadata": {
    "_uuid": "adfe1a75997444b0fee6155156fb27bc9ea747b4",
    "scrolled": true
   },
   "outputs": [],
   "source": [
    "# xgb=xgboost.XGBClassifier()\n",
    "\n",
    "# # eval_set = [(X_train.tocsc(), y_train),(X_val.tocsc(), y_val)]\n",
    "# # xgb.fit(X_train.tocsc(), y_train, eval_metric=\"mlogloss\", eval_set=eval_set, verbose=True,early_stopping_rounds=50)\n",
    "# # # make predictions for test data\n",
    "\n",
    "# xgb.fit(X_train.tocsc(),y_train)\n",
    "# xgbpred=xgb.predict(X_val.tocsc())\n",
    "# print(accuracy_score(y_val,xgbpred))"
   ]
  },
  {
   "cell_type": "code",
   "execution_count": null,
   "metadata": {
    "_uuid": "c6c751c359391b2fdfacd87813423cde040f0adb"
   },
   "outputs": [],
   "source": [
    "# xgb=xgboost.XGBClassifier()\n",
    "\n",
    "# # eval_set = [(X_train.tocsc(), y_train),(X_val.tocsc(), y_val)]\n",
    "# # xgb.fit(X_train.tocsc(), y_train, eval_metric=\"mlogloss\", eval_set=eval_set, verbose=True,early_stopping_rounds=50)\n",
    "# # # make predictions for test data\n",
    "\n",
    "# xgb.fit(X_train.tocsc(),y_train)\n",
    "# xgbpred=xgb.predict(X_val.tocsc())\n",
    "# print(accuracy_score(y_val,xgbpred))"
   ]
  },
  {
   "cell_type": "code",
   "execution_count": null,
   "metadata": {
    "_uuid": "512380374ec415d4943558244576e7b6cf33f9d7"
   },
   "outputs": [],
   "source": [
    "# from sklearn.ensemble import RandomForestClassifier\n",
    "# rf=RandomForestClassifier()\n",
    "# rf.fit(X_train,y_train)\n",
    "# rfpred=rf.predict(X_val)\n",
    "# print(accuracy_score(y_val,rfpred))"
   ]
  },
  {
   "cell_type": "code",
   "execution_count": 24,
   "metadata": {
    "_uuid": "96ba1382abfd4dd200edd3512032397c630c9a17"
   },
   "outputs": [],
   "source": [
    "from sklearn.naive_bayes import MultinomialNB\n",
    "from sklearn.linear_model import LogisticRegression\n",
    "from sklearn.ensemble import RandomForestClassifier\n",
    "from catboost import CatBoostClassifier\n",
    "\n",
    "# mb=MultinomialNB(alpha=0.5)\n",
    "# mb.fit(final_features,target)\n",
    "# mbpred=mb.predict(final_features_t)\n",
    "\n",
    "# lr=LogisticRegression(class_weight='balanced',C=2,random_state=1994,n_jobs=-1)\n",
    "# lr.fit(final_features,target)\n",
    "# lrpred=lr.predict(final_features_t)\n",
    "\n",
    "xgb=xgboost.XGBClassifier(verbose=True,n_jobs=-1)\n",
    "xgb.fit(final_features.tocsc(),target)\n",
    "xgbpred=xgb.predict(final_features_t.tocsc())\n",
    "# rf=RandomForestClassifier(n_estimators=200)\n",
    "# rf.fit(final_features,target)\n",
    "# rfpred=rf.predict(final_features_t)\n",
    "\n",
    "# cb=CatBoostClassifier()\n",
    "# cb.fit(final_features,target)\n",
    "# cbpred=cb.predict(final_features_t)\n",
    "\n"
   ]
  },
  {
   "cell_type": "code",
   "execution_count": 25,
   "metadata": {
    "_uuid": "53121ebb14e7c14252b7ab6045d8ec8b0475e4ca"
   },
   "outputs": [
    {
     "data": {
      "text/plain": [
       "array(['15to25', '0to3', '3to6', ..., '15to25', '15to25', '10to15'],\n",
       "      dtype=object)"
      ]
     },
     "execution_count": 25,
     "metadata": {},
     "output_type": "execute_result"
    }
   ],
   "source": [
    "xgbpred"
   ]
  },
  {
   "cell_type": "code",
   "execution_count": 26,
   "metadata": {
    "_uuid": "f725454c4f6e0f1e6905d770d2ae7c3a2fd62c62"
   },
   "outputs": [],
   "source": [
    "s=pd.DataFrame({'company_name_encoded':test.company_name_encoded,'salary':xgbpred})\n",
    "s.head()\n",
    "s.to_excel('xgbbase9.xlsx',index=False)"
   ]
  },
  {
   "cell_type": "code",
   "execution_count": null,
   "metadata": {
    "_uuid": "0c4de7baa563e968309fa417922ac27f373dc2a1"
   },
   "outputs": [],
   "source": [
    "# s['salary']=lrpred\n",
    "# s.to_excel('lr.xlsx',index=False)\n",
    "\n",
    "# s['salary']=rfpred\n",
    "# s.to_excel('rf.xlsx',index=False)"
   ]
  }
 ],
 "metadata": {
  "kernelspec": {
   "display_name": "Python 3",
   "language": "python",
   "name": "python3"
  },
  "language_info": {
   "codemirror_mode": {
    "name": "ipython",
    "version": 3
   },
   "file_extension": ".py",
   "mimetype": "text/x-python",
   "name": "python",
   "nbconvert_exporter": "python",
   "pygments_lexer": "ipython3",
   "version": "3.7.4"
  }
 },
 "nbformat": 4,
 "nbformat_minor": 1
}
