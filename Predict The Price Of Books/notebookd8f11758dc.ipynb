{
 "cells": [
  {
   "cell_type": "markdown",
   "metadata": {},
   "source": [
    "# Predict The Price Of Books\n",
    "> [Machine Hack Hackathon](https://www.machinehack.com/course/predict-the-price-of-books/)\n",
    "\n",
    "<img src=\"https://www.machinehack.com/wp-content/uploads/2019/09/gregory-culmer-e8ThqioFqgs-unsplash.jpg\" width=\"50%\" height=\"50%\">\n",
    "<br>\n",
    "<b>Size of training set:</b> 6237 records\n",
    "<br>\n",
    "<b>Size of test set:</b> 1560 records\n",
    "<br>\n",
    "<b>FEATURES:<b>\n",
    "<ul>\n",
    "    <li>Title: <i>The title of the book</i>\n",
    "    <li>Author: <i>The author(s) of the book.</i>\n",
    "    <li>Edition: <i>The edition of the book eg (Paperback,– Import, 26 Apr 2018)</i>\n",
    "    <li>Reviews: <i>The customer reviews about the book</i>\n",
    "    <li>Ratings: <i>The customer ratings of the book</i>\n",
    "    <li>Synopsis: <i>The synopsis of the book</i>\n",
    "    <li>Genre: <i>The genre the book belongs to</i>\n",
    "    <li>BookCategory: <i>The department the book is usually available at.</i>\n",
    "    <li>Price: <i>The price of the book (Target variable)</i>\n",
    "</ul>"
   ]
  },
  {
   "cell_type": "markdown",
   "metadata": {},
   "source": [
    "**Importing Libraries**"
   ]
  },
  {
   "cell_type": "code",
   "execution_count": 1,
   "metadata": {
    "colab": {},
    "colab_type": "code",
    "id": "A2jGog9WqBop"
   },
   "outputs": [
    {
     "name": "stderr",
     "output_type": "stream",
     "text": [
      "C:\\Users\\kesha\\Anaconda3\\lib\\site-packages\\statsmodels\\tools\\_testing.py:19: FutureWarning: pandas.util.testing is deprecated. Use the functions in the public API at pandas.testing instead.\n",
      "  import pandas.util.testing as tm\n"
     ]
    }
   ],
   "source": [
    "import warnings\n",
    "import numpy as np\n",
    "import pandas as pd\n",
    "import seaborn as sns\n",
    "\n",
    "from collections import Counter\n",
    "from matplotlib import pyplot as plt\n",
    "\n",
    "warnings.filterwarnings('ignore')"
   ]
  },
  {
   "cell_type": "markdown",
   "metadata": {},
   "source": [
    "**Importing Data**"
   ]
  },
  {
   "cell_type": "code",
   "execution_count": 2,
   "metadata": {
    "colab": {},
    "colab_type": "code",
    "id": "Rnsv7SYNqfqp"
   },
   "outputs": [],
   "source": [
    "train = pd.read_excel('Data_Train.xlsx')\n",
    "test = pd.read_excel('Data_Test.xlsx')"
   ]
  },
  {
   "cell_type": "code",
   "execution_count": 3,
   "metadata": {
    "colab": {},
    "colab_type": "code",
    "id": "OctteH1QN7FX"
   },
   "outputs": [],
   "source": [
    "train.drop_duplicates(inplace=True)"
   ]
  },
  {
   "cell_type": "code",
   "execution_count": 4,
   "metadata": {
    "colab": {
     "base_uri": "https://localhost:8080/",
     "height": 272
    },
    "colab_type": "code",
    "executionInfo": {
     "elapsed": 11368,
     "status": "ok",
     "timestamp": 1572169250508,
     "user": {
      "displayName": "Himanshu Saini",
      "photoUrl": "https://lh3.googleusercontent.com/a-/AAuE7mAjE9mZ2NzcI5uuLrEuZ1SNzd5Vp87FTCFGA5aYcwg=s64",
      "userId": "08483872662102224854"
     },
     "user_tz": -330
    },
    "id": "3xoWKjGcrCgx",
    "outputId": "e1f7118d-aa06-4d06-9ed4-60bdecde6256"
   },
   "outputs": [
    {
     "data": {
      "text/html": [
       "<div>\n",
       "<style scoped>\n",
       "    .dataframe tbody tr th:only-of-type {\n",
       "        vertical-align: middle;\n",
       "    }\n",
       "\n",
       "    .dataframe tbody tr th {\n",
       "        vertical-align: top;\n",
       "    }\n",
       "\n",
       "    .dataframe thead th {\n",
       "        text-align: right;\n",
       "    }\n",
       "</style>\n",
       "<table border=\"1\" class=\"dataframe\">\n",
       "  <thead>\n",
       "    <tr style=\"text-align: right;\">\n",
       "      <th></th>\n",
       "      <th>Title</th>\n",
       "      <th>Author</th>\n",
       "      <th>Edition</th>\n",
       "      <th>Reviews</th>\n",
       "      <th>Ratings</th>\n",
       "      <th>Synopsis</th>\n",
       "      <th>Genre</th>\n",
       "      <th>BookCategory</th>\n",
       "      <th>Price</th>\n",
       "    </tr>\n",
       "  </thead>\n",
       "  <tbody>\n",
       "    <tr>\n",
       "      <th>0</th>\n",
       "      <td>The Prisoner's Gold (The Hunters 3)</td>\n",
       "      <td>Chris Kuzneski</td>\n",
       "      <td>Paperback,– 10 Mar 2016</td>\n",
       "      <td>4.0 out of 5 stars</td>\n",
       "      <td>8 customer reviews</td>\n",
       "      <td>THE HUNTERS return in their third brilliant no...</td>\n",
       "      <td>Action &amp; Adventure (Books)</td>\n",
       "      <td>Action &amp; Adventure</td>\n",
       "      <td>220.00</td>\n",
       "    </tr>\n",
       "    <tr>\n",
       "      <th>1</th>\n",
       "      <td>Guru Dutt: A Tragedy in Three Acts</td>\n",
       "      <td>Arun Khopkar</td>\n",
       "      <td>Paperback,– 7 Nov 2012</td>\n",
       "      <td>3.9 out of 5 stars</td>\n",
       "      <td>14 customer reviews</td>\n",
       "      <td>A layered portrait of a troubled genius for wh...</td>\n",
       "      <td>Cinema &amp; Broadcast (Books)</td>\n",
       "      <td>Biographies, Diaries &amp; True Accounts</td>\n",
       "      <td>202.93</td>\n",
       "    </tr>\n",
       "    <tr>\n",
       "      <th>2</th>\n",
       "      <td>Leviathan (Penguin Classics)</td>\n",
       "      <td>Thomas Hobbes</td>\n",
       "      <td>Paperback,– 25 Feb 1982</td>\n",
       "      <td>4.8 out of 5 stars</td>\n",
       "      <td>6 customer reviews</td>\n",
       "      <td>\"During the time men live without a common Pow...</td>\n",
       "      <td>International Relations</td>\n",
       "      <td>Humour</td>\n",
       "      <td>299.00</td>\n",
       "    </tr>\n",
       "    <tr>\n",
       "      <th>3</th>\n",
       "      <td>A Pocket Full of Rye (Miss Marple)</td>\n",
       "      <td>Agatha Christie</td>\n",
       "      <td>Paperback,– 5 Oct 2017</td>\n",
       "      <td>4.1 out of 5 stars</td>\n",
       "      <td>13 customer reviews</td>\n",
       "      <td>A handful of grain is found in the pocket of a...</td>\n",
       "      <td>Contemporary Fiction (Books)</td>\n",
       "      <td>Crime, Thriller &amp; Mystery</td>\n",
       "      <td>180.00</td>\n",
       "    </tr>\n",
       "    <tr>\n",
       "      <th>4</th>\n",
       "      <td>LIFE 70 Years of Extraordinary Photography</td>\n",
       "      <td>Editors of Life</td>\n",
       "      <td>Hardcover,– 10 Oct 2006</td>\n",
       "      <td>5.0 out of 5 stars</td>\n",
       "      <td>1 customer review</td>\n",
       "      <td>For seven decades, \"Life\" has been thrilling t...</td>\n",
       "      <td>Photography Textbooks</td>\n",
       "      <td>Arts, Film &amp; Photography</td>\n",
       "      <td>965.62</td>\n",
       "    </tr>\n",
       "  </tbody>\n",
       "</table>\n",
       "</div>"
      ],
      "text/plain": [
       "                                        Title           Author  \\\n",
       "0         The Prisoner's Gold (The Hunters 3)   Chris Kuzneski   \n",
       "1          Guru Dutt: A Tragedy in Three Acts     Arun Khopkar   \n",
       "2                Leviathan (Penguin Classics)    Thomas Hobbes   \n",
       "3          A Pocket Full of Rye (Miss Marple)  Agatha Christie   \n",
       "4  LIFE 70 Years of Extraordinary Photography  Editors of Life   \n",
       "\n",
       "                   Edition             Reviews              Ratings  \\\n",
       "0  Paperback,– 10 Mar 2016  4.0 out of 5 stars   8 customer reviews   \n",
       "1   Paperback,– 7 Nov 2012  3.9 out of 5 stars  14 customer reviews   \n",
       "2  Paperback,– 25 Feb 1982  4.8 out of 5 stars   6 customer reviews   \n",
       "3   Paperback,– 5 Oct 2017  4.1 out of 5 stars  13 customer reviews   \n",
       "4  Hardcover,– 10 Oct 2006  5.0 out of 5 stars    1 customer review   \n",
       "\n",
       "                                            Synopsis  \\\n",
       "0  THE HUNTERS return in their third brilliant no...   \n",
       "1  A layered portrait of a troubled genius for wh...   \n",
       "2  \"During the time men live without a common Pow...   \n",
       "3  A handful of grain is found in the pocket of a...   \n",
       "4  For seven decades, \"Life\" has been thrilling t...   \n",
       "\n",
       "                          Genre                          BookCategory   Price  \n",
       "0    Action & Adventure (Books)                    Action & Adventure  220.00  \n",
       "1    Cinema & Broadcast (Books)  Biographies, Diaries & True Accounts  202.93  \n",
       "2       International Relations                                Humour  299.00  \n",
       "3  Contemporary Fiction (Books)             Crime, Thriller & Mystery  180.00  \n",
       "4         Photography Textbooks              Arts, Film & Photography  965.62  "
      ]
     },
     "execution_count": 4,
     "metadata": {},
     "output_type": "execute_result"
    }
   ],
   "source": [
    "train.head()"
   ]
  },
  {
   "cell_type": "markdown",
   "metadata": {},
   "source": [
    "**Combining Dataset(Train + Test)** - _for cleaning and feature engineering_"
   ]
  },
  {
   "cell_type": "code",
   "execution_count": 5,
   "metadata": {
    "colab": {},
    "colab_type": "code",
    "id": "l2cxEmRw939g"
   },
   "outputs": [],
   "source": [
    "combined = pd.concat([train, test], sort=False)\n",
    "combined.reset_index(drop=True, inplace=True)"
   ]
  },
  {
   "cell_type": "markdown",
   "metadata": {
    "colab_type": "text",
    "id": "JHVL5no0sriG"
   },
   "source": [
    "# Feature Cleaning & Extraction"
   ]
  },
  {
   "cell_type": "code",
   "execution_count": 6,
   "metadata": {
    "colab": {},
    "colab_type": "code",
    "id": "735_cm_xyjes"
   },
   "outputs": [],
   "source": [
    "combined['Title'] = combined['Title'].str.lower()"
   ]
  },
  {
   "cell_type": "markdown",
   "metadata": {},
   "source": [
    "*Tried extracting subtitle from Title but didn't help*"
   ]
  },
  {
   "cell_type": "code",
   "execution_count": null,
   "metadata": {
    "colab": {},
    "colab_type": "code",
    "id": "dJh_T9pYMDlO"
   },
   "outputs": [],
   "source": [
    "# title_split = combined['Title'].str.split('\\(').str.join('--')\\\n",
    "#                                .str.split('\\)').str.join('--')\\\n",
    "#                                .str.split('--',expand=True,n=2)\n",
    "\n",
    "# combined['subtitle'] = title_split[1].fillna('None')\n",
    "# combined['Title'] = title_split[0]"
   ]
  },
  {
   "cell_type": "markdown",
   "metadata": {
    "colab_type": "text",
    "id": "SCM-zWL2ZprT"
   },
   "source": [
    "\n",
    "**Splitting Edition** - *to Edition Binding type and other feature*"
   ]
  },
  {
   "cell_type": "code",
   "execution_count": 7,
   "metadata": {
    "colab": {},
    "colab_type": "code",
    "id": "mruhMOL00s9-"
   },
   "outputs": [],
   "source": [
    "combined[['EditionBinding','EditionType1']] = \\\n",
    "    combined['Edition'].str.split(',– ',expand=True)"
   ]
  },
  {
   "cell_type": "code",
   "execution_count": null,
   "metadata": {},
   "outputs": [],
   "source": []
  },
  {
   "cell_type": "code",
   "execution_count": 8,
   "metadata": {},
   "outputs": [
    {
     "data": {
      "text/html": [
       "<div>\n",
       "<style scoped>\n",
       "    .dataframe tbody tr th:only-of-type {\n",
       "        vertical-align: middle;\n",
       "    }\n",
       "\n",
       "    .dataframe tbody tr th {\n",
       "        vertical-align: top;\n",
       "    }\n",
       "\n",
       "    .dataframe thead th {\n",
       "        text-align: right;\n",
       "    }\n",
       "</style>\n",
       "<table border=\"1\" class=\"dataframe\">\n",
       "  <thead>\n",
       "    <tr style=\"text-align: right;\">\n",
       "      <th></th>\n",
       "      <th>EditionBinding</th>\n",
       "      <th>EditionType1</th>\n",
       "    </tr>\n",
       "  </thead>\n",
       "  <tbody>\n",
       "    <tr>\n",
       "      <th>0</th>\n",
       "      <td>Paperback</td>\n",
       "      <td>10 Mar 2016</td>\n",
       "    </tr>\n",
       "    <tr>\n",
       "      <th>1</th>\n",
       "      <td>Paperback</td>\n",
       "      <td>7 Nov 2012</td>\n",
       "    </tr>\n",
       "    <tr>\n",
       "      <th>2</th>\n",
       "      <td>Paperback</td>\n",
       "      <td>25 Feb 1982</td>\n",
       "    </tr>\n",
       "    <tr>\n",
       "      <th>3</th>\n",
       "      <td>Paperback</td>\n",
       "      <td>5 Oct 2017</td>\n",
       "    </tr>\n",
       "    <tr>\n",
       "      <th>4</th>\n",
       "      <td>Hardcover</td>\n",
       "      <td>10 Oct 2006</td>\n",
       "    </tr>\n",
       "    <tr>\n",
       "      <th>...</th>\n",
       "      <td>...</td>\n",
       "      <td>...</td>\n",
       "    </tr>\n",
       "    <tr>\n",
       "      <th>7792</th>\n",
       "      <td>Paperback</td>\n",
       "      <td>14 Apr 2011</td>\n",
       "    </tr>\n",
       "    <tr>\n",
       "      <th>7793</th>\n",
       "      <td>Paperback</td>\n",
       "      <td>8 May 2013</td>\n",
       "    </tr>\n",
       "    <tr>\n",
       "      <th>7794</th>\n",
       "      <td>Paperback</td>\n",
       "      <td>6 Sep 2011</td>\n",
       "    </tr>\n",
       "    <tr>\n",
       "      <th>7795</th>\n",
       "      <td>Paperback</td>\n",
       "      <td>22 Sep 2009</td>\n",
       "    </tr>\n",
       "    <tr>\n",
       "      <th>7796</th>\n",
       "      <td>Paperback</td>\n",
       "      <td>16 Sep 2016</td>\n",
       "    </tr>\n",
       "  </tbody>\n",
       "</table>\n",
       "<p>7797 rows × 2 columns</p>\n",
       "</div>"
      ],
      "text/plain": [
       "     EditionBinding EditionType1\n",
       "0         Paperback  10 Mar 2016\n",
       "1         Paperback   7 Nov 2012\n",
       "2         Paperback  25 Feb 1982\n",
       "3         Paperback   5 Oct 2017\n",
       "4         Hardcover  10 Oct 2006\n",
       "...             ...          ...\n",
       "7792      Paperback  14 Apr 2011\n",
       "7793      Paperback   8 May 2013\n",
       "7794      Paperback   6 Sep 2011\n",
       "7795      Paperback  22 Sep 2009\n",
       "7796      Paperback  16 Sep 2016\n",
       "\n",
       "[7797 rows x 2 columns]"
      ]
     },
     "execution_count": 8,
     "metadata": {},
     "output_type": "execute_result"
    }
   ],
   "source": [
    "combined[['EditionBinding','EditionType1']]"
   ]
  },
  {
   "cell_type": "code",
   "execution_count": null,
   "metadata": {},
   "outputs": [],
   "source": []
  },
  {
   "cell_type": "code",
   "execution_count": null,
   "metadata": {},
   "outputs": [],
   "source": []
  },
  {
   "cell_type": "code",
   "execution_count": null,
   "metadata": {},
   "outputs": [],
   "source": []
  },
  {
   "cell_type": "code",
   "execution_count": null,
   "metadata": {},
   "outputs": [],
   "source": []
  },
  {
   "cell_type": "markdown",
   "metadata": {
    "colab_type": "text",
    "id": "GY8glWH3aA5j"
   },
   "source": [
    "**Binning Edition Binding** - *combined edition binding ( with occurence < 9 --> \"other\" )*"
   ]
  },
  {
   "cell_type": "code",
   "execution_count": 9,
   "metadata": {
    "colab": {},
    "colab_type": "code",
    "id": "kRuUs7z0mgm9"
   },
   "outputs": [],
   "source": [
    "edition_binding_dict = combined['EditionBinding'].value_counts().to_dict()\n",
    "\n",
    "combined['EditionBinding'] = combined['EditionBinding'].apply(lambda x: \\\n",
    "        (x if edition_binding_dict[x] > 9 else 'other'))"
   ]
  },
  {
   "cell_type": "code",
   "execution_count": null,
   "metadata": {},
   "outputs": [],
   "source": []
  },
  {
   "cell_type": "code",
   "execution_count": null,
   "metadata": {},
   "outputs": [],
   "source": []
  },
  {
   "cell_type": "code",
   "execution_count": null,
   "metadata": {},
   "outputs": [],
   "source": []
  },
  {
   "cell_type": "markdown",
   "metadata": {
    "colab_type": "text",
    "id": "wiUiYRc5aKfs"
   },
   "source": [
    "**Splitting Edition remainder part** - *extracting edition date and edition type*"
   ]
  },
  {
   "cell_type": "code",
   "execution_count": 12,
   "metadata": {
    "colab": {},
    "colab_type": "code",
    "id": "nN5uLDsvz2_l"
   },
   "outputs": [],
   "source": [
    "def split_edition_1(x):\n",
    "    j_arr = []\n",
    "    date = ''\n",
    "\n",
    "    for j in x.split(', '):\n",
    "        if not any(k.isnumeric() for k in j):\n",
    "            j_arr.append(j.strip())\n",
    "        else:\n",
    "            date = j\n",
    "\n",
    "    if ''.join(j_arr) != '':\n",
    "        ed = ', '.join(j_arr)\n",
    "    else:\n",
    "        ed = 'other'\n",
    "\n",
    "    if ed != 'Import' and ed != 'Illustrated' and ed \\\n",
    "        != 'Special Edition' and ed != 'Unabridged' and ed \\\n",
    "        != 'Student Edition' and ed != 'Box set' and ed \\\n",
    "        != 'International Edition' and ed != 'Abridged':\n",
    "        ed_ret = 'other'\n",
    "    else:\n",
    "        ed_ret = ed\n",
    "\n",
    "    return (ed_ret, date)"
   ]
  },
  {
   "cell_type": "code",
   "execution_count": 13,
   "metadata": {
    "colab": {},
    "colab_type": "code",
    "id": "jQfw294V4kAp"
   },
   "outputs": [],
   "source": [
    "combined['EditionType'],combined['EditionDate'] = \\\n",
    "    zip(*combined['EditionType1'].apply(split_edition_1))"
   ]
  },
  {
   "cell_type": "markdown",
   "metadata": {
    "colab_type": "text",
    "id": "t27P1c1UaNx9"
   },
   "source": [
    "**Splitting Edition date** - *extracting Month & Year*"
   ]
  },
  {
   "cell_type": "code",
   "execution_count": 15,
   "metadata": {
    "colab": {},
    "colab_type": "code",
    "id": "wzn0gZ7cz5FL"
   },
   "outputs": [],
   "source": [
    "def split_edition_date(x):\n",
    "    (mon, year) = ('', '')\n",
    "    if len(x.split()) == 1:\n",
    "        year = int(x)\n",
    "    elif len(x.split()) == 2:\n",
    "        mon = x.split()[0]\n",
    "        year = int(x.split()[1])\n",
    "    elif len(x.split()) == 3:\n",
    "        mon = x.split()[1]\n",
    "        year = int(x.split()[2])\n",
    "    return (mon, year)"
   ]
  },
  {
   "cell_type": "code",
   "execution_count": 16,
   "metadata": {
    "colab": {},
    "colab_type": "code",
    "id": "CsUCG9wn5FQl"
   },
   "outputs": [],
   "source": [
    "combined['EditionMon'], combined['EditionYear'] = \\\n",
    "    zip(*combined['EditionDate'].apply(split_edition_date))"
   ]
  },
  {
   "cell_type": "markdown",
   "metadata": {
    "colab_type": "text",
    "id": "cZIQ1X09ad8t"
   },
   "source": [
    "**Binning Month** - *combining quaterly*"
   ]
  },
  {
   "cell_type": "code",
   "execution_count": 17,
   "metadata": {
    "colab": {},
    "colab_type": "code",
    "id": "haaOc80IMHPp"
   },
   "outputs": [],
   "source": [
    "def bin_edition_mon(x):\n",
    "    x = x.lower()\n",
    "    if x == 'jan' or x == 'feb' or x == 'mar':\n",
    "        return 'first'\n",
    "    elif x == 'apr' or x == 'may' or x == 'jun':\n",
    "        return 'second'\n",
    "    elif x == 'jul' or x == 'aug' or x == 'sep':\n",
    "        return 'third'\n",
    "    elif x == '':\n",
    "        return ''\n",
    "    else:\n",
    "        return 'fourth'"
   ]
  },
  {
   "cell_type": "markdown",
   "metadata": {},
   "source": [
    "*making columns to mark null values*"
   ]
  },
  {
   "cell_type": "code",
   "execution_count": 18,
   "metadata": {
    "colab": {},
    "colab_type": "code",
    "id": "aKMVQ5Yx7OYQ"
   },
   "outputs": [],
   "source": [
    "combined['EditionMon'] = combined['EditionMon'].apply(bin_edition_mon)\n",
    "\n",
    "combined['Mon_null'] = combined['EditionMon'].apply(lambda x: \\\n",
    "        ('not_null' if x != '' else 'null'))\n",
    "combined['Year_null'] = combined['EditionYear'].apply(lambda x: \\\n",
    "        ('not_null' if x != '' else 'null'))"
   ]
  },
  {
   "cell_type": "markdown",
   "metadata": {},
   "source": [
    "**Imputing Month and Year** - *by most common values*"
   ]
  },
  {
   "cell_type": "code",
   "execution_count": 19,
   "metadata": {
    "colab": {},
    "colab_type": "code",
    "id": "Nk1hQqmeqNt7"
   },
   "outputs": [],
   "source": [
    "combined['EditionMon'].replace('', combined['EditionMon'].mode()[0],\n",
    "                               inplace=True)\n",
    "combined['EditionYear'].replace('', combined['EditionYear'].mode()[0],\n",
    "                                inplace=True)"
   ]
  },
  {
   "cell_type": "markdown",
   "metadata": {
    "colab_type": "text",
    "id": "T-D-4pDiawSG"
   },
   "source": [
    "**Extracting Reviews & Ratings** - *converting to numerical data*"
   ]
  },
  {
   "cell_type": "code",
   "execution_count": 20,
   "metadata": {
    "colab": {},
    "colab_type": "code",
    "id": "oPCsDZYn7w-m"
   },
   "outputs": [],
   "source": [
    "combined['Reviews'] = combined['Reviews'].apply(lambda x: \\\n",
    "        float(x.split()[0]))"
   ]
  },
  {
   "cell_type": "code",
   "execution_count": 21,
   "metadata": {
    "colab": {},
    "colab_type": "code",
    "id": "WcJxbDPJ8FVY"
   },
   "outputs": [],
   "source": [
    "combined['Ratings'] = combined['Ratings'].apply(lambda x: \\\n",
    "        int(''.join(x.split()[0].split(','))))"
   ]
  },
  {
   "cell_type": "markdown",
   "metadata": {
    "colab_type": "text",
    "id": "TBgm58278fCd"
   },
   "source": [
    "# Feature Engineering \n",
    "*Engineering new features*"
   ]
  },
  {
   "cell_type": "markdown",
   "metadata": {},
   "source": [
    "**Ratings and Reviews Ratio**"
   ]
  },
  {
   "cell_type": "code",
   "execution_count": 22,
   "metadata": {
    "colab": {},
    "colab_type": "code",
    "id": "eW93WtVdURNG"
   },
   "outputs": [],
   "source": [
    "combined['RatingPerReview'] = round(combined['Ratings']\n",
    "                                    / combined['Reviews'], 2)"
   ]
  },
  {
   "cell_type": "markdown",
   "metadata": {},
   "source": [
    "**Impact of Book Age on Reviews**"
   ]
  },
  {
   "cell_type": "code",
   "execution_count": 23,
   "metadata": {
    "colab": {},
    "colab_type": "code",
    "id": "3yLrTPEh9ikb"
   },
   "outputs": [],
   "source": [
    "combined['Review_Year_Impact'] = combined['Reviews'] \\\n",
    "    * combined['EditionYear'].apply(lambda x: 2019 - x)"
   ]
  },
  {
   "cell_type": "markdown",
   "metadata": {},
   "source": [
    "**Author Name Cleaning**"
   ]
  },
  {
   "cell_type": "code",
   "execution_count": 24,
   "metadata": {
    "colab": {},
    "colab_type": "code",
    "id": "79FsrRJKwv2l"
   },
   "outputs": [],
   "source": [
    "author_replacements = {' & ':', ',\"0\":\"other\",\"2\":\"other\",'A. P. J. Abdul Kalam':'A.P.J. Abdul Kalam','APJ Abdul Kalam':'A.P.J. Abdul Kalam','Agrawal P. K.': 'Agrawal P.K','Ajay K Pandey': 'Ajay K. Pandey','Aravinda Anantharaman': 'Aravinda Anatharaman','Arthur Conan Doyle': 'Sir Arthur Conan Doyle','B A Paris': 'B. A. Paris','E L James': 'E. L. James','E.L. James':'E. L. James','Eliyahu M Goldratt': 'Eliyahu M. Goldratt','Ernest Hemingway': 'Ernest Hemmingway','Frank Miler': 'Frank Miller','Fyodor Dostoevsky': 'Fyodor Dostoyevsky','George R R Martin': 'George R. R. Martin','George R.R. Martin':'George R. R. Martin','H. G. Wells': 'H.G. Wells','Johann Wolfgang Von Goethe': 'Johann Wolfgang von Goethe','John Le Carré': 'John le Carré','Judith McNaught': 'Judith Mcnaught','Keith Giffen': 'Kieth Giffen','Ken Hultgen': 'Ken Hultgren','Kentaro Miura': 'Kenturo Miura','Kohei Horikoshi': 'Kouhei Horikoshi','M.K Gandhi': 'M.K. Gandhi','Matthew K Manning': 'Matthew Manning','Michael Crichton': 'Micheal Crichton','N.K Aggarwala': 'N.K. Aggarwala','Oxford University Press (India)': 'Oxford University Press India','P D James': 'P. D. James','Paramahansa Yogananda': 'Paramhansa Yogananda','R K Laxman': 'R. K. Laxman','R.K. Laxman': 'R. K. Laxman','R. M. Lala': 'R.M. Lala','Raina Telgemaeier': 'Raina Telgemeier','Rajaraman': 'Rajaraman V','Rajiv M. Vijayakar': 'Rajiv Vijayakar','Ramachandra Guha': 'Ramchandra Guha','Rene Goscinny': 'René Goscinny','Richard P Feynman': 'Richard P. Feynman','S Giridhar': 'S. Giridhar','S Hussain Zaidi': 'S. Hussain Zaidi','S. A. Chakraborty': 'S. Chakraborty','Santosh Kumar K': 'Santosh Kumar K.',\"S.C. Gupta\" : \"S. C. Gupta\",'Shiv Prasad Koirala': 'Shivprasad Koirala','Shivaprasad Koirala': 'Shivprasad Koirala','Simone De Beauvoir': 'Simone de Beauvoir','Sir Arthur Conan Doyle': 'Arthur Conan Doyle',\"Terry O' Brien\": \"Terry O'Brien\",'Thich Nhat Hahn': 'Thich Nhat Hanh','Trinity College Lond': 'Trinity College London',\"Trinity College London Press\" : \"Trinity College London\",'Ursula K. Le Guin': 'Ursula Le Guin','Willard A Palmer': 'Willard A. Palmer','Willard Palmer': 'Willard A. Palmer','William Strunk Jr': 'William Strunk Jr.','Yashavant Kanetakr': 'Yashavant Kanetkar','Yashavant P. Kanetkar': 'Yashavant Kanetkar','Yashwant Kanetkar': 'Yashavant Kanetkar','et al': 'et al.',' et al': 'et al.','Peter Clutterbuck': ' Peter Clutterbuck','Scholastic': 'Scholastic ','Ullekh N. P.': 'Ullekh N.P.','Shalini Jain': 'Dr. Shalini Jain','Kevin Mitnick': 'Kevin D. Mitnick'}\n",
    "combined['Author'] = combined['Author'].replace(author_replacements,regex=True)"
   ]
  },
  {
   "cell_type": "markdown",
   "metadata": {},
   "source": [
    "**No. of Authors of a book**"
   ]
  },
  {
   "cell_type": "code",
   "execution_count": 25,
   "metadata": {
    "colab": {},
    "colab_type": "code",
    "id": "ZnB51hhxb_Wf"
   },
   "outputs": [],
   "source": [
    "combined['Authors_count'] = combined['Author'].apply(lambda x: \\\n",
    "        len(x.split(',')))"
   ]
  },
  {
   "cell_type": "markdown",
   "metadata": {},
   "source": [
    "**Average Author reviews**"
   ]
  },
  {
   "cell_type": "code",
   "execution_count": 26,
   "metadata": {
    "colab": {},
    "colab_type": "code",
    "id": "E3mdsXdJJOlw"
   },
   "outputs": [],
   "source": [
    "author_avg_review_dict = round(combined[combined.Authors_count== 1]\n",
    "                               .groupby('Author',sort=False)['Reviews']\n",
    "                               .mean(), 2).to_dict()"
   ]
  },
  {
   "cell_type": "code",
   "execution_count": 27,
   "metadata": {
    "colab": {},
    "colab_type": "code",
    "id": "DbUo4gH1JOMK"
   },
   "outputs": [],
   "source": [
    "def check_author(x):\n",
    "    reviews = []\n",
    "    for name in x.split(', '):\n",
    "        try:\n",
    "            reviews.append(author_avg_review_dict[name])\n",
    "        except:\n",
    "            pass\n",
    "    if len(reviews) != 0:\n",
    "        return sum(reviews) / len(reviews)\n",
    "    else:\n",
    "        return ''"
   ]
  },
  {
   "cell_type": "code",
   "execution_count": 28,
   "metadata": {
    "colab": {},
    "colab_type": "code",
    "id": "NgKCw_0QHy8R"
   },
   "outputs": [],
   "source": [
    "combined['AuthorAvgReview'] = combined['Author'].apply(check_author)\n",
    "combined['AuthorAvgReview'] = combined[['Reviews', 'AuthorAvgReview']]\\\n",
    "        .apply(lambda x: (x[0] if x[1] == '' else x[1]), axis=1)"
   ]
  },
  {
   "cell_type": "markdown",
   "metadata": {},
   "source": [
    "**No. of Books from an Author**"
   ]
  },
  {
   "cell_type": "code",
   "execution_count": 29,
   "metadata": {
    "colab": {},
    "colab_type": "code",
    "id": "IiipbDPzYYYu"
   },
   "outputs": [],
   "source": [
    "combined['Count_Author_Title'] = combined['Author'].map(combined.groupby('Author',sort=False)['Title'].apply(lambda x: len(x.unique())).to_dict())"
   ]
  },
  {
   "cell_type": "markdown",
   "metadata": {},
   "source": [
    "**No. of occurences of a Title**\n",
    "<br>\n",
    "**Average:** \n",
    "- Book - Author Count\n",
    "- Title - reviews"
   ]
  },
  {
   "cell_type": "code",
   "execution_count": 30,
   "metadata": {
    "colab": {},
    "colab_type": "code",
    "id": "6qrdpTPxw6B-"
   },
   "outputs": [],
   "source": [
    "combined['MEAN_Title_Authors_count'] = round(combined\n",
    "                                            .groupby('Title',sort=False)['Authors_count']\n",
    "                                            .transform('mean'), 2)\n",
    "\n",
    "combined['MEAN_Ttle_Reviews'] = round(combined\n",
    "                                      .groupby('Title',sort=False)['Reviews']\n",
    "                                      .transform('mean'), 2)\n",
    "\n",
    "combined['Title_count'] = combined.groupby('Title',sort=False)['Title']\\\n",
    "                                  .transform('count')"
   ]
  },
  {
   "cell_type": "markdown",
   "metadata": {},
   "source": [
    "**Various Categories of a book**"
   ]
  },
  {
   "cell_type": "code",
   "execution_count": 31,
   "metadata": {
    "colab": {},
    "colab_type": "code",
    "id": "fufLh4IlLPUs"
   },
   "outputs": [],
   "source": [
    "title_cat_dict = combined[combined.Authors_count == 1]\\\n",
    "                 .groupby('Title',sort=False)['BookCategory']\\\n",
    "                 .apply(lambda x: ', '.join(x)).to_dict()\n",
    "combined['TitleCategories'] = combined['Title'].map(title_cat_dict)\n",
    "combined['TitleCategories'] = combined[['BookCategory','TitleCategories']]\\\n",
    "                              .apply(lambda x: (x[0] if pd.isna(x[1]) else x[1]),axis=1)"
   ]
  },
  {
   "cell_type": "markdown",
   "metadata": {},
   "source": [
    "**Various Genres of a book**"
   ]
  },
  {
   "cell_type": "code",
   "execution_count": 32,
   "metadata": {
    "colab": {},
    "colab_type": "code",
    "id": "efxgzCG5LvC4"
   },
   "outputs": [],
   "source": [
    "title_genre_dict = combined[combined.Authors_count == 1]\\\n",
    "                   .groupby('Title',sort=False)['Genre']\\\n",
    "                   .apply(lambda x: ', '.join(x)).to_dict()\n",
    "combined['TitleGenres'] = combined['Title'].map(title_genre_dict)\n",
    "combined['TitleGenres'] = combined[['Genre', 'TitleGenres']]\\\n",
    "                          .apply(lambda x: (x[0] if pd.isna(x[1]) else x[1]), axis=1)"
   ]
  },
  {
   "cell_type": "markdown",
   "metadata": {},
   "source": [
    "**Various Category books written by an author**"
   ]
  },
  {
   "cell_type": "code",
   "execution_count": 33,
   "metadata": {
    "colab": {},
    "colab_type": "code",
    "id": "wHso5ZYzr0Fy"
   },
   "outputs": [],
   "source": [
    "author_cat_dict = combined[combined.Authors_count==1]\\\n",
    "                 .groupby('Author',sort=False)['BookCategory']\\\n",
    "                 .apply(lambda x: ', '.join(x)).to_dict()\n",
    "combined['AuthorCategories'] = combined['Author'].map(author_cat_dict)\n",
    "combined['AuthorCategories'] = combined[['BookCategory','AuthorCategories']]\\\n",
    "                               .apply(lambda x: x[0] if pd.isna(x[1]) else x[1],axis=1)"
   ]
  },
  {
   "cell_type": "markdown",
   "metadata": {},
   "source": [
    "**Various Genre books written by an author**"
   ]
  },
  {
   "cell_type": "code",
   "execution_count": 34,
   "metadata": {
    "colab": {},
    "colab_type": "code",
    "id": "l3Ph-kzNv1FS"
   },
   "outputs": [],
   "source": [
    "author_genre_dict = combined[combined.Authors_count==1]\\\n",
    "                    .groupby('Author',sort=False)['Genre']\\\n",
    "                    .apply(lambda x: ', '.join(x)).to_dict()\n",
    "combined['AuthorGenres'] = combined['Author'].map(author_genre_dict)\n",
    "combined['AuthorGenres'] = combined[['Genre','AuthorGenres']]\\\n",
    "                           .apply(lambda x: x[0] if pd.isna(x[1]) else x[1],axis=1)"
   ]
  },
  {
   "cell_type": "code",
   "execution_count": 35,
   "metadata": {
    "colab": {},
    "colab_type": "code",
    "id": "vy8HS_amN5KX"
   },
   "outputs": [],
   "source": [
    "combined['TitleGenres'] = combined['TitleGenres'].str.replace(' & ',', ')\n",
    "combined['AuthorGenres'] = combined['AuthorGenres'].str.replace(' & ',', ')\n",
    "combined['Genre'] = combined['Genre'].str.replace(' & ',', ')"
   ]
  },
  {
   "cell_type": "markdown",
   "metadata": {},
   "source": [
    "**Binning Edition Year ** - *by distribution over years*"
   ]
  },
  {
   "cell_type": "code",
   "execution_count": 36,
   "metadata": {
    "colab": {},
    "colab_type": "code",
    "id": "SmCPlrbHZsD2"
   },
   "outputs": [],
   "source": [
    "combined['EditionYearBin'] = pd.qcut(combined['EditionYear'],5,labels=False)"
   ]
  },
  {
   "cell_type": "code",
   "execution_count": null,
   "metadata": {},
   "outputs": [],
   "source": []
  },
  {
   "cell_type": "code",
   "execution_count": 37,
   "metadata": {},
   "outputs": [
    {
     "data": {
      "text/html": [
       "<div>\n",
       "<style scoped>\n",
       "    .dataframe tbody tr th:only-of-type {\n",
       "        vertical-align: middle;\n",
       "    }\n",
       "\n",
       "    .dataframe tbody tr th {\n",
       "        vertical-align: top;\n",
       "    }\n",
       "\n",
       "    .dataframe thead th {\n",
       "        text-align: right;\n",
       "    }\n",
       "</style>\n",
       "<table border=\"1\" class=\"dataframe\">\n",
       "  <thead>\n",
       "    <tr style=\"text-align: right;\">\n",
       "      <th></th>\n",
       "      <th>Title</th>\n",
       "      <th>Author</th>\n",
       "      <th>Edition</th>\n",
       "      <th>Reviews</th>\n",
       "      <th>Ratings</th>\n",
       "      <th>Synopsis</th>\n",
       "      <th>Genre</th>\n",
       "      <th>BookCategory</th>\n",
       "      <th>Price</th>\n",
       "      <th>EditionBinding</th>\n",
       "      <th>...</th>\n",
       "      <th>AuthorAvgReview</th>\n",
       "      <th>Count_Author_Title</th>\n",
       "      <th>MEAN_Title_Authors_count</th>\n",
       "      <th>MEAN_Ttle_Reviews</th>\n",
       "      <th>Title_count</th>\n",
       "      <th>TitleCategories</th>\n",
       "      <th>TitleGenres</th>\n",
       "      <th>AuthorCategories</th>\n",
       "      <th>AuthorGenres</th>\n",
       "      <th>EditionYearBin</th>\n",
       "    </tr>\n",
       "  </thead>\n",
       "  <tbody>\n",
       "    <tr>\n",
       "      <th>0</th>\n",
       "      <td>the prisoner's gold (the hunters 3)</td>\n",
       "      <td>Chris Kuzneski</td>\n",
       "      <td>Paperback,– 10 Mar 2016</td>\n",
       "      <td>4.0</td>\n",
       "      <td>8</td>\n",
       "      <td>THE HUNTERS return in their third brilliant no...</td>\n",
       "      <td>Action, Adventure (Books)</td>\n",
       "      <td>Action &amp; Adventure</td>\n",
       "      <td>220.00</td>\n",
       "      <td>Paperback</td>\n",
       "      <td>...</td>\n",
       "      <td>3.98</td>\n",
       "      <td>4</td>\n",
       "      <td>1.0</td>\n",
       "      <td>4.0</td>\n",
       "      <td>1</td>\n",
       "      <td>Action &amp; Adventure</td>\n",
       "      <td>Action, Adventure (Books)</td>\n",
       "      <td>Action &amp; Adventure, Crime, Thriller &amp; Mystery,...</td>\n",
       "      <td>Action, Adventure (Books), Crime, Thriller, My...</td>\n",
       "      <td>2</td>\n",
       "    </tr>\n",
       "    <tr>\n",
       "      <th>1</th>\n",
       "      <td>guru dutt: a tragedy in three acts</td>\n",
       "      <td>Arun Khopkar</td>\n",
       "      <td>Paperback,– 7 Nov 2012</td>\n",
       "      <td>3.9</td>\n",
       "      <td>14</td>\n",
       "      <td>A layered portrait of a troubled genius for wh...</td>\n",
       "      <td>Cinema, Broadcast (Books)</td>\n",
       "      <td>Biographies, Diaries &amp; True Accounts</td>\n",
       "      <td>202.93</td>\n",
       "      <td>Paperback</td>\n",
       "      <td>...</td>\n",
       "      <td>3.90</td>\n",
       "      <td>1</td>\n",
       "      <td>1.0</td>\n",
       "      <td>3.9</td>\n",
       "      <td>2</td>\n",
       "      <td>Biographies, Diaries &amp; True Accounts, Arts, Fi...</td>\n",
       "      <td>Cinema, Broadcast (Books), Cinema, Broadcast (...</td>\n",
       "      <td>Biographies, Diaries &amp; True Accounts, Arts, Fi...</td>\n",
       "      <td>Cinema, Broadcast (Books), Cinema, Broadcast (...</td>\n",
       "      <td>1</td>\n",
       "    </tr>\n",
       "    <tr>\n",
       "      <th>2</th>\n",
       "      <td>leviathan (penguin classics)</td>\n",
       "      <td>Thomas Hobbes</td>\n",
       "      <td>Paperback,– 25 Feb 1982</td>\n",
       "      <td>4.8</td>\n",
       "      <td>6</td>\n",
       "      <td>\"During the time men live without a common Pow...</td>\n",
       "      <td>International Relations</td>\n",
       "      <td>Humour</td>\n",
       "      <td>299.00</td>\n",
       "      <td>Paperback</td>\n",
       "      <td>...</td>\n",
       "      <td>4.80</td>\n",
       "      <td>1</td>\n",
       "      <td>1.0</td>\n",
       "      <td>4.8</td>\n",
       "      <td>3</td>\n",
       "      <td>Humour, Language, Linguistics &amp; Writing, Politics</td>\n",
       "      <td>International Relations, International Relatio...</td>\n",
       "      <td>Humour, Language, Linguistics &amp; Writing, Politics</td>\n",
       "      <td>International Relations, International Relatio...</td>\n",
       "      <td>0</td>\n",
       "    </tr>\n",
       "    <tr>\n",
       "      <th>3</th>\n",
       "      <td>a pocket full of rye (miss marple)</td>\n",
       "      <td>Agatha Christie</td>\n",
       "      <td>Paperback,– 5 Oct 2017</td>\n",
       "      <td>4.1</td>\n",
       "      <td>13</td>\n",
       "      <td>A handful of grain is found in the pocket of a...</td>\n",
       "      <td>Contemporary Fiction (Books)</td>\n",
       "      <td>Crime, Thriller &amp; Mystery</td>\n",
       "      <td>180.00</td>\n",
       "      <td>Paperback</td>\n",
       "      <td>...</td>\n",
       "      <td>4.23</td>\n",
       "      <td>78</td>\n",
       "      <td>1.0</td>\n",
       "      <td>4.1</td>\n",
       "      <td>1</td>\n",
       "      <td>Crime, Thriller &amp; Mystery</td>\n",
       "      <td>Contemporary Fiction (Books)</td>\n",
       "      <td>Crime, Thriller &amp; Mystery, Crime, Thriller &amp; M...</td>\n",
       "      <td>Contemporary Fiction (Books), Crime, Thriller,...</td>\n",
       "      <td>3</td>\n",
       "    </tr>\n",
       "    <tr>\n",
       "      <th>4</th>\n",
       "      <td>life 70 years of extraordinary photography</td>\n",
       "      <td>Editors of Life</td>\n",
       "      <td>Hardcover,– 10 Oct 2006</td>\n",
       "      <td>5.0</td>\n",
       "      <td>1</td>\n",
       "      <td>For seven decades, \"Life\" has been thrilling t...</td>\n",
       "      <td>Photography Textbooks</td>\n",
       "      <td>Arts, Film &amp; Photography</td>\n",
       "      <td>965.62</td>\n",
       "      <td>Hardcover</td>\n",
       "      <td>...</td>\n",
       "      <td>5.00</td>\n",
       "      <td>1</td>\n",
       "      <td>1.0</td>\n",
       "      <td>5.0</td>\n",
       "      <td>1</td>\n",
       "      <td>Arts, Film &amp; Photography</td>\n",
       "      <td>Photography Textbooks</td>\n",
       "      <td>Arts, Film &amp; Photography</td>\n",
       "      <td>Photography Textbooks</td>\n",
       "      <td>0</td>\n",
       "    </tr>\n",
       "  </tbody>\n",
       "</table>\n",
       "<p>5 rows × 30 columns</p>\n",
       "</div>"
      ],
      "text/plain": [
       "                                        Title           Author  \\\n",
       "0         the prisoner's gold (the hunters 3)   Chris Kuzneski   \n",
       "1          guru dutt: a tragedy in three acts     Arun Khopkar   \n",
       "2                leviathan (penguin classics)    Thomas Hobbes   \n",
       "3          a pocket full of rye (miss marple)  Agatha Christie   \n",
       "4  life 70 years of extraordinary photography  Editors of Life   \n",
       "\n",
       "                   Edition  Reviews  Ratings  \\\n",
       "0  Paperback,– 10 Mar 2016      4.0        8   \n",
       "1   Paperback,– 7 Nov 2012      3.9       14   \n",
       "2  Paperback,– 25 Feb 1982      4.8        6   \n",
       "3   Paperback,– 5 Oct 2017      4.1       13   \n",
       "4  Hardcover,– 10 Oct 2006      5.0        1   \n",
       "\n",
       "                                            Synopsis  \\\n",
       "0  THE HUNTERS return in their third brilliant no...   \n",
       "1  A layered portrait of a troubled genius for wh...   \n",
       "2  \"During the time men live without a common Pow...   \n",
       "3  A handful of grain is found in the pocket of a...   \n",
       "4  For seven decades, \"Life\" has been thrilling t...   \n",
       "\n",
       "                          Genre                          BookCategory   Price  \\\n",
       "0     Action, Adventure (Books)                    Action & Adventure  220.00   \n",
       "1     Cinema, Broadcast (Books)  Biographies, Diaries & True Accounts  202.93   \n",
       "2       International Relations                                Humour  299.00   \n",
       "3  Contemporary Fiction (Books)             Crime, Thriller & Mystery  180.00   \n",
       "4         Photography Textbooks              Arts, Film & Photography  965.62   \n",
       "\n",
       "  EditionBinding  ... AuthorAvgReview Count_Author_Title  \\\n",
       "0      Paperback  ...            3.98                  4   \n",
       "1      Paperback  ...            3.90                  1   \n",
       "2      Paperback  ...            4.80                  1   \n",
       "3      Paperback  ...            4.23                 78   \n",
       "4      Hardcover  ...            5.00                  1   \n",
       "\n",
       "  MEAN_Title_Authors_count MEAN_Ttle_Reviews  Title_count  \\\n",
       "0                      1.0               4.0            1   \n",
       "1                      1.0               3.9            2   \n",
       "2                      1.0               4.8            3   \n",
       "3                      1.0               4.1            1   \n",
       "4                      1.0               5.0            1   \n",
       "\n",
       "                                     TitleCategories  \\\n",
       "0                                 Action & Adventure   \n",
       "1  Biographies, Diaries & True Accounts, Arts, Fi...   \n",
       "2  Humour, Language, Linguistics & Writing, Politics   \n",
       "3                          Crime, Thriller & Mystery   \n",
       "4                           Arts, Film & Photography   \n",
       "\n",
       "                                         TitleGenres  \\\n",
       "0                          Action, Adventure (Books)   \n",
       "1  Cinema, Broadcast (Books), Cinema, Broadcast (...   \n",
       "2  International Relations, International Relatio...   \n",
       "3                       Contemporary Fiction (Books)   \n",
       "4                              Photography Textbooks   \n",
       "\n",
       "                                    AuthorCategories  \\\n",
       "0  Action & Adventure, Crime, Thriller & Mystery,...   \n",
       "1  Biographies, Diaries & True Accounts, Arts, Fi...   \n",
       "2  Humour, Language, Linguistics & Writing, Politics   \n",
       "3  Crime, Thriller & Mystery, Crime, Thriller & M...   \n",
       "4                           Arts, Film & Photography   \n",
       "\n",
       "                                        AuthorGenres  EditionYearBin  \n",
       "0  Action, Adventure (Books), Crime, Thriller, My...               2  \n",
       "1  Cinema, Broadcast (Books), Cinema, Broadcast (...               1  \n",
       "2  International Relations, International Relatio...               0  \n",
       "3  Contemporary Fiction (Books), Crime, Thriller,...               3  \n",
       "4                              Photography Textbooks               0  \n",
       "\n",
       "[5 rows x 30 columns]"
      ]
     },
     "execution_count": 37,
     "metadata": {},
     "output_type": "execute_result"
    }
   ],
   "source": [
    "combined.head()"
   ]
  },
  {
   "cell_type": "code",
   "execution_count": null,
   "metadata": {},
   "outputs": [],
   "source": []
  },
  {
   "cell_type": "code",
   "execution_count": null,
   "metadata": {},
   "outputs": [],
   "source": []
  },
  {
   "cell_type": "markdown",
   "metadata": {
    "colab_type": "text",
    "id": "7MI7ptBpg9ut"
   },
   "source": [
    "## Dummy & Count Encoding"
   ]
  },
  {
   "cell_type": "code",
   "execution_count": 38,
   "metadata": {
    "colab": {},
    "colab_type": "code",
    "id": "w9aayl0-783A"
   },
   "outputs": [],
   "source": [
    "from sklearn.preprocessing import LabelEncoder\n",
    "enc = LabelEncoder()\n",
    "combined[['BookCategory','EditionBinding','EditionMon','EditionType','EditionYearBin','Mon_null','Year_null',]] = \\\n",
    "combined[['BookCategory','EditionBinding','EditionMon','EditionType','EditionYearBin','Mon_null','Year_null',]]\\\n",
    "    .apply(enc.fit_transform)"
   ]
  },
  {
   "cell_type": "code",
   "execution_count": 39,
   "metadata": {
    "colab": {},
    "colab_type": "code",
    "id": "AHHzfO0mMX9z"
   },
   "outputs": [],
   "source": [
    "from sklearn.feature_extraction.text import CountVectorizer\n",
    "\n",
    "tc_vectorizer = CountVectorizer(lowercase=True, tokenizer=lambda x: \\\n",
    "                                 x.split(', '))\n",
    "title_categories_vector = tc_vectorizer.fit_transform(combined['TitleCategories']).toarray()\n",
    "df_title_categories = pd.DataFrame(data=title_categories_vector,\n",
    "                      columns=tc_vectorizer.get_feature_names())"
   ]
  },
  {
   "cell_type": "code",
   "execution_count": 40,
   "metadata": {
    "colab": {},
    "colab_type": "code",
    "id": "ZUPMuYwIuQHM"
   },
   "outputs": [],
   "source": [
    "ac_vectorizer = CountVectorizer(lowercase=True, \n",
    "                                 tokenizer=lambda x: x.split(', '))\n",
    "author_categories_vector = ac_vectorizer.fit_transform(combined['AuthorCategories']).toarray()\n",
    "df_author_categories = pd.DataFrame(data=author_categories_vector,\n",
    "                      columns=ac_vectorizer.get_feature_names())"
   ]
  },
  {
   "cell_type": "code",
   "execution_count": 41,
   "metadata": {
    "colab": {},
    "colab_type": "code",
    "id": "8b1zSmCZMj6a"
   },
   "outputs": [],
   "source": [
    "tg_vectorizer = CountVectorizer(max_features=10, lowercase=True,\n",
    "                                tokenizer=lambda x: x.split(', '))\n",
    "title_genres_vector = tg_vectorizer.fit_transform(combined['TitleGenres']).toarray()\n",
    "df_title_genres = pd.DataFrame(data=title_genres_vector,\n",
    "                     columns=tg_vectorizer.get_feature_names())"
   ]
  },
  {
   "cell_type": "code",
   "execution_count": 42,
   "metadata": {
    "colab": {},
    "colab_type": "code",
    "id": "rWjmc8-CwSxl"
   },
   "outputs": [],
   "source": [
    "ag_vectorizer = CountVectorizer(max_features=10, lowercase=True,\n",
    "                                    tokenizer=lambda x: x.split(', '))\n",
    "author_genres_vector = ag_vectorizer.fit_transform(combined['AuthorGenres']).toarray()\n",
    "df_author_genres = pd.DataFrame(data=author_genres_vector,\n",
    "                         columns=ag_vectorizer.get_feature_names())"
   ]
  },
  {
   "cell_type": "code",
   "execution_count": 43,
   "metadata": {
    "colab": {},
    "colab_type": "code",
    "id": "IcRp_bzdRgRi"
   },
   "outputs": [],
   "source": [
    "title_vectorizer = CountVectorizer(max_features=10, lowercase=True)\n",
    "title_vector = title_vectorizer.fit_transform(combined['Title']).toarray()\n",
    "df_title = pd.DataFrame(data=title_vector,\n",
    "                        columns=title_vectorizer.get_feature_names())"
   ]
  },
  {
   "cell_type": "code",
   "execution_count": 44,
   "metadata": {
    "colab": {},
    "colab_type": "code",
    "id": "V7-pX_TF4igc"
   },
   "outputs": [],
   "source": [
    "vectorizer_author = CountVectorizer(max_features=10, lowercase=True,\n",
    "                                    tokenizer=lambda x: x.split(', '))\n",
    "vector_author = vectorizer_author.fit_transform(combined['Author']).toarray()\n",
    "df_author = pd.DataFrame(data=vector_author,\n",
    "                         columns=vectorizer_author.get_feature_names())"
   ]
  },
  {
   "cell_type": "code",
   "execution_count": 45,
   "metadata": {
    "colab": {},
    "colab_type": "code",
    "id": "681mOJMW4ySX"
   },
   "outputs": [],
   "source": [
    "vectorizer_genre = CountVectorizer(max_features=10,\n",
    "                                   lowercase=True, tokenizer=lambda x: x.split(', '))\n",
    "vector_genre = vectorizer_genre.fit_transform(combined['Genre']).toarray()\n",
    "df_genre = pd.DataFrame(data=vector_genre,\n",
    "                        columns=vectorizer_genre.get_feature_names())"
   ]
  },
  {
   "cell_type": "code",
   "execution_count": 46,
   "metadata": {
    "colab": {},
    "colab_type": "code",
    "id": "zZGeyBueus6C"
   },
   "outputs": [],
   "source": [
    "vectorizer_synopsis = CountVectorizer(max_features=10,\n",
    "                                      stop_words='english', \n",
    "                                      strip_accents='ascii', \n",
    "                                      lowercase=True)\n",
    "vector_synopsis = vectorizer_synopsis.fit_transform(combined['Synopsis']).toarray()\n",
    "df_synopsis = pd.DataFrame(data=vector_synopsis,\n",
    "                           columns=vectorizer_synopsis.get_feature_names())"
   ]
  },
  {
   "cell_type": "code",
   "execution_count": 47,
   "metadata": {
    "colab": {},
    "colab_type": "code",
    "id": "_YZZKYgYUebN"
   },
   "outputs": [],
   "source": [
    "combined.drop(columns=[\n",
    "    'Title',\n",
    "    'Author',\n",
    "    'Genre',\n",
    "    'Synopsis',\n",
    "    'Edition',\n",
    "    'EditionDate',\n",
    "    'EditionType1',\n",
    "    'AuthorCategories',\n",
    "    'AuthorGenres',\n",
    "    'TitleGenres',\n",
    "    'TitleCategories'\n",
    "    ], inplace=True)"
   ]
  },
  {
   "cell_type": "code",
   "execution_count": 48,
   "metadata": {
    "cellView": "form",
    "colab": {
     "base_uri": "https://localhost:8080/",
     "height": 33
    },
    "colab_type": "code",
    "executionInfo": {
     "elapsed": 14114,
     "status": "ok",
     "timestamp": 1572169257989,
     "user": {
      "displayName": "Himanshu Saini",
      "photoUrl": "https://lh3.googleusercontent.com/a-/AAuE7mAjE9mZ2NzcI5uuLrEuZ1SNzd5Vp87FTCFGA5aYcwg=s64",
      "userId": "08483872662102224854"
     },
     "user_tz": -330
    },
    "id": "t9Y_b7SMo0Rm",
    "outputId": "4930360b-9fa9-471f-f7e4-5c7a4bf86ea3"
   },
   "outputs": [
    {
     "name": "stdout",
     "output_type": "stream",
     "text": [
      "No. of Features: 19\n"
     ]
    }
   ],
   "source": [
    "print('No. of Features:',combined.shape[1])"
   ]
  },
  {
   "cell_type": "markdown",
   "metadata": {
    "colab_type": "text",
    "id": "8AiXVa6a2a9W"
   },
   "source": [
    "**Feature correlations**"
   ]
  },
  {
   "cell_type": "code",
   "execution_count": 49,
   "metadata": {
    "colab": {},
    "colab_type": "code",
    "id": "yO8RlluBSdq2"
   },
   "outputs": [],
   "source": [
    "df = pd.concat([\n",
    "    combined,# dummy encoded features\n",
    "    df_author, # author count encoded\n",
    "    df_genre, # genre count encoded\n",
    "    df_title, # title count encoded\n",
    "    df_synopsis, # synopsis count encoded\n",
    "    df_author_genres, # author_genres count encoded\n",
    "    df_title_genres, # title_genres count encoded\n",
    "    df_author_categories, # author_categories count encoded\n",
    "    df_title_categories, # title_categories count encoded\n",
    "    ], axis=1)\n",
    "df.reset_index(drop=True, inplace=True)"
   ]
  },
  {
   "cell_type": "code",
   "execution_count": null,
   "metadata": {
    "cellView": "both",
    "colab": {},
    "colab_type": "code",
    "id": "lLpRm9y7ALwN"
   },
   "outputs": [],
   "source": [
    "# feature correlations\n",
    "# corr = df.corr()\n",
    "# corr = corr[(corr.Price>-0.005) & (corr.Price< 0.005)]\n",
    "# corr = pd.concat([corr[corr.index],corr.Price],axis=1)\n",
    "# plt.figure(figsize=(10,10))\n",
    "# sns.heatmap(corr, xticklabels=corr.columns,\n",
    "#                     yticklabels=corr.columns,\n",
    "#                     vmin=-0.1, vmax=0.1\n",
    "#             )"
   ]
  },
  {
   "cell_type": "code",
   "execution_count": 50,
   "metadata": {
    "cellView": "form",
    "colab": {
     "base_uri": "https://localhost:8080/",
     "height": 33
    },
    "colab_type": "code",
    "executionInfo": {
     "elapsed": 53499,
     "status": "ok",
     "timestamp": 1572169297753,
     "user": {
      "displayName": "Himanshu Saini",
      "photoUrl": "https://lh3.googleusercontent.com/a-/AAuE7mAjE9mZ2NzcI5uuLrEuZ1SNzd5Vp87FTCFGA5aYcwg=s64",
      "userId": "08483872662102224854"
     },
     "user_tz": -330
    },
    "id": "1TnmutiziCCe",
    "outputId": "cdccd6b1-adb6-454c-b534-2f042ef2e9c3"
   },
   "outputs": [
    {
     "name": "stdout",
     "output_type": "stream",
     "text": [
      "No. of Features(final): 111\n"
     ]
    }
   ],
   "source": [
    "print('No. of Features(final):',df.shape[1])"
   ]
  },
  {
   "cell_type": "markdown",
   "metadata": {
    "colab_type": "text",
    "id": "4hDbFdj_Q4s2"
   },
   "source": [
    "# Train / Test / Val Split"
   ]
  },
  {
   "cell_type": "code",
   "execution_count": 51,
   "metadata": {
    "colab": {},
    "colab_type": "code",
    "id": "U7XfzZocP1jD"
   },
   "outputs": [],
   "source": [
    "train = df[df['Price'].notna()]\n",
    "test = df[df['Price'].isna()]\n",
    "test.drop(['Price'], axis=1, inplace=True)"
   ]
  },
  {
   "cell_type": "code",
   "execution_count": 52,
   "metadata": {
    "colab": {},
    "colab_type": "code",
    "id": "ymNfJLbw8Nzo"
   },
   "outputs": [],
   "source": [
    "# train = train[(train['Price'] <= 12000) \n",
    "#             & (train['EditionYear']>= 1980) \n",
    "#             & (train['Ratings'] < 680)]\n",
    "train = train[train['Price'] <= 12000]"
   ]
  },
  {
   "cell_type": "code",
   "execution_count": 53,
   "metadata": {
    "colab": {},
    "colab_type": "code",
    "id": "A8FGafyv9odJ"
   },
   "outputs": [],
   "source": [
    "X = train.loc[:, train.columns != 'Price'].values\n",
    "X = X.astype(float)\n",
    "\n",
    "# Dependent Variable\n",
    "\n",
    "y = np.log1p(train['Price'].values)\n",
    "y = y.astype(float)\n",
    "\n",
    "# Test - (Independent Variables)\n",
    "\n",
    "test = test.loc[:].values\n",
    "test = test.astype(float)"
   ]
  },
  {
   "cell_type": "markdown",
   "metadata": {
    "colab_type": "text",
    "id": "A0y90v4wQyHW"
   },
   "source": [
    "# Model Training"
   ]
  },
  {
   "cell_type": "markdown",
   "metadata": {
    "colab_type": "text",
    "id": "bqTVmai72yAI"
   },
   "source": [
    "**Importing libraries**"
   ]
  },
  {
   "cell_type": "code",
   "execution_count": 54,
   "metadata": {
    "cellView": "both",
    "colab": {},
    "colab_type": "code",
    "id": "5eR9PA0Z6ypx"
   },
   "outputs": [],
   "source": [
    "import xgboost as xgb\n",
    "import lightgbm as lgb\n",
    "from sklearn.metrics import make_scorer\n",
    "from xgboost.sklearn import XGBRegressor\n",
    "from sklearn.model_selection \\\n",
    "    import cross_val_score, GridSearchCV, RandomizedSearchCV\n",
    "from sklearn.ensemble \\\n",
    "    import RandomForestRegressor, VotingRegressor, AdaBoostRegressor"
   ]
  },
  {
   "cell_type": "markdown",
   "metadata": {
    "colab_type": "text",
    "id": "x-lgXrPD22-d"
   },
   "source": [
    "**RMLSE scoring func**"
   ]
  },
  {
   "cell_type": "code",
   "execution_count": 55,
   "metadata": {
    "cellView": "both",
    "colab": {},
    "colab_type": "code",
    "id": "Yegq84FX-R5x"
   },
   "outputs": [],
   "source": [
    "def score(y_true, y_pred):\n",
    "    y_pred = np.exp(y_pred) - 1\n",
    "    for i in range(len(y_pred)):\n",
    "        if y_pred[i] < 0:\n",
    "            y_pred[i] = 0\n",
    "    y_true = np.exp(y_true) - 1\n",
    "    error = np.square(np.log10(y_pred + 1) - np.log10(y_true\n",
    "                      + 1)).mean() ** 0.5\n",
    "    score = 1 - error\n",
    "    return score"
   ]
  },
  {
   "cell_type": "markdown",
   "metadata": {
    "colab_type": "text",
    "id": "0TQKT6ISkcI3"
   },
   "source": [
    "#### RandomForestRegressor"
   ]
  },
  {
   "cell_type": "code",
   "execution_count": 56,
   "metadata": {
    "colab": {},
    "colab_type": "code",
    "id": "24pRhEz07KOw"
   },
   "outputs": [
    {
     "name": "stderr",
     "output_type": "stream",
     "text": [
      "[Parallel(n_jobs=-1)]: Using backend LokyBackend with 8 concurrent workers.\n",
      "[Parallel(n_jobs=-1)]: Done   2 out of   5 | elapsed:   16.6s remaining:   25.0s\n",
      "[Parallel(n_jobs=-1)]: Done   5 out of   5 | elapsed:   16.7s remaining:    0.0s\n",
      "[Parallel(n_jobs=-1)]: Done   5 out of   5 | elapsed:   16.7s finished\n"
     ]
    }
   ],
   "source": [
    "rf = RandomForestRegressor(random_state=0,bootstrap=False,max_features='sqrt')\n",
    "\n",
    "cvs = cross_val_score(rf, X, y, cv=5,verbose=2,n_jobs=-1,\n",
    "                      scoring=make_scorer(score,greater_is_better=True))\n",
    "mean_score = sum(cvs)/len(cvs)\n",
    "# print(\"Average Score:\",mean_score)"
   ]
  },
  {
   "cell_type": "markdown",
   "metadata": {
    "colab_type": "text",
    "id": "NvWKNypckgwF"
   },
   "source": [
    "#### LGBMRegressor"
   ]
  },
  {
   "cell_type": "code",
   "execution_count": 57,
   "metadata": {
    "colab": {
     "base_uri": "https://localhost:8080/",
     "height": 66
    },
    "colab_type": "code",
    "executionInfo": {
     "elapsed": 43354,
     "status": "ok",
     "timestamp": 1572169363663,
     "user": {
      "displayName": "Himanshu Saini",
      "photoUrl": "https://lh3.googleusercontent.com/a-/AAuE7mAjE9mZ2NzcI5uuLrEuZ1SNzd5Vp87FTCFGA5aYcwg=s64",
      "userId": "08483872662102224854"
     },
     "user_tz": -330
    },
    "id": "MxeGOiqbDkt1",
    "outputId": "b9ba5d2b-9561-4633-d8d7-eb89cef2d196"
   },
   "outputs": [
    {
     "name": "stderr",
     "output_type": "stream",
     "text": [
      "[Parallel(n_jobs=-1)]: Using backend LokyBackend with 8 concurrent workers.\n",
      "[Parallel(n_jobs=-1)]: Done   2 out of   5 | elapsed:    7.4s remaining:   11.2s\n",
      "[Parallel(n_jobs=-1)]: Done   5 out of   5 | elapsed:    7.5s remaining:    0.0s\n",
      "[Parallel(n_jobs=-1)]: Done   5 out of   5 | elapsed:    7.5s finished\n"
     ]
    }
   ],
   "source": [
    "lgbm = lgb.LGBMRegressor(random_state=0,n_jobs=-1)\n",
    "\n",
    "cvs = cross_val_score(lgbm, X, y, cv=5,verbose=2,n_jobs=-1,\n",
    "                      scoring=make_scorer(score,greater_is_better=True))\n",
    "mean_score = sum(cvs)/len(cvs)\n",
    "# print(\"Average Score:\",mean_score)"
   ]
  },
  {
   "cell_type": "markdown",
   "metadata": {
    "colab_type": "text",
    "id": "KXOW8zLhkZEK"
   },
   "source": [
    "#### XGBRegressor"
   ]
  },
  {
   "cell_type": "code",
   "execution_count": 58,
   "metadata": {
    "colab": {},
    "colab_type": "code",
    "id": "AoBJpXBCmlAq"
   },
   "outputs": [
    {
     "name": "stderr",
     "output_type": "stream",
     "text": [
      "[Parallel(n_jobs=-1)]: Using backend LokyBackend with 8 concurrent workers.\n",
      "[Parallel(n_jobs=-1)]: Done   2 out of   5 | elapsed:    4.5s remaining:    6.8s\n",
      "[Parallel(n_jobs=-1)]: Done   5 out of   5 | elapsed:    6.2s remaining:    0.0s\n",
      "[Parallel(n_jobs=-1)]: Done   5 out of   5 | elapsed:    6.2s finished\n"
     ]
    }
   ],
   "source": [
    "xgb = XGBRegressor(n_jobs=-1)\n",
    "\n",
    "cvs = cross_val_score(xgb, X, y, cv=5,verbose=2,n_jobs=-1,\n",
    "                        scoring=make_scorer(score,greater_is_better=True))\n",
    "mean_score = sum(cvs)/len(cvs)\n",
    "# print(\"Average Score:\",mean_score)"
   ]
  },
  {
   "cell_type": "markdown",
   "metadata": {
    "colab_type": "text",
    "id": "FSkJZpGskPGs"
   },
   "source": [
    "#### VotingRegressor"
   ]
  },
  {
   "cell_type": "code",
   "execution_count": 59,
   "metadata": {
    "colab": {},
    "colab_type": "code",
    "id": "d-GYzZcyH6_3"
   },
   "outputs": [
    {
     "name": "stdout",
     "output_type": "stream",
     "text": [
      "[Parallel(n_jobs=-1)]: Using backend LokyBackend with 8 concurrent workers.\n",
      "[Parallel(n_jobs=-1)]: Done   1 tasks      | elapsed:   11.0s\n",
      "[Parallel(n_jobs=-1)]: Done   2 out of   5 | elapsed:   11.0s remaining:   16.6s\n",
      "[Parallel(n_jobs=-1)]: Done   3 out of   5 | elapsed:   11.1s remaining:    7.4s\n",
      "[Parallel(n_jobs=-1)]: Done   5 out of   5 | elapsed:   11.3s remaining:    0.0s\n",
      "[Parallel(n_jobs=-1)]: Done   5 out of   5 | elapsed:   11.3s finished\n"
     ]
    }
   ],
   "source": [
    "vr = VotingRegressor([('xgb', xgb), ('rf', rf), ('lgbm', lgbm)])\n",
    "\n",
    "cvs = cross_val_score(vr, X, y, cv=5,verbose=50,n_jobs=-1,\n",
    "                        scoring=make_scorer(score,greater_is_better=True))\n",
    "mean_score = sum(cvs)/len(cvs)\n",
    "# print(\"Average Score:\",mean_score)"
   ]
  },
  {
   "cell_type": "markdown",
   "metadata": {
    "colab_type": "text",
    "id": "2M9BlzTPRNEY"
   },
   "source": [
    "# Final Predictions"
   ]
  },
  {
   "cell_type": "code",
   "execution_count": 60,
   "metadata": {
    "colab": {},
    "colab_type": "code",
    "id": "LBUmwjbrZegx"
   },
   "outputs": [
    {
     "name": "stdout",
     "output_type": "stream",
     "text": [
      "[15:58:24] WARNING: src/objective/regression_obj.cu:152: reg:linear is now deprecated in favor of reg:squarederror.\n"
     ]
    }
   ],
   "source": [
    "vr.fit(X, y)\n",
    "Y_pred2 = vr.predict(test)\n",
    "Y_pred2 = np.exp(Y_pred2)-1\n",
    "for i in range(len(Y_pred2)):\n",
    "      if Y_pred2[i] < 0:\n",
    "         Y_pred2[i] = 0\n",
    "\n",
    "pd.DataFrame(Y_pred2, columns = ['Price'])\\\n",
    "    .to_excel(\"predictions.xlsx\", index=False)"
   ]
  },
  {
   "cell_type": "code",
   "execution_count": null,
   "metadata": {},
   "outputs": [],
   "source": []
  }
 ],
 "metadata": {
  "colab": {
   "collapsed_sections": [],
   "machine_shape": "hm",
   "name": "v4_books_price_prediction.ipynb",
   "provenance": [
    {
     "file_id": "1LOfPRU67z-0dbuhXkJ5QNJ73BW5SHBno",
     "timestamp": 1571301541612
    },
    {
     "file_id": "17XQaUuUxuV1hcp5RlTYomaKWD3AwqTWK",
     "timestamp": 1570513455609
    },
    {
     "file_id": "1lEeawygsOAF6cTvCuI702H52K-MxyZtJ",
     "timestamp": 1570078407315
    },
    {
     "file_id": "1HnqrzZT4tHNqDtE8vFwjlQLRfu4GJ-wT",
     "timestamp": 1569931064567
    }
   ]
  },
  "kernelspec": {
   "display_name": "Python 3",
   "language": "python",
   "name": "python3"
  },
  "language_info": {
   "codemirror_mode": {
    "name": "ipython",
    "version": 3
   },
   "file_extension": ".py",
   "mimetype": "text/x-python",
   "name": "python",
   "nbconvert_exporter": "python",
   "pygments_lexer": "ipython3",
   "version": "3.7.4"
  }
 },
 "nbformat": 4,
 "nbformat_minor": 1
}
